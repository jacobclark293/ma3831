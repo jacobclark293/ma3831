{
 "cells": [
  {
   "cell_type": "code",
   "outputs": [],
   "source": [
    "import requests"
   ],
   "metadata": {
    "collapsed": false,
    "ExecuteTime": {
     "end_time": "2024-05-09T06:20:08.055039700Z",
     "start_time": "2024-05-09T06:20:07.955833100Z"
    }
   },
   "id": "2d4c07b4dccbb982",
   "execution_count": 3
  },
  {
   "cell_type": "markdown",
   "source": [
    "**last.fm API to retrieve top x songs by genre (tag)**\n",
    "\n",
    "Application name\teducational - no application\n",
    "API key\te8934c6a9bbb9395fb830b15a53f2916\n",
    "Shared secret\t6d093f7d7b4b55ea5008303a24cd2ca5\n",
    "Registered to\tpajamasam29"
   ],
   "metadata": {
    "collapsed": false
   },
   "id": "10c7347cca6ee0a9"
  },
  {
   "cell_type": "markdown",
   "source": [
    "send user to last.fm/api/auth/?api_key=xxx\n",
    "\n",
    "\n",
    " /2.0/?method=tag.gettoptracks&tag=disco&api_key=YOUR_API_KEY&format=json"
   ],
   "metadata": {
    "collapsed": false
   },
   "id": "5af17826d363bd02"
  },
  {
   "cell_type": "code",
   "outputs": [],
   "source": [
    "api_key = \"e8934c6a9bbb9395fb830b15a53f2916\"\n",
    "#end_point = 'last.fm/api/auth/'\n",
    "\n",
    "end_point = \"http://ws.audioscrobbler.com/2.0/\"\n",
    "\n",
    "def get_songs_from_lastfm(tag, number_of_songs):\n",
    "    response = requests.get('http://ws.audioscrobbler.com/2.0/?method=tag.gettoptracks&tag='+tag+'&limit='+str(number_of_songs)+'&api_key=e8934c6a9bbb9395fb830b15a53f2916&format=json').json()\n",
    "    collection = response['tracks']['track']\n",
    "    song_list = []\n",
    "    for song in collection:\n",
    "        #print(song['name'])\n",
    "        title = song['name']\n",
    "        song_list.append(title)\n",
    "    return song_list\n"
   ],
   "metadata": {
    "collapsed": false,
    "ExecuteTime": {
     "end_time": "2024-05-09T07:23:54.742646700Z",
     "start_time": "2024-05-09T07:23:54.723586500Z"
    }
   },
   "id": "6cc96ffd2c51ec99",
   "execution_count": 157
  },
  {
   "cell_type": "code",
   "outputs": [
    {
     "data": {
      "text/plain": "['Stronger',\n 'Heartless',\n 'Clint Eastwood',\n 'Hey Ya!',\n 'Ms. Jackson',\n 'In Da Club',\n 'Without Me',\n 'The Real Slim Shady',\n 'It Was A Good Day',\n 'Best I Ever Had',\n 'See You Again (feat. Kali Uchis)',\n 'HUMBLE.',\n 'Flashing Lights',\n 'Gold Digger',\n 'All of the Lights',\n \"Can't Tell Me Nothing\",\n 'Still D.R.E.',\n 'Lose Yourself',\n 'Power',\n 'Money Trees',\n \"Gangsta's Paradise\",\n 'I Wonder',\n 'Earfquake',\n 'Bound 2',\n 'Starships',\n 'Stressed Out',\n 'Stan',\n 'Super Bass',\n 'Kiss Me More (feat. SZA)',\n 'Pump It',\n 'The Next Episode',\n 'Mockingbird',\n 'Alright',\n 'Lollipop',\n 'Sunflower - Spider-Man: Into the Spider-Verse',\n 'Father Stretch My Hands Pt. 1',\n 'Love The Way You Lie',\n \"Can't Hold Us (feat. Ray Dalton)\",\n 'All The Stars (with SZA)',\n 'Slow dancing in the dark',\n 'DNA.',\n 'Runaway',\n 'NEW MAGIC WAND',\n '7 rings',\n 'PRIDE.',\n 'Woman',\n 'Candy Shop',\n 'No Role Modelz',\n 'Hate it or love it',\n 'nights',\n 'Beautiful Girls',\n 'Dark Horse',\n 'Replay',\n 'Boom Boom Pow',\n 'The Way I Are',\n 'Love Lockdown',\n 'LOVE. FEAT. ZACARI.',\n \"Boy's a liar Pt. 2\",\n 'Heat Waves',\n 'Black Skinhead',\n 'Bitch, Don’t Kill My Vibe',\n 'Sabotage',\n 'Montero (Call Me By Your Name)',\n 'Thrift Shop (feat. Wanz)',\n 'Circles',\n 'Homecoming',\n 'Passionfruit',\n 'Not Afraid',\n 'All Falls Down',\n 'Meet Me Halfway',\n 'Dark Fantasy',\n 'King Kunta',\n 'Jesus Walks',\n '99 Problems',\n 'My Name Is',\n 'Forever',\n 'Through the Wire',\n 'Whatever You Like',\n 'Some',\n 'Chanel',\n '3005',\n \"God's Plan\",\n 'INDUSTRY BABY (feat. Jack Harlow)',\n 'Champion',\n 'Devil In A New Dress',\n 'XO TOUR Llif3',\n 'Ride',\n 'Need To Know',\n 'Needed Me',\n 'Crazy In Love (feat. Jay-Z)',\n 'BEST INTEREST',\n 'Soundtrack 2 My Life',\n 'Hotline Bling',\n 'Empire State Of Mind',\n 'Goosebumps',\n 'Pursuit of Happiness (Nightmare)',\n 'Ni**as In Paris',\n 'N.Y. State of Mind',\n 'Levitating (feat. DaBaby)',\n 'Say So',\n 'Low (feat. T-Pain)',\n 'Stay (with Justin Bieber)',\n \"Hold On, We're Going Home\",\n 'GONE, GONE / THANK YOU',\n 'Heartless',\n 'Streets',\n 'Heathens',\n 'Dilemma',\n \"Drop It Like It's Hot\",\n 'My Humps',\n 'Swimming Pools (Drank)',\n 'Backseat Freestyle',\n 'Sing for the Moment',\n 'Hot In Herre',\n 'Monster',\n 'Good Life',\n 'N95',\n 'wAp (fEAt. mEgAn thEe stAllIOn)',\n 'SICKO MODE',\n 'Poetic Justice',\n \"Creepin' (with The Weeknd & 21 Savage)\",\n 'Kiss Me Thru The Phone',\n 'Forgot About Dre',\n 'Killing Me Softly with His Song',\n 'You Right',\n 'rockstar (feat. 21 Savage)',\n 'Beauty and a Beat',\n 'I THINK',\n 'Juicy',\n 'Sky',\n 'Wet Dreamz',\n 'Lucid Dreams',\n 'Superman',\n 'Paint the Town Red',\n 'Magnolia',\n 'Violent Crimes',\n 'Jocelyn Flores',\n 'm.A.A.d city',\n 'Famous',\n 'The World Is Yours',\n 'Temperature',\n 'Touch The Sky',\n 'LOYALTY. FEAT. RIHANNA.',\n 'Bad Girls',\n 'Heartbeat',\n 'Good Morning',\n 'Family Ties (with Kendrick Lamar)',\n 'Work',\n 'P.I.M.P.',\n 'God is a Woman',\n 'Ghost Town',\n 'RUNNING OUT OF TIME',\n 'Hotel Room Service',\n 'Insane in the Brain',\n 'Over',\n 'Mask Off',\n 'Side To Side',\n \"U Can't Touch This\",\n 'Fancy',\n 'Sundress',\n 'The Way I Am',\n \"Day 'n' Nite (Nightmare)\",\n 'All Caps',\n 'Praise The Lord (Da Shine) (feat. Skepta)',\n 'Revenge',\n 'bury a friend',\n 'Butterfly',\n 'Everything I Am',\n 'United In Grief',\n 'Rapp Snitch Knishes feat. Mr. Fantastik',\n 'SAD!',\n 'No Diggity',\n 'Ride Wit Me',\n \"Ain't Shit\",\n 'A.D.H.D']"
     },
     "execution_count": 158,
     "metadata": {},
     "output_type": "execute_result"
    }
   ],
   "source": [
    "get_songs_from_lastfm('rap',175)"
   ],
   "metadata": {
    "collapsed": false,
    "ExecuteTime": {
     "end_time": "2024-05-09T07:23:56.162642300Z",
     "start_time": "2024-05-09T07:23:55.666895700Z"
    }
   },
   "id": "b2519e82d1a3806c",
   "execution_count": 158
  },
  {
   "cell_type": "code",
   "outputs": [
    {
     "name": "stdout",
     "output_type": "stream",
     "text": [
      "Bad Girls\n",
      "150\n"
     ]
    }
   ],
   "source": [
    "top100rap = get_songs_from_lastfm('rap', '150')\n",
    "print(top100rap[-7])\n",
    "print(len(top100rap))"
   ],
   "metadata": {
    "collapsed": false,
    "ExecuteTime": {
     "end_time": "2024-05-09T07:23:57.486294600Z",
     "start_time": "2024-05-09T07:23:56.906921100Z"
    }
   },
   "id": "eaee39e0d68d94b6",
   "execution_count": 159
  },
  {
   "cell_type": "code",
   "outputs": [
    {
     "name": "stdout",
     "output_type": "stream",
     "text": [
      "['Hurt', 'Wake Me Up', 'Love Story', 'You Belong with Me', 'Ring of Fire', 'Lover', 'Jolene', 'We Are Never Ever Getting Back Together', 'Motion Sickness', 'I Walk the Line', 'I Will Wait', 'Love Story (Taylor’s Version)', 'I Knew You Were Trouble.', 'FourFiveSeconds', 'willow', 'Nonsense', 'This Is the Life', 'The Climb', 'Enchanted', 'You Belong With Me (Taylor’s Version)', 'Hey Brother', 'Not Fair', 'Take Me Home, Country Roads', 'Perfect', \"All Too Well (10 Minute Version) (Taylor's Version) (From The Vault)\", 'Before He Cheats', '9 to 5', 'Mariners Apartment Complex', 'Our Song', '22', 'Folsom Prison Blues', 'Nobody Gets Me', 'Timber (feat. Ke$ha)', \"I Knew You Were Trouble (Taylor's Version)\", 'Back to December', 'Life Is a Highway', \"Lookin' Out My Back Door\", 'BETTY', 'Shallow', \"We Are Never Ever Getting Back Together (Taylor's Version)\", 'Angels Like You', 'Mine', \"22 (Taylor's Version)\", 'Need You Now', 'Old Town Road - Remix', \"Red (Taylor's Version)\", 'lacy', 'Jesus, Etc.', 'Harvest Moon', 'Mean', 'sWeeT CreAtUre', 'no body, no crime (feat. HAIM)', 'Nothing Breaks Like a Heart (feat. Miley Cyrus)', 'Picture to Burn', 'Castle On the Hill', 'Man! I Feel Like a Woman!', 'Malibu', 'The Way I Loved You (Taylor’s Version)', 'Need 2', 'Nothing New (feat. Phoebe Bridgers) (Taylor’s Version) (From The Vault)', \"All Too Well (Taylor's Version)\", 'right where you left me - bonus track', 'Better Than Revenge', \"Enchanted (Taylor's Version)\", 'Mr. Perfectly Fine (Taylor’s Version) (From The Vault)', 'Sparks Fly', 'Red', 'ivy', 'Old Town Road', \"TEXAS HOLD 'EM\", 'Galway Girl', 'Fearless (Taylor’s Version)', 'Lay Lady Lay', 'The Story of Us', 'If I Die Young', 'All Summer Long', 'money machine', 'Funeral', \"You're Still the One\", 'Personal Jesus', 'Take It Easy', 'cowboy like me', 'I Can See You (Taylor’s Version) (From The Vault)', 'dorothea', 'Million Reasons', 'Speak Now', 'The Man Comes Around', 'Cotton Eye Joe', \"Back To December (Taylor's Version)\", \"Mine (Taylor's Version)\", 'All I Wanna Do', 'New Year’s Day', 'All Too Well', \"Should've Said No\", 'Dear John', 'F2F', 'Tim McGraw', \"State of Grace (Taylor's Version)\", 'Happier', 'tWo ghOSTs']\n"
     ]
    }
   ],
   "source": [
    "top100country = get_songs_from_lastfm('country', 100)\n",
    "print(top100country)"
   ],
   "metadata": {
    "collapsed": false,
    "ExecuteTime": {
     "end_time": "2024-05-09T07:24:03.540996900Z",
     "start_time": "2024-05-09T07:24:03.033609900Z"
    }
   },
   "id": "b279cd5ee1e3dea8",
   "execution_count": 161
  }
 ],
 "metadata": {
  "kernelspec": {
   "display_name": "Python 3",
   "language": "python",
   "name": "python3"
  },
  "language_info": {
   "codemirror_mode": {
    "name": "ipython",
    "version": 2
   },
   "file_extension": ".py",
   "mimetype": "text/x-python",
   "name": "python",
   "nbconvert_exporter": "python",
   "pygments_lexer": "ipython2",
   "version": "2.7.6"
  }
 },
 "nbformat": 4,
 "nbformat_minor": 5
}
