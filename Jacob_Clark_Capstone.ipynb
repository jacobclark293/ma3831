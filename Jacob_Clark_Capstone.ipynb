{
 "cells": [
  {
   "cell_type": "code",
   "outputs": [],
   "source": [
    "import requests\n",
    "import pandas as pd"
   ],
   "metadata": {
    "collapsed": false,
    "ExecuteTime": {
     "end_time": "2024-05-09T07:33:01.410210Z",
     "start_time": "2024-05-09T07:33:00.822972400Z"
    }
   },
   "id": "2d4c07b4dccbb982",
   "execution_count": 181
  },
  {
   "cell_type": "markdown",
   "source": [
    "**last.fm API to retrieve top x songs by genre (tag)**\n",
    "\n",
    "Application name\teducational - no application\n",
    "API key\te8934c6a9bbb9395fb830b15a53f2916\n",
    "Shared secret\t6d093f7d7b4b55ea5008303a24cd2ca5\n",
    "Registered to\tpajamasam29"
   ],
   "metadata": {
    "collapsed": false
   },
   "id": "10c7347cca6ee0a9"
  },
  {
   "cell_type": "markdown",
   "source": [
    "send user to last.fm/api/auth/?api_key=xxx\n",
    "\n",
    "\n",
    " /2.0/?method=tag.gettoptracks&tag=disco&api_key=YOUR_API_KEY&format=json"
   ],
   "metadata": {
    "collapsed": false
   },
   "id": "5af17826d363bd02"
  },
  {
   "cell_type": "code",
   "outputs": [],
   "source": [
    "api_key = \"e8934c6a9bbb9395fb830b15a53f2916\"\n",
    "#end_point = 'last.fm/api/auth/'\n",
    "\n",
    "end_point = \"http://ws.audioscrobbler.com/2.0/\"\n",
    "\n",
    "def get_songs_from_lastfm(tag, number_of_songs):\n",
    "    response = requests.get('http://ws.audioscrobbler.com/2.0/?method=tag.gettoptracks&tag='+tag+'&limit='+str(number_of_songs)+'&api_key=e8934c6a9bbb9395fb830b15a53f2916&format=json').json()\n",
    "    collection = response['tracks']['track']\n",
    "    song_list = []\n",
    "    for song in collection:\n",
    "        #print(song['name'])\n",
    "        title = song['name']\n",
    "        artist = song['artist']['name']\n",
    "        song_list.append(title)\n",
    "    return song_list\n",
    "    #return collection\n",
    "    #return {'title':title, 'artist':artist}"
   ],
   "metadata": {
    "collapsed": false,
    "ExecuteTime": {
     "end_time": "2024-05-09T07:34:24.859360900Z",
     "start_time": "2024-05-09T07:34:24.842942900Z"
    }
   },
   "id": "6cc96ffd2c51ec99",
   "execution_count": 187
  },
  {
   "cell_type": "markdown",
   "source": [
    "Include artist?"
   ],
   "metadata": {
    "collapsed": false
   },
   "id": "c0ae1b850721511e"
  },
  {
   "cell_type": "code",
   "outputs": [],
   "source": [
    "def get_songs_artists_from_lastfm(tag, number_of_songs):\n",
    "    response = requests.get('http://ws.audioscrobbler.com/2.0/?method=tag.gettoptracks&tag='+tag+'&limit='+str(number_of_songs)+'&api_key=e8934c6a9bbb9395fb830b15a53f2916&format=json').json()\n",
    "    collection = response['tracks']['track']\n",
    "    song_data = []\n",
    "    for song in collection:\n",
    "        #print(song['name'])\n",
    "        title = song['name']\n",
    "        artist = song['artist']['name']\n",
    "        duration = song['duration']\n",
    "        song_data.append({'title':title, 'artist':artist, 'duration':duration})\n",
    "    #return collection\n",
    "    return song_data\n",
    "\n",
    "# return collection if you want to view what else is available to pull\n",
    "\n"
   ],
   "metadata": {
    "collapsed": false,
    "ExecuteTime": {
     "end_time": "2024-05-09T07:46:27.138834300Z",
     "start_time": "2024-05-09T07:46:27.105212500Z"
    }
   },
   "id": "d7c782c91d8ad60f",
   "execution_count": 219
  },
  {
   "cell_type": "code",
   "outputs": [
    {
     "data": {
      "text/plain": "[{'title': 'Stronger', 'artist': 'Kanye West', 'duration': '314'},\n {'title': 'Heartless', 'artist': 'Kanye West', 'duration': '209'},\n {'title': 'Clint Eastwood', 'artist': 'Gorillaz', 'duration': '339'},\n {'title': 'Hey Ya!', 'artist': 'OutKast', 'duration': '233'},\n {'title': 'Ms. Jackson', 'artist': 'OutKast', 'duration': '271'},\n {'title': 'In Da Club', 'artist': '50 Cent', 'duration': '193'},\n {'title': 'Without Me', 'artist': 'Eminem', 'duration': '290'},\n {'title': 'The Real Slim Shady', 'artist': 'Eminem', 'duration': '284'},\n {'title': 'It Was A Good Day', 'artist': 'Ice Cube', 'duration': '267'},\n {'title': 'Best I Ever Had', 'artist': 'Drake', 'duration': '257'}]"
     },
     "execution_count": 220,
     "metadata": {},
     "output_type": "execute_result"
    }
   ],
   "source": [
    "get_songs_artists_from_lastfm('rap', 10)\n"
   ],
   "metadata": {
    "collapsed": false,
    "ExecuteTime": {
     "end_time": "2024-05-09T07:46:29.286932700Z",
     "start_time": "2024-05-09T07:46:28.984032300Z"
    }
   },
   "id": "a45b2759a76d36b5",
   "execution_count": 220
  },
  {
   "cell_type": "code",
   "outputs": [
    {
     "name": "stdout",
     "output_type": "stream",
     "text": [
      "              title          artist duration\n",
      "0          Stronger      Kanye West      314\n",
      "1         Heartless      Kanye West      209\n",
      "2    Clint Eastwood        Gorillaz      339\n",
      "3           Hey Ya!         OutKast      233\n",
      "4       Ms. Jackson         OutKast      271\n",
      "..              ...             ...      ...\n",
      "170            SAD!    xxxtentacion        0\n",
      "171      No Diggity     Blackstreet      253\n",
      "172     Ride Wit Me           Nelly      290\n",
      "173      Ain't Shit        Doja Cat        0\n",
      "174         A.D.H.D  Kendrick Lamar      215\n",
      "\n",
      "[175 rows x 3 columns]\n"
     ]
    }
   ],
   "source": [
    "\n",
    "info = []\n",
    "for song in get_songs_artists_from_lastfm('rap', 175):\n",
    "    info.append(song)\n",
    "info_df = pd.DataFrame(info)\n",
    "print(info_df)"
   ],
   "metadata": {
    "collapsed": false,
    "ExecuteTime": {
     "end_time": "2024-05-09T07:50:24.851700500Z",
     "start_time": "2024-05-09T07:50:24.286028700Z"
    }
   },
   "id": "88ef090ee78253d8",
   "execution_count": 231
  },
  {
   "cell_type": "code",
   "outputs": [
    {
     "name": "stdout",
     "output_type": "stream",
     "text": [
      "['Stronger', 'Heartless', 'Clint Eastwood', 'Hey Ya!', 'Ms. Jackson', 'In Da Club', 'Without Me', 'The Real Slim Shady', 'It Was A Good Day', 'Best I Ever Had', 'See You Again (feat. Kali Uchis)', 'HUMBLE.', 'Flashing Lights', 'Gold Digger', 'All of the Lights', \"Can't Tell Me Nothing\", 'Still D.R.E.', 'Lose Yourself', 'Power', 'Money Trees', \"Gangsta's Paradise\", 'I Wonder', 'Earfquake', 'Bound 2', 'Starships', 'Stressed Out', 'Stan', 'Super Bass', 'Kiss Me More (feat. SZA)', 'Pump It', 'The Next Episode', 'Mockingbird', 'Alright', 'Lollipop', 'Sunflower - Spider-Man: Into the Spider-Verse', 'Father Stretch My Hands Pt. 1', 'Love The Way You Lie', \"Can't Hold Us (feat. Ray Dalton)\", 'All The Stars (with SZA)', 'Slow dancing in the dark', 'DNA.', 'Runaway', 'NEW MAGIC WAND', '7 rings', 'PRIDE.', 'Woman', 'Candy Shop', 'No Role Modelz', 'Hate it or love it', 'nights', 'Beautiful Girls', 'Dark Horse', 'Replay', 'Boom Boom Pow', 'The Way I Are', 'Love Lockdown', 'LOVE. FEAT. ZACARI.', \"Boy's a liar Pt. 2\", 'Heat Waves', 'Black Skinhead', 'Bitch, Don’t Kill My Vibe', 'Sabotage', 'Montero (Call Me By Your Name)', 'Thrift Shop (feat. Wanz)', 'Circles', 'Homecoming', 'Passionfruit', 'Not Afraid', 'All Falls Down', 'Meet Me Halfway', 'Dark Fantasy', 'King Kunta', 'Jesus Walks', '99 Problems', 'My Name Is', 'Forever', 'Through the Wire', 'Whatever You Like', 'Some', 'Chanel', '3005', \"God's Plan\", 'INDUSTRY BABY (feat. Jack Harlow)', 'Champion', 'Devil In A New Dress', 'XO TOUR Llif3', 'Ride', 'Need To Know', 'Needed Me', 'Crazy In Love (feat. Jay-Z)', 'BEST INTEREST', 'Soundtrack 2 My Life', 'Hotline Bling', 'Empire State Of Mind', 'Goosebumps', 'Pursuit of Happiness (Nightmare)', 'Ni**as In Paris', 'N.Y. State of Mind', 'Levitating (feat. DaBaby)', 'Say So', 'Low (feat. T-Pain)', 'Stay (with Justin Bieber)', \"Hold On, We're Going Home\", 'GONE, GONE / THANK YOU', 'Heartless', 'Streets', 'Heathens', 'Dilemma', \"Drop It Like It's Hot\", 'My Humps', 'Swimming Pools (Drank)', 'Backseat Freestyle', 'Sing for the Moment', 'Hot In Herre', 'Monster', 'Good Life', 'N95', 'wAp (fEAt. mEgAn thEe stAllIOn)', 'SICKO MODE', 'Poetic Justice', \"Creepin' (with The Weeknd & 21 Savage)\", 'Kiss Me Thru The Phone', 'Forgot About Dre', 'Killing Me Softly with His Song', 'You Right', 'rockstar (feat. 21 Savage)', 'Beauty and a Beat', 'I THINK', 'Juicy', 'Sky', 'Wet Dreamz', 'Lucid Dreams', 'Superman', 'Paint the Town Red', 'Magnolia', 'Violent Crimes', 'Jocelyn Flores', 'm.A.A.d city', 'Famous', 'The World Is Yours', 'Temperature', 'Touch The Sky', 'LOYALTY. FEAT. RIHANNA.', 'Bad Girls', 'Heartbeat', 'Good Morning', 'Family Ties (with Kendrick Lamar)', 'Work', 'P.I.M.P.', 'God is a Woman', 'Ghost Town', 'RUNNING OUT OF TIME', 'Hotel Room Service', 'Insane in the Brain', 'Over', 'Mask Off', 'Side To Side', \"U Can't Touch This\", 'Fancy', 'Sundress', 'The Way I Am', \"Day 'n' Nite (Nightmare)\", 'All Caps', 'Praise The Lord (Da Shine) (feat. Skepta)', 'Revenge', 'bury a friend', 'Butterfly', 'Everything I Am', 'United In Grief', 'Rapp Snitch Knishes feat. Mr. Fantastik', 'SAD!', 'No Diggity', 'Ride Wit Me', \"Ain't Shit\", 'A.D.H.D']\n",
      "                  0\n",
      "0          Stronger\n",
      "1         Heartless\n",
      "2    Clint Eastwood\n",
      "3           Hey Ya!\n",
      "4       Ms. Jackson\n",
      "..              ...\n",
      "170            SAD!\n",
      "171      No Diggity\n",
      "172     Ride Wit Me\n",
      "173      Ain't Shit\n",
      "174         A.D.H.D\n",
      "\n",
      "[175 rows x 1 columns]\n"
     ]
    }
   ],
   "source": [
    "get_songs_from_lastfm('rap',175)\n",
    "\n",
    "info = []\n",
    "for song in get_songs_from_lastfm('rap', 175):\n",
    "    info.append(song)\n",
    "print(info)\n",
    "\n",
    "info_df = pd.DataFrame(info)\n",
    "print(info_df)"
   ],
   "metadata": {
    "collapsed": false,
    "ExecuteTime": {
     "end_time": "2024-05-09T07:36:19.502725200Z",
     "start_time": "2024-05-09T07:36:18.397837700Z"
    }
   },
   "id": "b2519e82d1a3806c",
   "execution_count": 197
  },
  {
   "cell_type": "code",
   "outputs": [
    {
     "name": "stdout",
     "output_type": "stream",
     "text": [
      "['Stronger', 'Heartless', 'Clint Eastwood', 'Hey Ya!', 'Ms. Jackson', 'In Da Club', 'Without Me', 'The Real Slim Shady', 'It Was A Good Day', 'Best I Ever Had', 'See You Again (feat. Kali Uchis)', 'HUMBLE.', 'Flashing Lights', 'Gold Digger', 'All of the Lights', \"Can't Tell Me Nothing\", 'Still D.R.E.', 'Lose Yourself', 'Power', 'Money Trees', \"Gangsta's Paradise\", 'I Wonder', 'Earfquake', 'Bound 2', 'Starships', 'Stressed Out', 'Stan', 'Super Bass', 'Kiss Me More (feat. SZA)', 'Pump It', 'The Next Episode', 'Mockingbird', 'Alright', 'Lollipop', 'Sunflower - Spider-Man: Into the Spider-Verse', 'Father Stretch My Hands Pt. 1', 'Love The Way You Lie', \"Can't Hold Us (feat. Ray Dalton)\", 'All The Stars (with SZA)', 'Slow dancing in the dark', 'DNA.', 'Runaway', 'NEW MAGIC WAND', '7 rings', 'PRIDE.', 'Woman', 'Candy Shop', 'No Role Modelz', 'Hate it or love it', 'nights', 'Beautiful Girls', 'Dark Horse', 'Replay', 'Boom Boom Pow', 'The Way I Are', 'Love Lockdown', 'LOVE. FEAT. ZACARI.', \"Boy's a liar Pt. 2\", 'Heat Waves', 'Black Skinhead', 'Bitch, Don’t Kill My Vibe', 'Sabotage', 'Montero (Call Me By Your Name)', 'Thrift Shop (feat. Wanz)', 'Circles', 'Homecoming', 'Passionfruit', 'Not Afraid', 'All Falls Down', 'Meet Me Halfway', 'Dark Fantasy', 'King Kunta', 'Jesus Walks', '99 Problems', 'My Name Is', 'Forever', 'Through the Wire', 'Whatever You Like', 'Some', 'Chanel', '3005', \"God's Plan\", 'INDUSTRY BABY (feat. Jack Harlow)', 'Champion', 'Devil In A New Dress', 'XO TOUR Llif3', 'Ride', 'Need To Know', 'Needed Me', 'Crazy In Love (feat. Jay-Z)', 'BEST INTEREST', 'Soundtrack 2 My Life', 'Hotline Bling', 'Empire State Of Mind', 'Goosebumps', 'Pursuit of Happiness (Nightmare)', 'Ni**as In Paris', 'N.Y. State of Mind', 'Levitating (feat. DaBaby)', 'Say So', 'Low (feat. T-Pain)', 'Stay (with Justin Bieber)', \"Hold On, We're Going Home\", 'GONE, GONE / THANK YOU', 'Heartless', 'Streets', 'Heathens', 'Dilemma', \"Drop It Like It's Hot\", 'My Humps', 'Swimming Pools (Drank)', 'Backseat Freestyle', 'Sing for the Moment', 'Hot In Herre', 'Monster', 'Good Life', 'N95', 'wAp (fEAt. mEgAn thEe stAllIOn)', 'SICKO MODE', 'Poetic Justice', \"Creepin' (with The Weeknd & 21 Savage)\", 'Kiss Me Thru The Phone', 'Forgot About Dre', 'Killing Me Softly with His Song', 'You Right', 'rockstar (feat. 21 Savage)', 'Beauty and a Beat', 'I THINK', 'Juicy', 'Sky', 'Wet Dreamz', 'Lucid Dreams', 'Superman', 'Paint the Town Red', 'Magnolia', 'Violent Crimes', 'Jocelyn Flores', 'm.A.A.d city', 'Famous', 'The World Is Yours', 'Temperature', 'Touch The Sky', 'LOYALTY. FEAT. RIHANNA.', 'Bad Girls', 'Heartbeat', 'Good Morning', 'Family Ties (with Kendrick Lamar)', 'Work', 'P.I.M.P.', 'God is a Woman', 'Ghost Town', 'RUNNING OUT OF TIME', 'Hotel Room Service', 'Insane in the Brain', 'Over', 'Mask Off', 'Side To Side', \"U Can't Touch This\", 'Fancy', 'Sundress', 'The Way I Am', \"Day 'n' Nite (Nightmare)\", 'All Caps', 'Praise The Lord (Da Shine) (feat. Skepta)', 'Revenge', 'bury a friend', 'Butterfly', 'Everything I Am', 'United In Grief', 'Rapp Snitch Knishes feat. Mr. Fantastik', 'SAD!', 'No Diggity', 'Ride Wit Me', \"Ain't Shit\", 'A.D.H.D']\n",
      "175\n"
     ]
    }
   ],
   "source": [
    "top100rap = get_songs_from_lastfm('rap', '175')\n",
    "print(top100rap)\n",
    "print(len(top100rap))"
   ],
   "metadata": {
    "collapsed": false,
    "ExecuteTime": {
     "end_time": "2024-05-09T07:35:43.988396600Z",
     "start_time": "2024-05-09T07:35:43.419997800Z"
    }
   },
   "id": "eaee39e0d68d94b6",
   "execution_count": 193
  },
  {
   "cell_type": "code",
   "outputs": [
    {
     "name": "stdout",
     "output_type": "stream",
     "text": [
      "['Hurt', 'Wake Me Up', 'Love Story', 'You Belong with Me', 'Ring of Fire', 'Lover', 'Jolene', 'We Are Never Ever Getting Back Together', 'Motion Sickness', 'I Walk the Line', 'I Will Wait', 'Love Story (Taylor’s Version)', 'I Knew You Were Trouble.', 'FourFiveSeconds', 'willow', 'Nonsense', 'This Is the Life', 'The Climb', 'Enchanted', 'You Belong With Me (Taylor’s Version)', 'Hey Brother', 'Not Fair', 'Take Me Home, Country Roads', 'Perfect', \"All Too Well (10 Minute Version) (Taylor's Version) (From The Vault)\", 'Before He Cheats', '9 to 5', 'Mariners Apartment Complex', 'Our Song', '22', 'Folsom Prison Blues', 'Nobody Gets Me', 'Timber (feat. Ke$ha)', \"I Knew You Were Trouble (Taylor's Version)\", 'Back to December', 'Life Is a Highway', \"Lookin' Out My Back Door\", 'BETTY', 'Shallow', \"We Are Never Ever Getting Back Together (Taylor's Version)\", 'Angels Like You', 'Mine', \"22 (Taylor's Version)\", 'Need You Now', 'Old Town Road - Remix', \"Red (Taylor's Version)\", 'lacy', 'Jesus, Etc.', 'Harvest Moon', 'Mean', 'sWeeT CreAtUre', 'no body, no crime (feat. HAIM)', 'Nothing Breaks Like a Heart (feat. Miley Cyrus)', 'Picture to Burn', 'Castle On the Hill', 'Man! I Feel Like a Woman!', 'Malibu', 'The Way I Loved You (Taylor’s Version)', 'Need 2', 'Nothing New (feat. Phoebe Bridgers) (Taylor’s Version) (From The Vault)', \"All Too Well (Taylor's Version)\", 'right where you left me - bonus track', 'Better Than Revenge', \"Enchanted (Taylor's Version)\", 'Mr. Perfectly Fine (Taylor’s Version) (From The Vault)', 'Sparks Fly', 'Red', 'ivy', 'Old Town Road', \"TEXAS HOLD 'EM\", 'Galway Girl', 'Fearless (Taylor’s Version)', 'Lay Lady Lay', 'The Story of Us', 'If I Die Young', 'All Summer Long', 'money machine', 'Funeral', \"You're Still the One\", 'Personal Jesus', 'Take It Easy', 'cowboy like me', 'I Can See You (Taylor’s Version) (From The Vault)', 'dorothea', 'Million Reasons', 'Speak Now', 'The Man Comes Around', 'Cotton Eye Joe', \"Back To December (Taylor's Version)\", \"Mine (Taylor's Version)\", 'All I Wanna Do', 'New Year’s Day', 'All Too Well', \"Should've Said No\", 'Dear John', 'F2F', 'Tim McGraw', \"State of Grace (Taylor's Version)\", 'Happier', 'tWo ghOSTs']\n"
     ]
    }
   ],
   "source": [
    "top100country = get_songs_from_lastfm('country', 100)\n",
    "print(top100country)"
   ],
   "metadata": {
    "collapsed": false,
    "ExecuteTime": {
     "end_time": "2024-05-09T07:24:03.540996900Z",
     "start_time": "2024-05-09T07:24:03.033609900Z"
    }
   },
   "id": "b279cd5ee1e3dea8",
   "execution_count": 161
  },
  {
   "cell_type": "code",
   "outputs": [
    {
     "name": "stdout",
     "output_type": "stream",
     "text": [
      "['Feel Good Inc.', 'Yellow', 'Viva la Vida', 'Poker Face', 'The Scientist', 'Somebody Told Me', 'Kids', 'Wonderwall', 'Billie Jean', 'Pumped Up Kicks', 'Clocks', 'Heartless', 'Take on Me', 'Bad Romance', 'Rolling in the Deep', 'Fix You', 'Toxic', 'I Kissed a Girl', 'Somebody That I Used To Know', 'Just Dance', 'Clint Eastwood', 'Back to Black', 'Everybody Wants to Rule the World', 'Paparazzi', 'Chasing Cars', 'Umbrella', 'Losing My Religion', 'Dog Days Are Over', 'Hey Ya!', 'Summertime Sadness', 'Paper Planes', 'Somewhere Only We Know', 'The Less I Know the Better', 'Every Breath You Take', \"I'm Yours\", 'Hot n Cold', 'I Gotta Feeling', 'This Love', \"Friday I'm in Love\", 'Dancing Queen', 'Ms. Jackson', 'Beat It', 'Crazy', \"Boys Don't Cry\", 'Video Games', 'Blinding Lights', 'Someone Like You', 'All I Want for Christmas Is You', 'Just Like Heaven', 'DARE', 'Rehab', \"Don't Stop the Music\", 'Island in the Sun', 'Royals', 'Africa', 'How to Save a Life', 'Thriller', 'Take Me to Church', 'Call Me Maybe', 'Last Friday Night (T.G.I.F.)', 'Locked Out of Heaven', 'Pink + White', 'Sparks', 'Teenage Dream', 'Starboy', 'Set Fire to the Rain', 'The Middle', 'Party in the U.S.A.', 'Bitter Sweet Symphony', 'Halo', 'Born to Die', 'Firework', 'Linger', 'Hey There Delilah', 'Paradise', 'Promiscuous', 'Riptide', 'Walking on a Dream', 'Just the Way You Are', 'Only Girl (In the World)', \"You Know I'm No Good\", 'Enjoy the Silence', 'Last Christmas', 'Young and Beautiful', 'LoveGame', \"Don't Speak\", 'Tainted Love', \"Don't Panic\", 'Disturbia', 'Kill Bill', 'TiK ToK', 'On Melancholy Hill', 'Counting Stars', 'S&M', 'All of the Lights', 'The Reason', 'Complicated', 'Smile Like You Mean It', 'Maneater', 'She Will Be Loved']\n"
     ]
    },
    {
     "data": {
      "text/plain": "list"
     },
     "execution_count": 164,
     "metadata": {},
     "output_type": "execute_result"
    }
   ],
   "source": [
    "top100pop = get_songs_from_lastfm('pop', 100)\n",
    "print(top100pop)\n"
   ],
   "metadata": {
    "collapsed": false,
    "ExecuteTime": {
     "end_time": "2024-05-09T07:26:27.987594500Z",
     "start_time": "2024-05-09T07:26:27.480784200Z"
    }
   },
   "id": "3ae9e81ca8fcc10a",
   "execution_count": 164
  }
 ],
 "metadata": {
  "kernelspec": {
   "display_name": "Python 3",
   "language": "python",
   "name": "python3"
  },
  "language_info": {
   "codemirror_mode": {
    "name": "ipython",
    "version": 2
   },
   "file_extension": ".py",
   "mimetype": "text/x-python",
   "name": "python",
   "nbconvert_exporter": "python",
   "pygments_lexer": "ipython2",
   "version": "2.7.6"
  }
 },
 "nbformat": 4,
 "nbformat_minor": 5
}
