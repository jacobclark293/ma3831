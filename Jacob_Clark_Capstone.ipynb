{
 "cells": [
  {
   "cell_type": "code",
   "outputs": [],
   "source": [
    "import requests\n",
    "import time\n",
    "import random\n",
    "import os \n",
    "import pandas as pd\n",
    "import re\n",
    "\n",
    "\n",
    "from requests.models import Response\n",
    "from string import ascii_lowercase\n",
    "from urllib.request import urlopen\n",
    "from bs4 import BeautifulSoup"
   ],
   "metadata": {
    "collapsed": false,
    "ExecuteTime": {
     "end_time": "2024-05-20T09:19:27.855276500Z",
     "start_time": "2024-05-20T09:19:27.837746600Z"
    }
   },
   "id": "2d4c07b4dccbb982",
   "execution_count": 95
  },
  {
   "cell_type": "markdown",
   "source": [
    "**last.fm API to retrieve top x songs by genre (tag)**\n",
    "\n",
    "Application name\teducational - no application\n",
    "API key\te8934c6a9bbb9395fb830b15a53f2916\n",
    "Shared secret\t6d093f7d7b4b55ea5008303a24cd2ca5\n",
    "Registered to\tpajamasam29"
   ],
   "metadata": {
    "collapsed": false
   },
   "id": "10c7347cca6ee0a9"
  },
  {
   "cell_type": "markdown",
   "source": [
    "send user to last.fm/api/auth/?api_key=xxx\n",
    "\n",
    "\n",
    " /2.0/?method=tag.gettoptracks&tag=disco&api_key=YOUR_API_KEY&format=json"
   ],
   "metadata": {
    "collapsed": false
   },
   "id": "5af17826d363bd02"
  },
  {
   "cell_type": "code",
   "outputs": [],
   "source": [
    "api_key = \"e8934c6a9bbb9395fb830b15a53f2916\"\n",
    "#end_point = 'last.fm/api/auth/'\n",
    "\n",
    "end_point = \"http://ws.audioscrobbler.com/2.0/\"\n",
    "\n",
    "def get_songs_from_lastfm(tag, number_of_songs):\n",
    "    response = requests.get('http://ws.audioscrobbler.com/2.0/?method=tag.gettoptracks&tag='+tag+'&limit='+str(number_of_songs)+'&api_key=e8934c6a9bbb9395fb830b15a53f2916&format=json').json()\n",
    "    collection = response['tracks']['track']\n",
    "    song_list = []\n",
    "    for song in collection:\n",
    "        #print(song['name'])\n",
    "        title = song['name']\n",
    "        artist = song['artist']['name']\n",
    "        song_list.append(title)\n",
    "    return song_list\n",
    "    #return collection\n",
    "    #return {'title':title, 'artist':artist}"
   ],
   "metadata": {
    "collapsed": false,
    "ExecuteTime": {
     "end_time": "2024-05-09T10:13:17.329875700Z",
     "start_time": "2024-05-09T10:13:17.323872Z"
    }
   },
   "id": "6cc96ffd2c51ec99",
   "execution_count": 6
  },
  {
   "cell_type": "markdown",
   "source": [
    "Include artist?"
   ],
   "metadata": {
    "collapsed": false
   },
   "id": "c0ae1b850721511e"
  },
  {
   "cell_type": "code",
   "outputs": [],
   "source": [
    "def get_songs_artists_from_lastfm(tag, number_of_songs):\n",
    "    response = requests.get('http://ws.audioscrobbler.com/2.0/?method=tag.gettoptracks&tag='+tag+'&limit='+str(number_of_songs)+'&api_key=e8934c6a9bbb9395fb830b15a53f2916&format=json').json()\n",
    "    collection = response['tracks']['track']\n",
    "    song_data = []\n",
    "    for song in collection:\n",
    "        #print(song['name'])\n",
    "        title = song['name']\n",
    "        artist = song['artist']['name']\n",
    "        duration = song['duration']\n",
    "        song_data.append({'title':title, 'artist':artist, 'duration':duration})\n",
    "    #return collection\n",
    "    return song_data\n",
    "\n",
    "# return collection if you want to view what else is available to pull\n",
    "\n"
   ],
   "metadata": {
    "collapsed": false,
    "ExecuteTime": {
     "end_time": "2024-05-09T10:13:04.476833800Z",
     "start_time": "2024-05-09T10:13:04.468817Z"
    }
   },
   "id": "d7c782c91d8ad60f",
   "execution_count": 3
  },
  {
   "cell_type": "code",
   "outputs": [
    {
     "data": {
      "text/plain": "[{'title': 'Stronger', 'artist': 'Kanye West', 'duration': '314'},\n {'title': 'Heartless', 'artist': 'Kanye West', 'duration': '209'},\n {'title': 'Clint Eastwood', 'artist': 'Gorillaz', 'duration': '339'},\n {'title': 'Hey Ya!', 'artist': 'OutKast', 'duration': '233'},\n {'title': 'Ms. Jackson', 'artist': 'OutKast', 'duration': '271'},\n {'title': 'In Da Club', 'artist': '50 Cent', 'duration': '193'},\n {'title': 'Without Me', 'artist': 'Eminem', 'duration': '290'},\n {'title': 'The Real Slim Shady', 'artist': 'Eminem', 'duration': '284'},\n {'title': 'It Was A Good Day', 'artist': 'Ice Cube', 'duration': '267'},\n {'title': 'Best I Ever Had', 'artist': 'Drake', 'duration': '257'}]"
     },
     "execution_count": 220,
     "metadata": {},
     "output_type": "execute_result"
    }
   ],
   "source": [
    "get_songs_artists_from_lastfm('rap', 10)"
   ],
   "metadata": {
    "collapsed": false,
    "ExecuteTime": {
     "end_time": "2024-05-09T07:46:29.286932700Z",
     "start_time": "2024-05-09T07:46:28.984032300Z"
    }
   },
   "id": "a45b2759a76d36b5",
   "execution_count": 220
  },
  {
   "cell_type": "code",
   "outputs": [
    {
     "data": {
      "text/plain": "                              title         artist duration\n0                              Hurt    Johnny Cash      218\n1                        Wake Me Up         Avicii      246\n2                        Love Story   Taylor Swift      233\n3                You Belong with Me   Taylor Swift      231\n4                      Ring of Fire    Johnny Cash      156\n..                              ...            ...      ...\n170           I've Just Seen a Face    The Beatles      128\n171  Hey Stephen (Taylor’s Version)   Taylor Swift        0\n172    Starlight (Taylor's Version)   Taylor Swift        0\n173                   Daddy Lessons        Beyoncé        0\n174                 Back Down South  Kings of Leon      241\n\n[175 rows x 3 columns]",
      "text/html": "<div>\n<style scoped>\n    .dataframe tbody tr th:only-of-type {\n        vertical-align: middle;\n    }\n\n    .dataframe tbody tr th {\n        vertical-align: top;\n    }\n\n    .dataframe thead th {\n        text-align: right;\n    }\n</style>\n<table border=\"1\" class=\"dataframe\">\n  <thead>\n    <tr style=\"text-align: right;\">\n      <th></th>\n      <th>title</th>\n      <th>artist</th>\n      <th>duration</th>\n    </tr>\n  </thead>\n  <tbody>\n    <tr>\n      <th>0</th>\n      <td>Hurt</td>\n      <td>Johnny Cash</td>\n      <td>218</td>\n    </tr>\n    <tr>\n      <th>1</th>\n      <td>Wake Me Up</td>\n      <td>Avicii</td>\n      <td>246</td>\n    </tr>\n    <tr>\n      <th>2</th>\n      <td>Love Story</td>\n      <td>Taylor Swift</td>\n      <td>233</td>\n    </tr>\n    <tr>\n      <th>3</th>\n      <td>You Belong with Me</td>\n      <td>Taylor Swift</td>\n      <td>231</td>\n    </tr>\n    <tr>\n      <th>4</th>\n      <td>Ring of Fire</td>\n      <td>Johnny Cash</td>\n      <td>156</td>\n    </tr>\n    <tr>\n      <th>...</th>\n      <td>...</td>\n      <td>...</td>\n      <td>...</td>\n    </tr>\n    <tr>\n      <th>170</th>\n      <td>I've Just Seen a Face</td>\n      <td>The Beatles</td>\n      <td>128</td>\n    </tr>\n    <tr>\n      <th>171</th>\n      <td>Hey Stephen (Taylor’s Version)</td>\n      <td>Taylor Swift</td>\n      <td>0</td>\n    </tr>\n    <tr>\n      <th>172</th>\n      <td>Starlight (Taylor's Version)</td>\n      <td>Taylor Swift</td>\n      <td>0</td>\n    </tr>\n    <tr>\n      <th>173</th>\n      <td>Daddy Lessons</td>\n      <td>Beyoncé</td>\n      <td>0</td>\n    </tr>\n    <tr>\n      <th>174</th>\n      <td>Back Down South</td>\n      <td>Kings of Leon</td>\n      <td>241</td>\n    </tr>\n  </tbody>\n</table>\n<p>175 rows × 3 columns</p>\n</div>"
     },
     "execution_count": 77,
     "metadata": {},
     "output_type": "execute_result"
    }
   ],
   "source": [
    "\n",
    "info = []\n",
    "for song in get_songs_artists_from_lastfm('country', 175):\n",
    "    info.append(song)\n",
    "info_df = pd.DataFrame(info)\n",
    "info_df\n",
    "\n",
    "#info_df['artist'].value_counts()"
   ],
   "metadata": {
    "collapsed": false,
    "ExecuteTime": {
     "end_time": "2024-05-09T11:22:25.754473200Z",
     "start_time": "2024-05-09T11:22:25.240689600Z"
    }
   },
   "id": "88ef090ee78253d8",
   "execution_count": 77
  },
  {
   "cell_type": "code",
   "outputs": [
    {
     "name": "stdout",
     "output_type": "stream",
     "text": [
      "['Stronger', 'Heartless', 'Clint Eastwood', 'Hey Ya!', 'Ms. Jackson', 'In Da Club', 'Without Me', 'The Real Slim Shady', 'It Was A Good Day', 'Best I Ever Had', 'See You Again (feat. Kali Uchis)', 'HUMBLE.', 'Flashing Lights', 'Gold Digger', 'All of the Lights', \"Can't Tell Me Nothing\", 'Still D.R.E.', 'Lose Yourself', 'Power', 'Money Trees', \"Gangsta's Paradise\", 'I Wonder', 'Earfquake', 'Bound 2', 'Starships', 'Stressed Out', 'Stan', 'Super Bass', 'Kiss Me More (feat. SZA)', 'Pump It', 'The Next Episode', 'Mockingbird', 'Alright', 'Lollipop', 'Sunflower - Spider-Man: Into the Spider-Verse', 'Father Stretch My Hands Pt. 1', 'Love The Way You Lie', \"Can't Hold Us (feat. Ray Dalton)\", 'All The Stars (with SZA)', 'Slow dancing in the dark', 'DNA.', 'Runaway', 'NEW MAGIC WAND', '7 rings', 'PRIDE.', 'Woman', 'Candy Shop', 'No Role Modelz', 'Hate it or love it', 'nights', 'Beautiful Girls', 'Dark Horse', 'Replay', 'Boom Boom Pow', 'The Way I Are', 'Love Lockdown', 'LOVE. FEAT. ZACARI.', \"Boy's a liar Pt. 2\", 'Heat Waves', 'Black Skinhead', 'Bitch, Don’t Kill My Vibe', 'Sabotage', 'Montero (Call Me By Your Name)', 'Thrift Shop (feat. Wanz)', 'Circles', 'Homecoming', 'Passionfruit', 'Not Afraid', 'All Falls Down', 'Meet Me Halfway', 'Dark Fantasy', 'King Kunta', 'Jesus Walks', '99 Problems', 'My Name Is', 'Forever', 'Through the Wire', 'Whatever You Like', 'Some', 'Chanel', '3005', \"God's Plan\", 'INDUSTRY BABY (feat. Jack Harlow)', 'Champion', 'Devil In A New Dress', 'XO TOUR Llif3', 'Ride', 'Need To Know', 'Needed Me', 'Crazy In Love (feat. Jay-Z)', 'BEST INTEREST', 'Soundtrack 2 My Life', 'Hotline Bling', 'Empire State Of Mind', 'Goosebumps', 'Pursuit of Happiness (Nightmare)', 'Ni**as In Paris', 'N.Y. State of Mind', 'Levitating (feat. DaBaby)', 'Say So', 'Low (feat. T-Pain)', 'Stay (with Justin Bieber)', \"Hold On, We're Going Home\", 'GONE, GONE / THANK YOU', 'Heartless', 'Streets', 'Heathens', 'Dilemma', \"Drop It Like It's Hot\", 'My Humps', 'Swimming Pools (Drank)', 'Backseat Freestyle', 'Sing for the Moment', 'Hot In Herre', 'Monster', 'Good Life', 'N95', 'wAp (fEAt. mEgAn thEe stAllIOn)', 'SICKO MODE', 'Poetic Justice', \"Creepin' (with The Weeknd & 21 Savage)\", 'Kiss Me Thru The Phone', 'Forgot About Dre', 'Killing Me Softly with His Song', 'You Right', 'rockstar (feat. 21 Savage)', 'Beauty and a Beat', 'I THINK', 'Juicy', 'Sky', 'Wet Dreamz', 'Lucid Dreams', 'Superman', 'Paint the Town Red', 'Magnolia', 'Violent Crimes', 'Jocelyn Flores', 'm.A.A.d city', 'Famous', 'The World Is Yours', 'Temperature', 'Touch The Sky', 'LOYALTY. FEAT. RIHANNA.', 'Bad Girls', 'Heartbeat', 'Good Morning', 'Family Ties (with Kendrick Lamar)', 'Work', 'P.I.M.P.', 'God is a Woman', 'Ghost Town', 'RUNNING OUT OF TIME', 'Hotel Room Service', 'Insane in the Brain', 'Over', 'Mask Off', 'Side To Side', \"U Can't Touch This\", 'Fancy', 'Sundress', 'The Way I Am', \"Day 'n' Nite (Nightmare)\", 'All Caps', 'Praise The Lord (Da Shine) (feat. Skepta)', 'Revenge', 'bury a friend', 'Butterfly', 'Everything I Am', 'United In Grief', 'Rapp Snitch Knishes feat. Mr. Fantastik', 'SAD!', 'No Diggity', 'Ride Wit Me', \"Ain't Shit\", 'A.D.H.D']\n",
      "                  0\n",
      "0          Stronger\n",
      "1         Heartless\n",
      "2    Clint Eastwood\n",
      "3           Hey Ya!\n",
      "4       Ms. Jackson\n",
      "..              ...\n",
      "170            SAD!\n",
      "171      No Diggity\n",
      "172     Ride Wit Me\n",
      "173      Ain't Shit\n",
      "174         A.D.H.D\n",
      "\n",
      "[175 rows x 1 columns]\n"
     ]
    }
   ],
   "source": [
    "get_songs_from_lastfm('rap',175)\n",
    "\n",
    "info = []\n",
    "for song in get_songs_from_lastfm('rap', 175):\n",
    "    info.append(song)\n",
    "print(info)\n",
    "\n",
    "info_df = pd.DataFrame(info)\n",
    "print(info_df)"
   ],
   "metadata": {
    "collapsed": false,
    "ExecuteTime": {
     "end_time": "2024-05-09T07:36:19.502725200Z",
     "start_time": "2024-05-09T07:36:18.397837700Z"
    }
   },
   "id": "b2519e82d1a3806c",
   "execution_count": 197
  },
  {
   "cell_type": "code",
   "outputs": [
    {
     "name": "stdout",
     "output_type": "stream",
     "text": [
      "['Stronger', 'Heartless', 'Clint Eastwood', 'Hey Ya!', 'Ms. Jackson', 'In Da Club', 'Without Me', 'The Real Slim Shady', 'It Was A Good Day', 'Best I Ever Had', 'See You Again (feat. Kali Uchis)', 'HUMBLE.', 'Flashing Lights', 'Gold Digger', 'All of the Lights', \"Can't Tell Me Nothing\", 'Still D.R.E.', 'Lose Yourself', 'Power', 'Money Trees', \"Gangsta's Paradise\", 'I Wonder', 'Earfquake', 'Bound 2', 'Starships', 'Stressed Out', 'Stan', 'Super Bass', 'Kiss Me More (feat. SZA)', 'Pump It', 'The Next Episode', 'Mockingbird', 'Alright', 'Lollipop', 'Sunflower - Spider-Man: Into the Spider-Verse', 'Father Stretch My Hands Pt. 1', 'Love The Way You Lie', \"Can't Hold Us (feat. Ray Dalton)\", 'All The Stars (with SZA)', 'Slow dancing in the dark', 'DNA.', 'Runaway', 'NEW MAGIC WAND', '7 rings', 'PRIDE.', 'Woman', 'Candy Shop', 'No Role Modelz', 'Hate it or love it', 'nights', 'Beautiful Girls', 'Dark Horse', 'Replay', 'Boom Boom Pow', 'The Way I Are', 'Love Lockdown', 'LOVE. FEAT. ZACARI.', \"Boy's a liar Pt. 2\", 'Heat Waves', 'Black Skinhead', 'Bitch, Don’t Kill My Vibe', 'Sabotage', 'Montero (Call Me By Your Name)', 'Thrift Shop (feat. Wanz)', 'Circles', 'Homecoming', 'Passionfruit', 'Not Afraid', 'All Falls Down', 'Meet Me Halfway', 'Dark Fantasy', 'King Kunta', 'Jesus Walks', '99 Problems', 'My Name Is', 'Forever', 'Through the Wire', 'Whatever You Like', 'Some', 'Chanel', '3005', \"God's Plan\", 'INDUSTRY BABY (feat. Jack Harlow)', 'Champion', 'Devil In A New Dress', 'XO TOUR Llif3', 'Ride', 'Need To Know', 'Needed Me', 'Crazy In Love (feat. Jay-Z)', 'BEST INTEREST', 'Soundtrack 2 My Life', 'Hotline Bling', 'Empire State Of Mind', 'Goosebumps', 'Pursuit of Happiness (Nightmare)', 'Ni**as In Paris', 'N.Y. State of Mind', 'Levitating (feat. DaBaby)', 'Say So', 'Low (feat. T-Pain)', 'Stay (with Justin Bieber)', \"Hold On, We're Going Home\", 'GONE, GONE / THANK YOU', 'Heartless', 'Streets', 'Heathens', 'Dilemma', \"Drop It Like It's Hot\", 'My Humps', 'Swimming Pools (Drank)', 'Backseat Freestyle', 'Sing for the Moment', 'Hot In Herre', 'Monster', 'Good Life', 'N95', 'wAp (fEAt. mEgAn thEe stAllIOn)', 'SICKO MODE', 'Poetic Justice', \"Creepin' (with The Weeknd & 21 Savage)\", 'Kiss Me Thru The Phone', 'Forgot About Dre', 'Killing Me Softly with His Song', 'You Right', 'rockstar (feat. 21 Savage)', 'Beauty and a Beat', 'I THINK', 'Juicy', 'Sky', 'Wet Dreamz', 'Lucid Dreams', 'Superman', 'Paint the Town Red', 'Magnolia', 'Violent Crimes', 'Jocelyn Flores', 'm.A.A.d city', 'Famous', 'The World Is Yours', 'Temperature', 'Touch The Sky', 'LOYALTY. FEAT. RIHANNA.', 'Bad Girls', 'Heartbeat', 'Good Morning', 'Family Ties (with Kendrick Lamar)', 'Work', 'P.I.M.P.', 'God is a Woman', 'Ghost Town', 'RUNNING OUT OF TIME', 'Hotel Room Service', 'Insane in the Brain', 'Over', 'Mask Off', 'Side To Side', \"U Can't Touch This\", 'Fancy', 'Sundress', 'The Way I Am', \"Day 'n' Nite (Nightmare)\", 'All Caps', 'Praise The Lord (Da Shine) (feat. Skepta)', 'Revenge', 'bury a friend', 'Butterfly', 'Everything I Am', 'United In Grief', 'Rapp Snitch Knishes feat. Mr. Fantastik', 'SAD!', 'No Diggity', 'Ride Wit Me', \"Ain't Shit\", 'A.D.H.D']\n",
      "175\n"
     ]
    }
   ],
   "source": [
    "top100rap = get_songs_from_lastfm('rap', '175')\n",
    "print(top100rap)\n",
    "print(len(top100rap))"
   ],
   "metadata": {
    "collapsed": false,
    "ExecuteTime": {
     "end_time": "2024-05-09T07:35:43.988396600Z",
     "start_time": "2024-05-09T07:35:43.419997800Z"
    }
   },
   "id": "eaee39e0d68d94b6",
   "execution_count": 193
  },
  {
   "cell_type": "code",
   "outputs": [
    {
     "name": "stdout",
     "output_type": "stream",
     "text": [
      "['Hurt', 'Wake Me Up', 'Love Story', 'You Belong with Me', 'Ring of Fire', 'Lover', 'Jolene', 'We Are Never Ever Getting Back Together', 'Motion Sickness', 'I Walk the Line', 'I Will Wait', 'Love Story (Taylor’s Version)', 'I Knew You Were Trouble.', 'FourFiveSeconds', 'willow', 'Nonsense', 'This Is the Life', 'The Climb', 'Enchanted', 'You Belong With Me (Taylor’s Version)', 'Hey Brother', 'Not Fair', 'Take Me Home, Country Roads', 'Perfect', \"All Too Well (10 Minute Version) (Taylor's Version) (From The Vault)\", 'Before He Cheats', '9 to 5', 'Mariners Apartment Complex', 'Our Song', '22', 'Folsom Prison Blues', 'Nobody Gets Me', 'Timber (feat. Ke$ha)', \"I Knew You Were Trouble (Taylor's Version)\", 'Back to December', 'Life Is a Highway', \"Lookin' Out My Back Door\", 'BETTY', 'Shallow', \"We Are Never Ever Getting Back Together (Taylor's Version)\", 'Angels Like You', 'Mine', \"22 (Taylor's Version)\", 'Need You Now', 'Old Town Road - Remix', \"Red (Taylor's Version)\", 'lacy', 'Jesus, Etc.', 'Harvest Moon', 'Mean', 'sWeeT CreAtUre', 'no body, no crime (feat. HAIM)', 'Nothing Breaks Like a Heart (feat. Miley Cyrus)', 'Picture to Burn', 'Castle On the Hill', 'Man! I Feel Like a Woman!', 'Malibu', 'The Way I Loved You (Taylor’s Version)', 'Need 2', 'Nothing New (feat. Phoebe Bridgers) (Taylor’s Version) (From The Vault)', \"All Too Well (Taylor's Version)\", 'right where you left me - bonus track', 'Better Than Revenge', \"Enchanted (Taylor's Version)\", 'Mr. Perfectly Fine (Taylor’s Version) (From The Vault)', 'Sparks Fly', 'Red', 'ivy', 'Old Town Road', \"TEXAS HOLD 'EM\", 'Galway Girl', 'Fearless (Taylor’s Version)', 'Lay Lady Lay', 'The Story of Us', 'If I Die Young', 'All Summer Long', 'money machine', 'Funeral', \"You're Still the One\", 'Personal Jesus', 'Take It Easy', 'cowboy like me', 'I Can See You (Taylor’s Version) (From The Vault)', 'dorothea', 'Million Reasons', 'Speak Now', 'The Man Comes Around', 'Cotton Eye Joe', \"Back To December (Taylor's Version)\", \"Mine (Taylor's Version)\", 'All I Wanna Do', 'New Year’s Day', 'All Too Well', \"Should've Said No\", 'Dear John', 'F2F', 'Tim McGraw', \"State of Grace (Taylor's Version)\", 'Happier', 'tWo ghOSTs']\n"
     ]
    }
   ],
   "source": [
    "top100country = get_songs_from_lastfm('country', 100)\n",
    "print(top100country)"
   ],
   "metadata": {
    "collapsed": false,
    "ExecuteTime": {
     "end_time": "2024-05-09T07:24:03.540996900Z",
     "start_time": "2024-05-09T07:24:03.033609900Z"
    }
   },
   "id": "b279cd5ee1e3dea8",
   "execution_count": 161
  },
  {
   "cell_type": "code",
   "outputs": [
    {
     "name": "stdout",
     "output_type": "stream",
     "text": [
      "['Feel Good Inc.', 'Yellow', 'Viva la Vida', 'Poker Face', 'The Scientist', 'Somebody Told Me', 'Kids', 'Wonderwall', 'Billie Jean', 'Pumped Up Kicks', 'Clocks', 'Heartless', 'Take on Me', 'Bad Romance', 'Rolling in the Deep', 'Fix You', 'Toxic', 'I Kissed a Girl', 'Somebody That I Used To Know', 'Just Dance', 'Clint Eastwood', 'Back to Black', 'Everybody Wants to Rule the World', 'Paparazzi', 'Chasing Cars', 'Umbrella', 'Losing My Religion', 'Dog Days Are Over', 'Hey Ya!', 'Summertime Sadness', 'Paper Planes', 'Somewhere Only We Know', 'The Less I Know the Better', 'Every Breath You Take', \"I'm Yours\", 'Hot n Cold', 'I Gotta Feeling', 'This Love', \"Friday I'm in Love\", 'Dancing Queen', 'Ms. Jackson', 'Beat It', 'Crazy', \"Boys Don't Cry\", 'Video Games', 'Blinding Lights', 'Someone Like You', 'All I Want for Christmas Is You', 'Just Like Heaven', 'DARE', 'Rehab', \"Don't Stop the Music\", 'Island in the Sun', 'Royals', 'Africa', 'How to Save a Life', 'Thriller', 'Take Me to Church', 'Call Me Maybe', 'Last Friday Night (T.G.I.F.)', 'Locked Out of Heaven', 'Pink + White', 'Sparks', 'Teenage Dream', 'Starboy', 'Set Fire to the Rain', 'The Middle', 'Party in the U.S.A.', 'Bitter Sweet Symphony', 'Halo', 'Born to Die', 'Firework', 'Linger', 'Hey There Delilah', 'Paradise', 'Promiscuous', 'Riptide', 'Walking on a Dream', 'Just the Way You Are', 'Only Girl (In the World)', \"You Know I'm No Good\", 'Enjoy the Silence', 'Last Christmas', 'Young and Beautiful', 'LoveGame', \"Don't Speak\", 'Tainted Love', \"Don't Panic\", 'Disturbia', 'Kill Bill', 'TiK ToK', 'On Melancholy Hill', 'Counting Stars', 'S&M', 'All of the Lights', 'The Reason', 'Complicated', 'Smile Like You Mean It', 'Maneater', 'She Will Be Loved']\n"
     ]
    },
    {
     "data": {
      "text/plain": "list"
     },
     "execution_count": 164,
     "metadata": {},
     "output_type": "execute_result"
    }
   ],
   "source": [
    "top100pop = get_songs_from_lastfm('pop', 100)\n",
    "print(top100pop)\n"
   ],
   "metadata": {
    "collapsed": false,
    "ExecuteTime": {
     "end_time": "2024-05-09T07:26:27.987594500Z",
     "start_time": "2024-05-09T07:26:27.480784200Z"
    }
   },
   "id": "3ae9e81ca8fcc10a",
   "execution_count": 164
  },
  {
   "cell_type": "markdown",
   "source": [
    "**Retrieving data from acclaimedmusic.net txt files**\n"
   ],
   "metadata": {
    "collapsed": false
   },
   "id": "c10cfe2ba32cfb3f"
  },
  {
   "cell_type": "code",
   "outputs": [
    {
     "data": {
      "text/plain": "['Bob Dylan - Like a Rolling Stone',\n 'Nirvana - Smells Like Teen Spirit',\n 'The Beatles - A Day In The Life - Remastered',\n 'Chuck Berry - Johnny B Goode',\n \"The Rolling Stones - (I Can't Get No) Satisfaction - Mono Version / Remastered 2002\",\n 'Elvis Presley - Heartbreak Hotel',\n 'Bruce Springsteen - Born to Run',\n 'The Who - My Generation - Original Mono Version',\n 'Joy Division - Love Will Tear Us Apart',\n 'Sex Pistols - Anarchy In The UK - Remastered 2012',\n 'The Clash - London Calling',\n 'The Rolling Stones - Sympathy For The Devil',\n 'Little Richard - Tutti Frutti',\n 'Led Zeppelin - Stairway To Heaven',\n 'David Bowie - Heroes - 1999 Remaster',\n 'Prince - When Doves Cry',\n 'Pulp - Common People',\n 'The Rolling Stones - Gimme Shelter',\n 'The Kinks - You Really Got Me',\n 'The White Stripes - Seven Nation Army',\n 'R.E.M. - Losing My Religion',\n 'Sex Pistols - God Save The Queen',\n 'Queen - Bohemian Rhapsody - Remastered 2011',\n 'New Order - Blue Monday',\n 'Jimi Hendrix - Purple Haze',\n 'The Kingsmen - Louie Louie',\n 'The Beatles - Hey Jude - Remastered',\n 'The Kinks - Waterloo Sunset - Stereo',\n 'Franz Ferdinand - Take Me Out',\n \"Buddy Holly & The Crickets - That'll Be the Day\",\n 'The Doors - Light My Fire',\n 'The Smiths - There Is a Light That Never Goes Out - 2011 Remaster',\n 'The Byrds - Mr. Tambourine Man',\n 'The Verve - Bitter Sweet Symphony',\n \"Bill Haley & His Comets - (We're Gonna) Rock Around The Clock\",\n 'Derek & The Dominos - Layla - 40th Anniversary Version / 2010 Remastered',\n 'Beck - Loser',\n 'Talking Heads - Once in a Lifetime - 2005 Remaster',\n 'Radiohead - Paranoid Android',\n 'Led Zeppelin - Whole Lotta Love - Remaster',\n 'The Animals - House of the Rising Sun',\n 'Lou Reed - Walk on the Wild Side',\n 'Eagles - Hotel California',\n 'JAY-Z - 99 Problems',\n \"The Rolling Stones - Jumpin' Jack Flash\",\n 'LCD Soundsystem - All My Friends',\n 'Ramones - Blitzkrieg Bop - 2001 Remaster',\n 'Elvis Presley - Hound Dog',\n 'The Beatles - I Want To Hold Your Hand - Remastered',\n 'Jimi Hendrix - All Along the Watchtower',\n 'The Smiths - How Soon Is Now? - 2011 Remaster',\n \"Guns N' Roses - Sweet Child O' Mine\",\n \"Buffalo Springfield - For What It's Worth\",\n 'The Band - The Weight - Remastered',\n 'Elvis Presley - Suspicious Minds',\n 'David Bowie - Life On Mars? - 1999 Remastered Version',\n \"Elvis Presley - That's All Right Mama\",\n 'Oasis - Wonderwall',\n 'The Velvet Underground - Heroin',\n \"Jerry Lee Lewis - Whole Lotta Shakin' Goin' On\",\n 'Bruce Springsteen - Thunder Road',\n 'U2 - One',\n \"The Velvet Underground - I'm Waiting For The Man - Album Version (Stereo)\",\n 'Eddie Cochran - Summertime Blues',\n 'The Smiths - This Charming Man - 2011 Remaster',\n 'Carl Perkins - Blue Suede Shoes',\n 'The Rolling Stones - Paint It Black',\n 'Simon & Garfunkel - The Sound of Silence - Electric Version',\n 'Creedence Clearwater Revival - Fortunate Son',\n 'Creedence Clearwater Revival - Proud Mary',\n 'The Police - Every Breath You Take - Remastered 2003',\n 'Chuck Berry - Maybellene - Single Version',\n 'LCD Soundsystem - Losing My Edge',\n 'The Byrds - Eight Miles High',\n 'Jerry Lee Lewis - Great Balls Of Fire',\n 'Yeah Yeah Yeahs - Maps',\n 'The Beatles - She Loves You - Remastered',\n 'Bob Dylan - Tangled up in Blue',\n 'Rod Stewart - Maggie May',\n 'Radiohead - Creep',\n 'Gene Vincent & His Blue Caps - Be-Bop-A-Lula',\n 'Black Sabbath - Paranoid',\n 'Blondie - Heart Of Glass [24-Bit Digitally Remastered 01]',\n 'Led Zeppelin - Kashmir - 1990 Remaster',\n 'Run–D.M.C. - Walk This Way (feat. Aerosmith)',\n 'Television - Marquee Moon - 2003 Remaster',\n 'Oasis - Live Forever',\n 'MGMT - Time to Pretend',\n 'The Rolling Stones - Brown Sugar',\n 'The Beatles - Tomorrow Never Knows - Remastered',\n 'Roy Orbison - Oh, Pretty Woman',\n 'Elvis Presley - Jailhouse Rock',\n 'Arctic Monkeys - I Bet You Look Good On The Dancefloor',\n 'Blur - Song 2 - 2012 Remaster',\n 'Prince - Purple Rain',\n 'Bruce Springsteen - Born In The U.S.A.',\n 'Buddy Holly - Peggy Sue - Single Version',\n 'Jefferson Airplane - White Rabbit',\n 'U2 - Sunday Bloody Sunday',\n 'Talking Heads - Psycho Killer - 2005 Remaster',\n 'Soft Cell - Tainted Love',\n 'Prince - Little Red Corvette',\n 'The Rolling Stones - Honky Tonk Women - Mono Version',\n 'Mitski - Your Best American Girl',\n 'Animal Collective - My Girls',\n 'T. Rex - Get It On',\n \"The La's - There She Goes\",\n 'The Beatles - Help! - Remastered',\n 'The Rapture - House Of Jealous Lovers',\n 'The Strokes - Last Nite',\n \"The Who - Won't Get Fooled Again - Original Album Version\",\n 'The Beatles - In My Life - Remastered',\n 'The Undertones - Teenage Kicks',\n 'Johnny Cash - I Walk The Line - Single Version',\n 'Van Morrison - Brown Eyed Girl',\n 'Bo Diddley - Bo Diddley',\n 'Bob Dylan - Subterranean Homesick Blues',\n 'The Killers - Mr. Brightside',\n 'Roxy Music - Virginia Plain',\n 'Del Shannon - Runaway',\n \"The Who - Baba O'Riley\",\n 'Fleetwood Mac - Go Your Own Way',\n 'The Clash - (White Man) In Hammersmith Palais',\n \"Blue Öyster Cult - (Don't Fear) The Reaper\",\n 'Deep Purple - Smoke On the Water',\n 'Jonathan Richman & The Modern Lovers - Roadrunner (Twice)',\n 'David Bowie - Changes - 1999 Remastered Version',\n 'The Beatles - Let It Be - Remastered',\n \"Elvis Presley - Don't Be Cruel\",\n 'Them - Gloria (feat. Van Morrison) - Mono Version',\n 'The Stooges - I Wanna Be Your Dog',\n 'The Smashing Pumpkins - 1979',\n 'The Troggs - Wild Thing',\n 'David Bowie - Ziggy Stardust - 2012 Remastered Version',\n 'Cream - Sunshine Of Your Love',\n 'The Stooges - Search and Destroy [2023 Remaster] - Iggy Mix',\n 'The Beatles - While My Guitar Gently Weeps - Remastered',\n \"Buzzcocks - Ever Fallen in Love (With Someone You Shouldn't've?) - 1996 Remastered Version\",\n 'U2 - With Or Without You - Remastered',\n 'Elvis Presley - Mystery Train',\n 'Ritchie Valens - La Bamba',\n 'LCD Soundsystem - Dance Yrself Clean',\n 'Arcade Fire - Rebellion (Lies)',\n \"The Beach Boys - Don't Worry Baby (Mono)\",\n 'Pixies - Debaser',\n 'The Velvet Underground - Sweet Jane',\n 'Michael Jackson - Beat It',\n 'Pink Floyd - Wish You Were Here - 2011 Remastered Version',\n 'Beastie Boys - Sabotage - 2009 Digital Remaster',\n 'Love - Alone Again Or',\n 'Hot Chip - Over And Over',\n 'Mott The Hoople - All the Young Dudes',\n 'Thin Lizzy - The Boys Are Back In Town',\n 'MC5 - Kick Out the Jams',\n 'Pink Floyd - See Emily Play - 2001 Remastered Version',\n 'Blur - Girls & Boys - 2012 Remaster',\n 'The Breeders - Cannonball',\n 'The Beatles - Something - Remastered',\n 'AC/DC - Highway To Hell',\n 'Steppenwolf - Born To Be Wild',\n 'Pretenders - Brass in Pocket',\n 'Big Joe Turner - Shake, Rattle and Roll',\n 'The Everly Brothers - Bye Bye Love',\n \"Alice Cooper - School's Out\",\n 'The White Stripes - Fell In Love With a Girl',\n 'Metallica - Enter Sandman',\n 'Pixies - Where Is My Mind?',\n '? & The Mysterians - 96 Tears',\n 'R.E.M. - Radio Free Europe',\n 'Motörhead - Ace Of Spades',\n 'Sonic Youth - Teen Age Riot',\n 'Arcade Fire - Wake Up',\n 'Link Wray - Rumble',\n \"The Spencer Davis Group - Gimme Some Lovin' - Single Mix\",\n 'Patti Smith - Gloria: In Excelsis Deo',\n 'AC/DC - Back In Black',\n 'The Rolling Stones - Tumbling Dice',\n \"The Lovin' Spoonful - Summer in the City - Remastered\",\n 'Rage Against The Machine - Killing In The Name',\n 'The Cure - Just Like Heaven',\n 'Lynyrd Skynyrd - Sweet Home Alabama',\n \"The Who - I Can't Explain - Original Mono Version\",\n 'Modest Mouse - Float On',\n \"The Rolling Stones - You Can't Always Get What You Want\",\n 'Lynyrd Skynyrd - Free Bird',\n 'Iggy Pop - Lust For Life',\n 'Neil Young - Heart of Gold',\n 'David Bowie - Ashes to Ashes',\n 'The Who - I Can See For Miles - Mono Version',\n 'The Beach Boys - I Get Around (Mono)',\n 'Boston - More Than a Feeling',\n 'The Beatles - I Am The Walrus - Remastered',\n 'Red Hot Chili Peppers - Under the Bridge',\n 'The Kinks - Lola',\n 'The Flaming Lips - Do You Realize??',\n 'Jimi Hendrix - Hey Joe',\n \"R.E.M. - It's The End Of The World As We Know It (And I Feel Fine)\",\n 'Led Zeppelin - Dazed and Confused - 1990 Remaster',\n 'Beastie Boys - Fight For Your Right',\n 'The Beatles - Ticket To Ride - Remastered',\n 'Dire Straits - Sultans Of Swing',\n 'The Stone Roses - Fools Gold - Remastered 2009',\n 'Jackie Brenston & His Delta Cats - Rocket 88 - Single Version',\n 'Chuck Berry - Roll Over Beethoven',\n 'John Lennon - Instant Karma! (We All Shine On) - Remastered 2010',\n 'Alanis Morissette - You Oughta Know',\n 'Don McLean - American Pie',\n 'Radiohead - Fake Plastic Trees',\n 'Queens of the Stone Age - No One Knows',\n 'Pixies - Monkey Gone to Heaven',\n 'Jefferson Airplane - Somebody to Love',\n \"Guns N' Roses - Welcome To The Jungle\",\n 'Primal Scream - Loaded',\n 'The Jam - Going Underground',\n 'Little Richard - Long Tall Sally',\n 'The Beatles - Come Together - Remastered',\n 'Crosby, Stills, Nash & Young - Ohio',\n 'Kelly Clarkson - Since U Been Gone',\n 'Violent Femmes - Blister in the Sun - 2002 Remastered Version',\n 'Van Halen - Jump',\n 'Richard Hell - Blank Generation',\n 'The Rolling Stones - Wild Horses',\n \"The Monkees - I'm a Believer\",\n 'Pink Floyd - Another Brick In The Wall, Pt. 2 - 2011 Remastered Version',\n 'The Police - Roxanne - Remastered 2003',\n 'Echo & the Bunnymen - The Killing Moon',\n 'Queen - Under Pressure',\n 'U2 - Pride (In The Name Of Love) - Remastered 2009',\n 'TV On The Radio - Wolf Like Me',\n 'The Jesus and Mary Chain - Just Like Honey',\n 'New Order - Bizarre Love Triangle',\n 'Creedence Clearwater Revival - Bad Moon Rising',\n 'Courtney Barnett - Pedestrian at Best',\n 'The Doors - The End',\n 'The Only Ones - Another Girl, Another Planet - 2008 re-mastered version',\n 'Ramones - Sheena Is a Punk Rocker - 2009 Remaster',\n 'Jimi Hendrix - Voodoo Child (Slight Return)',\n 'Patti Smith - Because the Night',\n \"13th Floor Elevators - You're Gonna Miss Me (2008 Remastered Original Mono LP Version)\",\n 'Dexys Midnight Runners - Come On Eileen',\n 'George Harrison - My Sweet Lord - 2001 Digital Remaster',\n 'The Clash - Should I Stay or Should I Go',\n 'Arcade Fire - Reflektor',\n 'The Damned - New Rose',\n \"The Cure - Boys Don't Cry\",\n 'The Rolling Stones - Street Fighting Man',\n 'Joy Division - Transmission',\n 'Nirvana - All Apologies',\n \"The Beatles - A Hard Day's Night - Remastered\",\n 'Janis Joplin - Me and Bobby McGee',\n 'Dinosaur Jr. - Freak Scene',\n 'David Bowie - Starman - 2012 Remastered Version',\n 'The Box Tops - The Letter',\n \"Beck - Where It's At\",\n 'Nirvana - Come As You Are',\n 'R.E.M. - Everybody Hurts',\n 'The Walkmen - The Rat',\n 'James Taylor - Fire and Rain',\n 'David Bowie - Young Americans - 2007 Remaster',\n 'Big Star - September Gurls',\n \"The Jam - That's Entertainment\",\n \"Joan Jett & the Blackhearts - I Love Rock 'N Roll\",\n 'Elvis Costello - Alison',\n 'The Velvet Underground - Rock & Roll',\n 'PJ Harvey - Rid Of Me',\n 'Soundgarden - Black Hole Sun',\n 'Ariel Pink - Round And Round',\n 'Bob Dylan - Visions of Johanna',\n 'The Velvet Underground - Venus In Furs',\n 'The Isley Brothers - Shout, Pts. 1 & 2',\n 'The Clash - Rock the Casbah',\n 'Nine Inch Nails - Closer',\n 'David Bowie - Lazarus',\n 'Big Thief - Not',\n 'Led Zeppelin - Immigrant Song',\n 'Radiohead - Karma Police',\n 'Foo Fighters - Everlong',\n 'Chubby Checker - The Twist',\n 'Arctic Monkeys - Do I Wanna Know?',\n 'The Beatles - Revolution - Remastered',\n 'Little Richard - Good Golly Miss Molly',\n 'Bo Diddley - Who Do You Love - Single Version',\n 'The National - Bloodbuzz Ohio',\n 'Pink Floyd - Comfortably Numb - 2011 Remastered Version',\n 'Lou Reed - Perfect Day',\n 'Coldplay - Yellow',\n 'The Beatles - Helter Skelter - Remastered',\n 'Neil Young - Cortez The Killer',\n 'Fugazi - Waiting Room',\n \"Carole King - It's Too Late\",\n 'Phil Collins - In The Air Tonight',\n 'Angel Olsen - Shut Up Kiss Me',\n 'The Hives - Hate To Say I Told You So',\n 'The Doors - Riders on the Storm',\n 'The Everly Brothers - Wake up Little Susie - Single Version; 2006 Remaster',\n 'David Bowie - Blackstar',\n 'R.E.M. - The One I Love',\n 'The Band - The Night They Drove Old Dixie Down - Remastered 2000',\n 'Pavement - Cut Your Hair',\n 'Pearl Jam - Jeremy',\n \"U2 - I Still Haven't Found What I'm Looking For - Remastered 2007\",\n 'Fleetwood Mac - Dreams',\n \"Creedence Clearwater Revival - Who'll Stop The Rain\",\n 'Aerosmith - Walk This Way',\n 'The Easybeats - Friday On My Mind',\n 'Bruce Springsteen - The River',\n 'B.B. King - The Thrill Is Gone',\n 'a-ha - Take on Me',\n 'Iggy Pop - The Passenger',\n \"The Lovin' Spoonful - Do You Believe in Magic?\",\n 'The Pogues - Fairytale of New York (feat. Kirsty MacColl)',\n 'The Police - Message In A Bottle',\n 'Simon & Garfunkel - The Boxer',\n 'Mazzy Star - Fade Into You',\n 'Depeche Mode - Personal Jesus',\n 'Big Star - Thirteen',\n 'U2 - Where The Streets Have No Name - Remastered 2007',\n 'The Beatles - All You Need Is Love - Remastered',\n 'The Coasters - Yakety Yak',\n 'The Bobby Fuller Four - I Fought the Law - Single Version',\n 'Roxy Music - Love Is The Drug',\n 'Japandroids - The House That Heaven Built',\n 'Cornershop - Brimful of Asha',\n 'Free - All Right Now',\n 'The Beatles - Paperback Writer - Remastered',\n 'Gossip - Standing In The Way Of Control',\n \"Neil Young - Rockin' in the Free World\",\n \"David Bowie - Let's Dance - 1999 Remaster\",\n 'AC/DC - You Shook Me All Night Long',\n 'The Shadows - Apache',\n 'The Beatles - Happiness Is A Warm Gun - Remastered',\n 'The Strokes - Hard To Explain',\n 'David Bowie - Rebel Rebel - 1999 Remaster',\n 'Pink Floyd - Shine On You Crazy Diamond, Pts. 1-5 - 2011 Remastered Version',\n 'Roxy Music - More Than This',\n 'Jeff Buckley - Hallelujah',\n 'Janis Joplin - Piece of My Heart',\n 'Paul McCartney - Maybe I’m Amazed - Remastered 2011',\n 'New Order - True Faith - 2015 Remaster',\n 'Vampire Weekend - A-Punk',\n 'The Buggles - Video Killed The Radio Star',\n 'Aerosmith - Dream On',\n 'King Crimson - 21st Century Schizoid Man',\n 'The Rolling Stones - Miss You - Remastered',\n 'Bob Dylan - Positively 4th Street - Single Version',\n 'The Beatles - Here Comes The Sun - Remastered',\n 'Jeff Buckley - Last Goodbye',\n 'Sex Pistols - Pretty Vacant',\n 'Magazine - Shot By Both Sides - Remastered',\n \"Bob Dylan - Knockin' On Heaven's Door\",\n 'Cliff Richard & The Drifters - Move It - 2000 Remaster',\n 'Bob Dylan - Just Like a Woman',\n 'Don Henley - The Boys Of Summer',\n \"Sparks - This Town Ain't Big Enough For Both Of Us\",\n 'Pearl Jam - Alive',\n 'New York Dolls - Personality Crisis',\n 'Ramones - I Wanna Be Sedated - Remastered',\n \"U2 - New Year's Day\",\n 'Nirvana - Heart-Shaped Box',\n 'The 1975 - Love It If We Made It',\n 'The Byrds - Turn! Turn! Turn! (To Everything There Is a Season)',\n 'Public Image Ltd. - Public Image',\n \"The B-52's - Rock Lobster\",\n 'Cheap Trick - Surrender',\n 'Tame Impala - Feels Like We Only Go Backwards',\n 'Dion & The Belmonts - Runaround Sue',\n \"The Rolling Stones - Let's Spend The Night Together - Stereo Version\",\n \"Bo Diddley - I'm A Man - Single Version\",\n \"Bon Jovi - Livin' On A Prayer\",\n 'Gang Of Four - Damaged Goods',\n 'Nirvana - Lithium',\n 'Weezer - Buddy Holly',\n 'Neil Young - Hey Hey, My My (Into The Black)',\n 'Bob Dylan - Hurricane',\n \"Oasis - Don't Look Back In Anger\",\n \"The Libertines - Can't Stand Me Now\",\n 'Battles - Atlas',\n 'Crosby, Stills & Nash - Suite: Judy Blue Eyes - 2005 Remaster',\n 'The Who - Substitute - Single Version',\n 'The Sugarcubes - Birthday',\n 'Bloc Party - Banquet',\n 'Gary Numan - Cars - Remastered 2009',\n 'The Clash - Complete Control',\n 'John Lennon - Jealous Guy - Remastered 2010',\n 'The Flaming Lips - Race For The Prize',\n 'The Beatles - Lucy In The Sky With Diamonds - Remastered',\n 'Coldplay - Clocks',\n 'The Rolling Stones - Angie - Remastered 2009',\n 'Bob Seger - Night Moves',\n 'Ian Dury - Sex & Drugs & Rock & Roll',\n 'Black Sabbath - Iron Man',\n 'Sam The Sham & The Pharaohs - Wooly Bully',\n 'Tom Petty and the Heartbreakers - American Girl',\n 'Pink Floyd - Money - 2011 Remastered Version',\n 'Jimi Hendrix - Little Wing',\n 'Pavement - Summer Babe (Winter Version)',\n 'XTC - Making Plans For Nigel',\n \"The Beach Boys - Surfin' Usa\",\n 'Simon & Garfunkel - America - Single Mix',\n 'The Knack - My Sharona',\n 'Elvis Costello - Watching The Detectives',\n \"Tom Petty - Free Fallin'\",\n 'Nick Cave & The Bad Seeds - The Mercy Seat - 2010 Digital Remaster',\n 'Radiohead - Pyramid Song',\n 'Dead Kennedys - Holiday In Cambodia',\n 'Peter Gabriel - Solsbury Hill',\n 'Elton John - Goodbye Yellow Brick Road',\n 'Tom Tom Club - Genius Of Love',\n 'Bob Dylan - Ballad of a Thin Man',\n '!!! - Me and Guiliani Down by the School Yard - A True Story',\n \"Elvis Costello & The Attractions - Oliver's Army\",\n 'Simon & Garfunkel - Mrs. Robinson',\n 'Metallica - Master Of Puppets',\n 'Count Five - Psychotic Reaction',\n 'Red Hot Chili Peppers - Give It Away',\n 'Elton John - Tiny Dancer',\n 'David Bowie - Sound and Vision - 1999 Remaster',\n 'U2 - Beautiful Day',\n 'ZZ Top - La Grange - 2005 Remaster',\n 'The Cure - A Forest',\n 'The Cure - Close To Me',\n 'my bloody valentine - Soon',\n \"The Zombies - She's Not There\",\n 'Bruce Springsteen - Dancing In The Dark',\n 'The Beach Boys - California Girls - Remix/Remastered 2001',\n \"Weezer - Say It Ain't So\",\n 'Green Day - American Idiot',\n 'Neil Young - After the Gold Rush',\n 'Blondie - Call Me',\n \"Carly Simon - You're So Vain\",\n 'Gorillaz - Feel Good Inc.',\n 'Bauhaus - Bela Lugosi’s Dead',\n 'Oasis - Champagne Supernova',\n 'Nirvana - About A Girl - Remastered',\n 'Kings of Leon - Sex on Fire',\n 'Green Day - Basket Case',\n 'The Clash - Train in Vain',\n 'Pavement - Gold Soundz',\n 'Mitski - Nobody',\n 'Peter Gabriel - Sledgehammer',\n \"Crowded House - Don't Dream It's Over\",\n 'Queen - We Will Rock You',\n 'Billy Joel - Piano Man',\n \"The Ventures - Walk, Don't Run\",\n 'New Radicals - You Get What You Give',\n 'my bloody valentine - Only Shallow',\n 'my bloody valentine - You Made Me Realise - Remastered Version',\n 'Tears For Fears - Everybody Wants To Rule The World',\n \"Mudhoney - Touch Me I'm Sick\",\n 'The Beatles - I Saw Her Standing There - Remastered',\n 'Fairport Convention - Who Knows Where The Time Goes?',\n 'Joy Division - Atmosphere',\n 'Led Zeppelin - Rock And Roll',\n 'The Doors - L.A. Woman - Remaster',\n 'David Bowie - Fame - 2007 Remaster',\n 'The War On Drugs - Red Eyes',\n 'The Black Keys - Lonely Boy',\n 'Oasis - Supersonic',\n 'Paul McCartney - Band On The Run - Remastered 2010',\n 'Coldplay - The Scientist',\n 'Little Richard - Lucille',\n 'Bruce Springsteen - Jungleland',\n 'Grateful Dead - Dark Star - Single Version',\n 'The Clash - White Riot',\n \"Gary Numan - Are 'Friends' Electric?\",\n 'Queen - We Are The Champions - Remastered 2011',\n 'DEVO - Whip It',\n \"Guns N' Roses - Paradise City\",\n 'Pink Floyd - Astronomy Domine - 2011 Remastered Version',\n 'The Rolling Stones - Ruby Tuesday - Stereo Version',\n \"Panda Bear - Bro's\",\n 'The Rolling Stones - Start Me Up - Remastered',\n 'Blur - Out of Time',\n 'PJ Harvey - Down By The Water',\n 'Suede - Animal Nitrate (Remastered)',\n 'Culture Club - Do You Really Want To Hurt Me',\n 'Jethro Tull - Aqualung',\n 'Led Zeppelin - When The Levee Breaks',\n 'Happy Mondays - Step On',\n 'The Zombies - Time of the Season',\n 'Nine Inch Nails - Hurt',\n 'Creedence Clearwater Revival - Have You Ever Seen The Rain?',\n 'The Stone Roses - I Wanna Be Adored - Remastered 2009',\n 'Billy Bragg - A New England',\n 'David Bowie - The Man Who Sold The World - 1999 Remastered Version',\n 'The Jam - Down In The Tube Station At Midnight - Full Version',\n 'Black Sabbath - War Pigs',\n \"Journey - Don't Stop Believin'\",\n \"Elton John - Rocket Man (I Think It's Going To Be A Long Long Time)\",\n 'Bruce Springsteen - Rosalita (Come out Tonight)',\n 'TV On The Radio - Staring At The Sun',\n \"Eddie Cochran - C'mon Everybody\",\n 'Yeah Yeah Yeahs - Zero',\n 'Klaxons - Golden Skans',\n 'The Rolling Stones - Under My Thumb',\n 'Blondie - Atomic - Remastered/2001',\n 'The Beatles - Golden Slumbers - Remastered',\n 'Green Day - Good Riddance (Time of Your Life)',\n 'Suzanne Vega - Luka',\n 'Robert Wyatt - Sea Song',\n 'Cream - White Room',\n 'The Yardbirds - For Your Love',\n 'Faces - Stay with Me - 2008 Remaster',\n 'The Beatles - Please Please Me - Remastered',\n \"Daryl Hall & John Oates - She's Gone\",\n 'The Beatles - Rain - Remastered',\n 'KISS - Rock And Roll All Nite',\n 'Car Seat Headrest - Drunk Drivers/Killer Whales',\n 'The Who - Pinball Wizard - Original Album Version',\n 'Talking Heads - Burning Down the House - 2005 Remaster',\n \"The Young Rascals - Good Lovin' - Single Version\",\n 'Siouxsie and the Banshees - Hong Kong Garden',\n 'T. Rex - 20th Century Boy',\n 'Radiohead - No Surprises',\n 'Neil Young - Like a Hurricane',\n \"Allman Brothers Band - Ramblin' Man\",\n 'Lloyd Price - Lawdy Miss Clawdy - Single Version',\n 'Pixies - Gigantic',\n 'Various Artists - Itchycoo Park',\n 'New Order - Temptation [7\" Version]',\n 'Wings - Live and Let Die',\n 'Bob Dylan - All Along the Watchtower',\n 'The Crickets - Not Fade Away',\n 'Danny & The Juniors - At The Hop',\n 'Allman Brothers Band - Whipping Post',\n 'The Cars - Just What I Needed',\n 'The Rolling Stones - Get Off Of My Cloud - Mono Version / Remastered 2002',\n 'Queen - Killer Queen - Remastered 2011',\n 'Joy Division - She\\'s Lost Control - 12\" Single Version',\n \"Steely Dan - Reelin' In The Years\",\n 'Beck - Devils Haircut',\n 'Santana - Black Magic Woman / Gypsy Queen',\n 'Edwyn Collins - A Girl Like You',\n 'Chuck Berry - Sweet Little Sixteen',\n 'Chris Isaak - Wicked Game',\n \"Van Halen - Runnin' With The Devil\",\n 'The Velvet Underground - Sister Ray',\n 'The Replacements - I Will Dare',\n \"Simple Minds - Don't You (Forget About Me)\",\n 'New Order - Regret',\n 'Wilbert Harrison - Kansas City',\n 'The Kinks - Sunny Afternoon',\n 'Jimi Hendrix - Crosstown Traffic',\n 'Bikini Kill - Rebel Girl',\n 'Snail Mail - Pristine',\n 'The Surfaris - Wipe Out',\n 'Elastica - Connection',\n 'Foreigner - I Want to Know What Love Is - 1999 Remaster',\n 'Arcade Fire - The Suburbs',\n 'King Krule - Dum Surfer',\n 'Madness - Our House (Remastered)',\n 'The Doobie Brothers - What a Fool Believes',\n 'Eels - Novocaine For The Soul',\n 'Beach House - Myth',\n 'Neil Young - Down by the River - 2009 Remaster',\n 'Suicide - Frankie Teardrop',\n \"Guns N' Roses - November Rain\",\n 'Led Zeppelin - Black Dog',\n 'Elvis Presley - All Shook Up',\n 'Iron Butterfly - In-A-Gadda-Da-Vida - 2006 Remaster Full-Length',\n 'The Beta Band - Dry The Rain',\n 'The Moody Blues - The Night',\n 'The Chemical Brothers - Setting Sun',\n 'Black Flag - Rise Above',\n \"Bruce Springsteen - I'm On Fire\",\n 'Jeff Buckley - Grace',\n 'The Jam - The Eton Rifles',\n \"Flamin' Groovies - Shake Some Action\",\n \"The Trashmen - Surfin' Bird\",\n \"The Go-Go's - Our Lips Are Sealed - 2011 Remaster\",\n 'The Smashing Pumpkins - Tonight, Tonight',\n 'Warren Zevon - Werewolves of London',\n 'Mitch Ryder and The Detroit Wheels - Devil with a Blue Dress On / Good Golly Miss Molly (Medley)',\n 'Jimi Hendrix - The Wind Cries Mary',\n 'Arcade Fire - Neighborhood #1 (Tunnels)',\n 'Sonic Youth - Kool Thing',\n 'Manic Street Preachers - Motorcycle Emptiness - Remastered',\n 'The Beatles - We Can Work It Out - Remastered',\n 'Lou Reed - Satellite of Love',\n 'Eagles - Desperado',\n 'The Beatles - Day Tripper - Remastered',\n 'Lana Del Rey - The greatest',\n \"Bachman-Turner Overdrive - You Ain't Seen Nothing Yet\",\n 'Neutral Milk Hotel - Holland, 1945',\n 'Manic Street Preachers - A Design for Life',\n 'The Beatles - Get Back - Remastered 2015',\n 'Elvis Costello & The Attractions - Radio, Radio',\n \"The Killers - All These Things That I've Done\",\n 'David Bowie - Station to Station',\n 'Dion - The Wanderer',\n 'David Bowie - Modern Love - 1999 Remaster',\n 'Elton John - Bennie And The Jets - Remastered 2014',\n 'Electric Light Orchestra - Mr. Blue Sky',\n \"The B-52's - Love Shack\",\n 'Queens of the Stone Age - Feel Good Hit Of The Summer',\n 'Band of Horses - The Funeral',\n 'HAIM - The Wire',\n 'The Jam - Town Called Malice',\n \"The Cure - Friday I'm In Love\",\n 'The Animals - We Gotta Get Out Of This Place - UK Single Version',\n 'Wire - Outdoor Miner - 2006 Remastered Version',\n 'INXS - Need You Tonight',\n 'Taylor Swift - All Too Well',\n 'The Velvet Underground - Pale Blue Eyes',\n 'Liz Phair - Fuck And Run',\n \"Carole King - You've Got a Friend\",\n 'The Band - Up On Cripple Creek - Remastered 2000',\n \"The Beatles - Can't Buy Me Love - Remastered\",\n 'Chuck Berry - Rock And Roll Music - 1958 Single Version',\n 'Donovan - Season of the Witch',\n \"Johnny Burnette - The Train Kept A-Rollin'\",\n 'The Psychedelic Furs - Pretty in Pink - Remastered Album Version',\n 'U2 - I Will Follow',\n 'At the Drive-In - One Armed Scissor',\n 'Fine Young Cannibals - She Drives Me Crazy',\n 'Paul Simon - Graceland',\n 'Fleetwood Mac - The Chain',\n 'The Smiths - Bigmouth Strikes Again - 2011 Remaster',\n \"Bryan Adams - Summer Of '69\",\n 'The War On Drugs - Under The Pressure',\n 'Fiona Apple - Criminal',\n 'The Jam - In The City',\n 'Sex Pistols - Holidays In The Sun',\n 'Aerosmith - Sweet Emotion',\n 'David Bowie - Golden Years - 1999 Remaster',\n \"Cloud Nothings - I'm Not Part Of Me\",\n 'Dexys Midnight Runners - Geno - 2000 Remaster',\n 'Prince - Raspberry Beret',\n 'Neil Young - Cinnamon Girl - 2009 Remaster',\n \"Little - Willin'\",\n 'The Rolling Stones - Beast Of Burden - Remastered',\n 'Radiohead - There, There',\n 'Joe Cocker - With a Little Help from My Friends',\n \"The Smiths - Heaven Knows I'm Miserable Now - 2011 Remaster\",\n 'Suicide - Ghost Rider',\n 'The Smashing Pumpkins - Bullet With Butterfly Wings - Remastered 2012',\n 'The Guess Who - American Woman',\n 'Pulp - This Is Hardcore - Original Version',\n 'Green Day - Longview',\n 'Fleetwood Mac - Oh Well (Pt. 1) - 2013 Remaster',\n 'X-Ray Spex - Oh Bondage, Up Yours!',\n 'Queen - Another One Bites The Dust - Remastered 2011',\n 'The Rolling Stones - 19th Nervous Breakdown',\n 'Morrissey - First Of The Gang To Die - Remastered',\n 'R.E.M. - Fall On Me - 2011 Remaster',\n 'R.E.M. - Man On The Moon',\n \"The Young Rascals - Groovin'\",\n 'The Horrors - Sea Within A Sea',\n 'Pink Floyd - Arnold Layne - 2001 Remastered Version',\n 'The Cure - Pictures Of You - Remastered',\n 'The Who - The Kids Are Alright - Shel Talmy Stereo Version',\n 'The Beatles - With A Little Help From My Friends - Remastered',\n 'The Searchers - Needles And Pins',\n 'The Libertines - Time For Heroes',\n 'Bob Dylan - Mississippi',\n 'Slayer - Angel Of Death',\n 'The Strokes - Someday',\n 'Talking Heads - Life During Wartime - 2005 Remaster',\n \"Johnny Kidd & The Pirates - Shakin' All Over\",\n 'The Smashing Pumpkins - Today - 2011 Remaster',\n 'New Order - Ceremony - 2011 Total Version',\n 'Thunderclap Newman - Something in the Air',\n 'Van Morrison - Into The Mystic',\n 'The Smiths - Panic (2008 Remastered Version)',\n 'Interpol - Obstacle 1',\n 'Bruce Springsteen - Streets of Philadelphia',\n 'David Bowie - Suffragette City - 2012 Remastered Version',\n \"The Saints - I'm Stranded\",\n 'Metallica - One',\n 'Bob Dylan - Sad-Eyed Lady of the Lowlands',\n 'Midnight Oil - Beds Are Burning',\n 'The Electric Prunes - I Had Too Much to Dream (Last Night)',\n 'Hot Chip - Ready For The Floor',\n 'Buddy Holly - Rave On',\n 'Duane Eddy - Rebel Rouser',\n 'The Stone Roses - I Am the Resurrection - Remastered 2009',\n 'Roxy Music - Do The Strand',\n 'The Rolling Stones - Happy',\n 'The Slits - Typical Girls',\n \"The Byrds - I'll Feel a Whole Lot Better\",\n 'The Doors - Break on Through (To the Other Side)',\n 'Fleetwood Mac - Rhiannon',\n 'Björk - Army Of Me',\n \"Mission Of Burma - That's When I Reach for My Revolver\",\n \"Jane's Addiction - Been Caught Stealing\",\n 'Tim Buckley - Song to the Siren',\n 'Franz Ferdinand - Do You Want To',\n \"No Doubt - Don't Speak\",\n 'Jimi Hendrix - Fire',\n 'Radiohead - Let Down',\n 'IDLES - Danny Nedelko',\n 'The Charlatans - The Only One I Know',\n 'Yo La Tengo - Autumn Sweater',\n 'The Stone Roses - She Bangs the Drums - Remastered 2009',\n 'Hole - Celebrity Skin',\n 'Norman Greenbaum - Spirit in the Sky',\n 'Cheap Trick - I Want You to Want Me - Live at Nippon Budokan, Tokyo, JPN - April 1978',\n 'Jimi Hendrix - Manic Depression',\n 'Peter Gabriel - In Your Eyes',\n 'The Offspring - Come Out and Play',\n \"Prince - Let's Go Crazy\",\n 'The Rolling Stones - Rocks Off',\n 'Slade - Cum On Feel The Noize',\n 'America - A Horse with No Name',\n 'Jackie Wilson - Reet Petite - The Finest Girl You Ever Want to Meet',\n 'Natalie Imbruglia - Torn',\n 'Talking Heads - This Must Be the Place (Naive Melody) - 2005 Remaster',\n 'Alabama Shakes - Hold On',\n 'The Flying Burrito Brothers - Sin City',\n 'The National - Fake Empire',\n 'Def Leppard - Photograph',\n \"The Seeds - Pushin' Too Hard\",\n 'Prince - When You Were Mine',\n 'The Raconteurs - Steady, As She Goes',\n 'Elvis Costello & The Attractions - Pump It Up',\n 'Bruce Springsteen - Badlands',\n 'The Rolling Stones - The Last Time - Remastered 2002',\n 'Sigur Rós - Hoppípolla',\n 'Buzzcocks - Orgasm Addict - 1996 Remastered Version',\n 'The Cure - Inbetween Days',\n 'Blur - The Universal - 2012 Remaster',\n \"CSS - Let's Make Love and Listen to Death From Above\",\n \"Daryl Hall & John Oates - I Can't Go for That (No Can Do)\",\n \"Grand Funk Railroad - We're An American Band - Remastered 2002\",\n 'Pretenders - Back On The Chain Gang - 2009 Remastered',\n 'John Lennon - God - Remastered 2010',\n 'Steve Miller Band - The Joker',\n 'Supergrass - Alright',\n 'The Church - Under the Milky Way',\n 'Bruce Springsteen - Brilliant Disguise',\n \"Alice Cooper - I'm Eighteen\",\n 'Steely Dan - Do It Again',\n 'Neil Young - Cowgirl in the Sand - 2009 Remaster',\n 'Canned Heat - On The Road Again',\n 'The Monkees - Last Train to Clarksville',\n 'Primal Scream - Higher Than the Sun',\n \"Steely Dan - Rikki Don't Lose That Number\",\n 'Funkadelic - Maggot Brain',\n 'Eric Clapton - Tears in Heaven - Acoustic; Live at MTV Unplugged, Bray Film Studios, Windsor, England, UK, 1/16/1992; 2013 Remaster',\n 'T. Rex - Jeepster',\n 'Santana - Smooth',\n 'NEU! - Hallogallo',\n 'Red Hot Chili Peppers - Scar Tissue',\n 'Saint Etienne - Only Love Can Break Your Heart',\n 'Red Hot Chili Peppers - Californication',\n 'Sigur Rós - Svefn - G - Englar',\n 'Faith No More - Epic',\n 'The Rolling Stones - Midnight Rambler',\n 'Elton John - Candle In The Wind',\n 'The Cranberries - Zombie',\n 'The Beatles - The Long And Winding Road - Remastered',\n 'Neil Young - Powderfinger',\n 'ABC - The Look Of Love - Pt. 1',\n 'Vampire Weekend - Diane Young',\n 'Patti Smith - Dancing Barefoot',\n 'The Smiths - What Difference Does It Make? - 2011 Remaster',\n \"The Velvet Underground - All Tomorrow's Parties\",\n 'Dale Hawkins - Susie-Q',\n 'Santana - Oye Como Va',\n 'Foals - Spanish Sahara',\n 'The Beatles - Taxman - Remastered',\n 'Prince - If I Was Your Girlfriend',\n 'Deerhunter - Helicopter',\n 'The Normal - Warm Leatherette',\n 'Sweet - Ballroom Blitz',\n 'Creedence Clearwater Revival - Green River',\n 'This Mortal Coil - Song To The Siren (Remastered)',\n 'The Plastic Ono Band - Give Peace A Chance - Remastered 2010',\n 'Happy Mondays - Kinky Afro',\n 'The Cramps - Human Fly',\n 'New Order - Crystal',\n 'Deerhunter - Nothing Ever Happened',\n 'Yoko Ono - Walking On Thin Ice',\n 'Nine Inch Nails - Head Like A Hole - Remastered',\n 'Kaiser Chiefs - I Predict A Riot',\n 'Animal Collective - Summertime Clothes',\n 'Led Zeppelin - Heartbreaker - Remaster',\n 'Elastica - Stutter',\n \"Elvis Costello & The Attractions - (What's So Funny 'Bout) Peace, Love And Understanding\",\n 'Marilyn Manson - The Beautiful People',\n 'White Town - Your Woman',\n 'Kurt Vile - Pretty Pimpin',\n 'Maximo Park - Apply Some Pressure',\n 'Peter Gabriel - Biko',\n 'Todd Rundgren - I Saw the Light',\n 'Nick Cave & The Bad Seeds - Red Right Hand',\n 'Patti Smith - Land: Horses / Land of a Thousand Dances / La Mer(de)',\n 'The Killers - When You Were Young',\n 'Blondie - Rapture - Remastered 2001',\n 'Lucy Dacus - Night Shift',\n 'Bob Dylan - Lay, Lady, Lay',\n 'Fleetwood Mac - Tusk',\n 'Joe Jackson - Is She Really Going Out With Him?',\n 'Weezer - Undone - The Sweater Song',\n 'Radiohead - True Love Waits (Live In Oslo)',\n 'Bonnie Tyler - Total Eclipse of the Heart',\n \"Elvis Costello & The Attractions - (I Don't Want To Go To) Chelsea\",\n 'Deafheaven - Dream House',\n 'AC/DC - Whole Lotta Rosie',\n 'The Replacements - Bastards of Young - 2008 Remaster',\n 'Pearl Jam - Daughter',\n 'The Beatles - Dear Prudence - Remastered',\n 'Phoebe Bridgers - Motion Sickness',\n 'Bonnie Prince Billy - I See A Darkness',\n 'Dick Dale - Miserlou',\n 'Nick Cave & The Bad Seeds - Jubilee Street',\n 'XTC - Dear God - Remastered 2001',\n 'Blur - For Tomorrow - 2012 Remaster',\n 'The Beatles - Here, There And Everywhere - Remastered',\n 'Babyshambles - Fuck Forever',\n 'Jackson Browne - Running on Empty',\n 'The Sonics - Strychnine',\n 'LCD Soundsystem - I Can Change',\n 'Le Tigre - Deceptacon',\n 'David Bowie - Moonage Daydream - 2012 Remastered Version',\n 'The Go-Betweens - Cattle and Cane (Live)',\n 'The Cure - Killing An Arab',\n 'The Chantays - Pipeline',\n 'Squeeze - Up The Junction',\n 'The Strokes - The Modern Age',\n 'Stevie Nicks - Edge of Seventeen',\n \"The Verve - The Drugs Don't Work\",\n 'Golden Earring - Radar Love',\n 'The Cure - Lovesong',\n 'Dead Kennedys - California Uber Alles',\n 'Blur - Parklife - 2012 Remaster',\n 'Ultravox - Vienna - 2008 Remastered Version',\n 'Peter Gabriel - Games Without Frontiers',\n 'Slayer - Raining Blood',\n 'Garbage - Stupid Girl',\n 'Elvis Costello & The Attractions - I Want You',\n 'Morrissey - Suedehead',\n 'John Mellencamp - Jack & Diane',\n 'Tom Petty and the Heartbreakers - Refugee',\n 'X - Los Angeles',\n 'The Futureheads - Hounds of Love',\n 'Courtney Barnett - Avant Gardener',\n 'Deerhunter - Desire Lines',\n \"The Beatles - I Want You (She's So Heavy) - Remastered\",\n 'Placebo - Pure Morning - Radio Edit; 2004 Remastered Version',\n 'Lana Del Rey - Venice Bitch',\n 'The Smashing Pumpkins - Disarm - 2011 Remaster',\n 'The New Pornographers - Letter From An Occupant',\n \"The Rolling Stones - Can't You Hear Me Knocking\",\n \"George Michael - Freedom! '90\",\n 'Traffic - Dear Mr. Fantasy',\n \"The Byrds - So You Want to Be a Rock 'N' Roll Star\",\n 'Eagles - One Of These Nights',\n 'The Bangles - Manic Monday',\n 'Girls - Lust For Life',\n 'The Stooges - No Fun',\n 'Rush - Tom Sawyer',\n 'The Beatles - Nowhere Man - Remastered',\n 'Fleetwood Mac - Albatross',\n 'The Stranglers - Golden Brown',\n 'EMF - Unbelievable',\n 'Duran Duran - Hungry Like the Wolf - 2009 Remaster',\n 'The Johnny Otis Show - Willie And The Hand Jive',\n 'Gerry Rafferty - Baker Street',\n 'Spiritualized - Ladies and Gentlemen We Are Floating in Space',\n 'Julien Baker - Me & My Dog',\n 'Steve Harley - Make Me Smile (Come Up And See Me)',\n 'Suede - The Drowners (Remastered)',\n 'Stealers Wheel - Stuck In The Middle With You',\n 'Billy Joel - Just the Way You Are',\n 'Plastic Bertrand - Ca plane pour moi',\n 'LCD Soundsystem - Daft Punk Is Playing At My House',\n 'AC/DC - Hells Bells',\n 'Spoon - The Way We Get By',\n 'Pink Floyd - Interstellar Overdrive - 2011 Remastered Version',\n 'Bruce Springsteen - Backstreets',\n 'Martha and the Muffins - Echo Beach - 2002 Remastered Version',\n 'Portugal. The Man - Feel It Still',\n \"Stereo MC's - Connected\",\n \"The Beatles - I'm Only Sleeping - Remastered\",\n 'The Who - Who Are You',\n 'The Hollies - Bus Stop',\n 'Bob Dylan - Highway 61 Revisited',\n 'John Lennon - (Just Like) Starting Over - Remastered 2010',\n 'Angel Olsen - All Mirrors',\n 'Robert Palmer - Addicted To Love',\n \"The Beatles - Don't Let Me Down - Remastered\",\n 'Blur - Country House - 2012 Remaster',\n 'Blur - This Is a Low - 2012 Remaster',\n 'Radiohead - Reckoner',\n 'The Beat - Mirror in the Bathroom',\n 'Barry McGuire - Eve Of Destruction',\n 'Bob Dylan - Forever Young - Slow Version',\n 'Nena - 99 Luftballons',\n 'Tom Waits - Downtown Train',\n 'The Beatles - I Feel Fine - Remastered',\n 'Arcade Fire - Keep The Car Running',\n 'Art Brut - Formed A Band',\n 'Arcade Fire - Everything Now',\n 'Tame Impala - The Less I Know The Better',\n 'Radiohead - Street Spirit (Fade Out)',\n 'Orange Juice - Rip It Up',\n 'Primal Scream - Come Together',\n 'Dire Straits - Money For Nothing',\n 'The White Stripes - Dead Leaves And The Dirty Ground',\n 'The Beatles - Love Me Do - Mono / Remastered',\n 'The Doors - People Are Strange',\n 'Paul McCartney - Jet - Remastered 2010',\n 'Sheryl Crow - All I Wanna Do',\n 'Crazy World Of Arthur Brown - Fire',\n 'Black Sabbath - Black Sabbath',\n 'David Bowie - Five Years - 2012 Remastered Version',\n 'The Stooges - 1969',\n 'Small Faces - Tin Soldier (Mono)',\n 'Blur - Beetlebum - 2012 Remaster',\n 'Talking Heads - Road to Nowhere - 2005 Remaster',\n 'Veruca Salt - Seether',\n \"Wanda Jackson - Let's Have A Party\",\n 'T. Rex - Telegram Sam',\n 'R.E.M. - Drive',\n 'Steely Dan - Deacon Blues',\n \"Billy Bragg - Levi Stubbs' Tears\",\n \"Heaven 17 - (We Don't Need This) Fascist Groove Thang - Remastered 2006\",\n 'The Associates - Party Fears Two',\n 'Blondie - Dreaming - Remastered',\n 'Pulp - Disco 2000',\n 'The Smiths - The Boy with the Thorn in His Side - 2011 Remaster',\n 'Grateful Dead - Box Of Rain - Remastered Version',\n 'The Big Pink - Dominos',\n 'Bee Gees - How Deep Is Your Love (2007 Remastered Saturday Night Fever LP Version)',\n 'The Cult - She Sells Sanctuary',\n 'Spoon - Inside Out',\n 'Jimi Hendrix - Foxey Lady',\n 'The Standells - Dirty Water',\n 'The Isley Brothers - Twist and Shout',\n 'U2 - Bad - Remastered 2009',\n 'The Drums - Lets Go Surfing',\n 'Stone Temple Pilots - Interstate Love Song',\n 'The Damned - Neat Neat Neat',\n 'Electric Six - Danger! High Voltage (Soulchild Radio Mix)',\n 'The Sonics - Psycho',\n 'The Waterboys - The Whole Of The Moon - 2004 Remastered Version',\n 'Supergrass - Caught By the Fuzz',\n 'Tame Impala - Elephant',\n 'Pulp - Babies',\n 'The Fall - Totally Wired',\n 'Small Faces - Lazy Sunday (Mono)',\n 'My Chemical Romance - Welcome to the Black Parade',\n 'Bruce Springsteen - Racing in the Street',\n 'They Might Be Giants - Birdhouse in Your Soul',\n 'Gorillaz - Stylo (feat. Mos Def and Bobby Womack)',\n 'Bob Dylan - Every Grain of Sand',\n \"Beastie Boys - So What'Cha Want - Remastered 2009\",\n 'Duran Duran - Girls On Film',\n 'Atlas Sound - Walkabout',\n 'Phoenix - Too Young',\n 'Modern English - I Melt with You',\n 'The Jesus and Mary Chain - Never Understand',\n 'The Kinks - All Day And All Of The Night',\n 'Raspberries - Go All The Way',\n \"Yes - I've Seen All Good People: a. Your Move, b. All Good People - 2003 Remaster\",\n 'Modest Mouse - Dashboard',\n 'Crosby, Stills, Nash & Young - Helpless',\n 'The Beach Boys - Fun, Fun, Fun - Remastered 2001',\n 'Deep Purple - Highway Star',\n 'The Clash - The Magnificent Seven - Remastered',\n 'Blind Melon - No Rain',\n \"The Who - We're Not Gonna Take It\",\n \"Bachman-Turner Overdrive - Takin' Care Of Business\",\n 'System Of A Down - Chop Suey!',\n 'Yes - Owner Of A Lonely Heart',\n 'The Champs - Tequila (Original)',\n 'T. Rex - Metal Guru',\n 'Pixies - Here Comes Your Man',\n 'Cream - Badge',\n 'Grizzly Bear - While You Wait For The Others',\n 'The Beatles - Eight Days A Week - Remastered',\n 'Arcade Fire - Ready To Start',\n \"Linda Ronstadt - You're No Good\",\n \"Rod Stewart - Tonight's the Night (Gonna Be Alright)\",\n 'The Beatles - She Said She Said - Remastered',\n 'The Strokes - 12:51',\n 'Bob Dylan - Idiot Wind',\n 'The Clash - The Guns of Brixton - Remastered',\n 'Doves - There Goes The Fear',\n 'Thin Lizzy - Whiskey In The Jar',\n 'Harvey Danger - Flagpole Sitta',\n 'Tori Amos - Cornflake Girl',\n \"Todd Rundgren - Hello It's Me\",\n 'Dead Boys - Sonic Reducer',\n 'Beach House - Zebra',\n 'PJ Harvey - Sheela-na-gig',\n 'Hole - Doll Parts',\n 'Buzzcocks - What Do I Get? - 1996 Remastered Version',\n 'The Kinks - Dead End Street',\n 'Grinderman - No Pussy Blues',\n 'The Darkness - I Believe in a Thing Called Love',\n 'Neil Young - Southern Man',\n \"The Rolling Stones - Mother's Little Helper - (Original Single Mono Version)\",\n 'T. Rex - Children of the Revolution',\n \"Brian Eno - Baby's On Fire - Remastered 2004\",\n 'Tricky - Black Steel',\n 'Crosby, Stills & Nash - Wooden Ships - 2005 Remaster',\n \"Blind Faith - Can't Find My Way Home\",\n 'Jan & Dean - Surf City',\n ...]"
     },
     "execution_count": 2,
     "metadata": {},
     "output_type": "execute_result"
    }
   ],
   "source": [
    "def read_lines_from_file(filename):\n",
    "    with open(filename, 'r', encoding='utf8') as file:  # Open in read mode\n",
    "        lines = file.read().splitlines() # split lines removes the \\n at the end of each line\n",
    "        #lines = file.readlines()       # Read all lines into a list\n",
    "    return lines\n",
    "\n",
    "read_lines_from_file(\"Rock.txt\")"
   ],
   "metadata": {
    "collapsed": false,
    "ExecuteTime": {
     "end_time": "2024-05-20T06:15:16.851952200Z",
     "start_time": "2024-05-20T06:15:16.797379100Z"
    }
   },
   "id": "9027f98edff99ebf",
   "execution_count": 2
  },
  {
   "cell_type": "code",
   "outputs": [],
   "source": [
    "rock_song_list = read_lines_from_file(\"Rock.txt\")\n",
    "hiphop_song_list = read_lines_from_file(\"Hiphop.txt\")\n",
    "country_song_list = read_lines_from_file(\"Country.txt\")\n",
    "rnb_song_list = read_lines_from_file(\"RnB.txt\")\n",
    "singersongwriter_song_list = read_lines_from_file(\"SingerSongwriter.txt\")\n",
    "pop_song_list = read_lines_from_file(\"Pop.txt\")"
   ],
   "metadata": {
    "collapsed": false,
    "ExecuteTime": {
     "end_time": "2024-05-20T06:15:25.694192600Z",
     "start_time": "2024-05-20T06:15:25.638884600Z"
    }
   },
   "id": "5891f4b9a517aa88",
   "execution_count": 3
  },
  {
   "cell_type": "code",
   "outputs": [
    {
     "data": {
      "text/plain": "['M.I.A. - Paper Planes',\n 'Grandmaster Flash & The Furious Five - The Message (feat. Melle Mel & Duke Bootee)',\n 'Missy Elliott - Get Ur Freak On',\n 'Beck - Loser',\n 'Public Enemy - Fight The Power',\n 'Kendrick Lamar - Alright',\n 'JAY-Z - 99 Problems',\n 'Beyoncé - Formation',\n 'Kanye West - Runaway',\n \"The Sugarhill Gang - Rapper's Delight - Long Version\",\n 'Run–D.M.C. - Walk This Way (feat. Aerosmith)',\n 'JAY-Z - Empire State Of Mind [Jay-Z + Alicia Keys]',\n 'Dr. Dre - Nuthin\\' But A \"G\" Thang',\n 'Outkast - Ms. Jackson',\n 'Childish Gambino - This Is America',\n 'Afrika Bambaataa - Planet Rock',\n 'M.I.A. - Bad Girls',\n 'Beastie Boys - Sabotage - 2009 Digital Remaster',\n 'Eminem - Lose Yourself - Soundtrack Version',\n 'Azealia Banks - 212',\n 'Outkast - B.O.B. - Bombs Over Baghdad',\n 'Kanye West - Gold Digger',\n 'Kanye West - Jesus Walks',\n 'Eminem - Stan',\n 'Public Enemy - Bring The Noise',\n 'Cardi B - Bodak Yellow',\n 'Kendrick Lamar - HUMBLE.',\n 'Kendrick Lamar - King Kunta',\n 'Beastie Boys - Fight For Your Right',\n 'Eminem - My Name Is',\n 'N.W.A. - Straight Outta Compton',\n 'Eric B. & Rakim - Paid In Full',\n \"Jamie xx - I Know There's Gonna Be (Good Times)\",\n 'Tyler, The Creator - Yonkers',\n 'N.W.A. - Fuck Tha Police',\n 'The Roots - The Seed (2.0)',\n 'Gorillaz - Clint Eastwood',\n 'Lizzo - Juice',\n 'Kendrick Lamar - DNA.',\n 'Missy Elliott - Work It',\n 'The Notorious B.I.G. - Juicy - 2005 Remaster',\n 'Lil Nas X - Old Town Road - Remix',\n '2Pac - California Love',\n 'Janelle Monáe - Tightrope (feat. Big Boi) - Big Boi Vocal Edit',\n 'Salt-N-Pepa - Push It',\n \"Grandmaster Flash - White Lines (Don't Don't Do It) - Long Version\",\n 'Ms. Lauryn Hill - Doo Wop (That Thing)',\n 'De La Soul - Me Myself And I',\n 'JAY-Z - Ni**as In Paris',\n 'Rob Base & DJ EZ Rock - It Takes Two',\n \"Snoop Dogg - Drop It Like It's Hot\",\n 'Public Enemy - Rebel Without A Pause',\n \"Public Enemy - Don't Believe The Hype\",\n 'Dizzee Rascal - Fix Up, Look Sharp',\n 'Lil Wayne - A Milli',\n 'Blackstreet - No Diggity',\n 'Kanye West - Monster',\n '50 Cent - In Da Club',\n 'Future - Mask Off (feat. Kendrick Lamar) - Remix',\n 'M.I.A. - Galang',\n 'Eminem - The Real Slim Shady',\n 'Gorillaz - Feel Good Inc.',\n 'Wu-Tang Clan - C.R.E.A.M. (Cash Rules Everything Around Me) (feat. Method Man, Raekwon, Inspectah Deck & Buddha Monk)',\n 'Geto Boys - Mind Playing Tricks On Me',\n 'Nicki Minaj - Super Bass',\n \"Run–D.M.C. - It's Like That\",\n 'T.I. - What You Know',\n \"UGK - Int'l Players Anthem (I Choose You)\",\n 'Neneh Cherry - Buffalo Stance',\n 'Travis Scott - SICKO MODE',\n 'JAY-Z - Izzo (H.O.V.A.)',\n 'Snoop Dogg - Gin And Juice (feat. Dat Nigga Daz)',\n 'Cardi B - I Like It',\n 'Ice Cube - It Was A Good Day',\n \"Wu-Tang Clan - Protect Ya Neck (feat. RZA, Method Man, Inspectah Deck, Raekwon, U-God, Ol' Dirty Bastard, Ghostface Killah & GZA)\",\n 'Grandmaster Flash & The Furious Five - The Adventures Of Grandmaster Flash On The Wheels Of Steel',\n 'Naughty By Nature - O.P.P',\n 'Kurtis Blow - The Breaks',\n 'Herbie Hancock - Rockit',\n 'Fugees - Ready or Not',\n 'House Of Pain - Jump Around',\n 'Kanye West - Black Skinhead',\n 'A Tribe Called Quest - We The People....',\n 'Vince Staples - Norf Norf',\n 'The Streets - Dry Your Eyes',\n \"Clipse - Grindin'\",\n 'Kanye West - POWER',\n 'Rae Sremmurd - Black Beatles',\n 'Warren G - Regulate',\n 'The Streets - Weak Become Heroes',\n 'Chance the Rapper - No Problem (feat. Lil Wayne & 2 Chainz)',\n 'Eric B. & Rakim - I Know You Got Soul',\n 'Kanye West - All Of The Lights',\n 'Mobb Deep - Shook Ones, Pt. II',\n 'Arrested Development - Tennessee',\n 'Lil Uzi Vert - XO Tour Llif3',\n 'The Notorious B.I.G. - Hypnotize - 2014 Remaster',\n \"Coolio - Gangsta's Paradise (feat. L.V.)\",\n \"JAY-Z - Big Pimpin'\",\n 'Missy Elliott - The Rain (Supa Dupa Fly)',\n 'Dizzee Rascal - Bonkers - Radio Edit',\n 'JAY-Z - Hard Knock Life - The Ghetto Anthem',\n 'Beastie Boys - Intergalactic - Remastered 2009',\n 'The Avalanches - Frontier Psychiatrist',\n 'DJ Shadow - Midnight In A Perfect World',\n 'Outkast - Rosa Parks',\n 'The Notorious B.I.G. - Mo Money Mo Problems (feat. Puff Daddy & Mase) - 2014 Remaster',\n \"LL COOL J - I Can't Live Without My Radio\",\n 'Slick Rick - The Show',\n 'A Tribe Called Quest - Scenario (feat. Busta Rhymes, Dinco D & Charlie Brown) - LP Mix',\n 'Biz Markie - Just a Friend',\n 'Flying Lotus - Never Catch Me',\n \"Ol' Dirty Bastard - Got Your Money\",\n 'LL COOL J - Mama Said Knock You Out',\n 'Run The Jewels - Close Your Eyes (And Count to Fuck) [feat. Zack De La Rocha]',\n 'Run–D.M.C. - Rock Box',\n 'Eric B. & Rakim - Follow The Leader',\n 'Three 6 Mafia - Stay Fly',\n 'Cypress Hill - How I Could Just Kill a Man',\n 'USHER - Yeah! (feat. Lil Jon & Ludacris)',\n 'Digital Underground - The Humpty Dance',\n 'Pusha T - If You Know You Know',\n 'Frank Ocean - Chanel',\n 'Drake - Nice For What',\n 'Busta Rhymes - Woo Hah!! Got You All in Check',\n \"The Streets - Let's Push Things Forward\",\n 'Blondie - Rapture - Remastered 2001',\n 'The Game - Hate It Or Love It',\n \"Funky 4 + 1 - That's the Joint\",\n 'Kendrick Lamar - Swimming Pools (Drank) - Extended Version',\n 'Fugees - Fu-Gee-La',\n 'Beastie Boys - Hey Ladies',\n 'Kanye West - Through The Wire',\n 'Kanye West - Flashing Lights',\n 'Kanye West - Stronger',\n 'LL COOL J - I Need Love',\n \"A Tribe Called Quest - Bonita Applebum - includes 'Can I Kick It' Intro\",\n \"Kid Cudi - Day 'N' Nite (Nightmare)\",\n 'Kendrick Lamar - i',\n 'Public Enemy - Welcome To The Terrordome',\n \"Method Man - I'll Be There For You/You're All I Need To Get By\",\n 'Doug E. Fresh - Ladi Dadi',\n 'Kanye West - New Slaves',\n 'Pete Rock & C.L. Smooth - They Reminisce Over You (T.R.O.Y.)',\n 'Young MC - Bust A Move',\n 'Yaeji - raingurl',\n \"Beastie Boys - So What'Cha Want - Remastered 2009\",\n 'Big Boi - Shutterbugg',\n 'Rihanna - Bitch Better Have My Money',\n 'The Clash - The Magnificent Seven - Remastered',\n 'N.W.A. - Express Yourself',\n 'Twista - Slow Jamz (feat. Kanye West & Jamie Foxx)',\n 'Beastie Boys - Sure Shot',\n 'Panjabi MC - Mundian to Bach Ke - Jay Z Remix',\n 'Migos - Bad and Boujee (feat. Lil Uzi Vert)',\n 'Danny Brown - Really Doe',\n 'Fetty Wap - Trap Queen',\n 'Nelly - Hot In Herre',\n 'Talib Kweli - Get By',\n 'Eric B. & Rakim - Eric B. Is President',\n \"Run–D.M.C. - Sucker M.C.'s (Krush-Groove 1)\",\n 'Nico Segal - Sunday Candy',\n 'Black Sheep - The Choice Is Yours (Revisited)',\n 'Roots Manuva - Witness (1 Hope)',\n \"Snoop Dogg - Who Am I (What's My Name)?\",\n 'Cypress Hill - Insane in the Brain',\n 'Kendrick Lamar - The Blacker The Berry',\n 'A$AP Rocky - Peso',\n 'A Tribe Called Quest - Check the Rhime',\n 'Eminem - Without Me',\n 'Kanye West - Mercy.1',\n 'M.O.P. - Ante Up (Robbin Hoodz Theory)',\n 'Dr. Dre - Deep Cover',\n 'Afrika Bambaataa - Looking For The Perfect Beat',\n 'M.I.A. - Bucky Done Gun',\n \"Schoolly D - P.S.K. 'What Does It Mean'?\",\n \"The Pharcyde - Passin' Me By\",\n \"Kanye West - Can't Tell Me Nothing\",\n 'A Tribe Called Quest - Can I Kick It?',\n 'Beyoncé - Flawless Remix (feat. Nicki Minaj)',\n '2Pac - Dear Mama',\n 'DJ Shadow - Building Steam With A Grain Of Salt',\n 'Nas - N.Y. State of Mind',\n 'Lupe Fiasco - Kick, Push',\n 'Shamir - On the Regular',\n 'Neneh Cherry - Manchild',\n 'Kendrick Lamar - Bitch, Don’t Kill My Vibe',\n 'Dr. Dre - Still D.R.E.',\n 'LL COOL J - Rock The Bells',\n 'Public Enemy - Black Steel In The Hour Of Chaos',\n 'Boogie Down Productions - South Bronx',\n 'Run–D.M.C. - Peter Piper',\n 'Craig Mack - Flava in Ya Ear',\n 'Playboi Carti - Magnolia',\n 'Run–D.M.C. - King of Rock',\n \"Audio Two - Top Billin'\",\n 'Big Pun - Still Not a Player (feat. Joe) - Radio Version',\n \"De La Soul feat. Q-Tip - A Roller Skating Jam Named 'Saturdays'\",\n 'Dr. Dre - Forgot About Dre',\n 'The Roots - You Got Me',\n 'Malcolm McLaren - Buffalo Gals',\n 'Digable Planets - Rebirth Of Slick (Cool Like Dat)',\n 'Public Enemy - 911 Is A Joke',\n 'Beastie Boys - No Sleep Till Brooklyn',\n 'P.M. Dawn - Set Adrift on Memory Bliss (Re-Recorded)',\n 'Makaveli - Hail Mary',\n 'Drake - 0 To 100 / The Catch Up',\n 'Us3 - Cantaloop (Flip Fantasia)',\n 'Snoop Dogg - Signs',\n 'Kanye West - Bound 2',\n 'Tone-Loc - Wild Thing',\n 'Bobby Shmurda - Hot Nigga - Remix',\n \"MC Hammer - U Can't Touch This\",\n 'Deichkind - Remmidemmi (Yippie Yippie Yeah)',\n \"Slick Rick - Children's Story\",\n '2Pac - I Get Around',\n 'ILOVEMAKONNEN - Tuesday (feat. Drake)',\n \"Mike Jones - Still Tippin' (feat. Slim Thug and Paul Wall)\",\n 'Young M.A - OOOUUU',\n \"Ol' Dirty Bastard - Brooklyn Zoo\",\n 'The Streets - Fit but You Know It',\n 'Jeru The Damaja - Come Clean',\n 'JUVENILE - Ha',\n 'Busta Rhymes - Put Your Hands Where My Eyes Could See',\n 'Beastie Boys - Paul Revere',\n 'Run–D.M.C. - My Adidas',\n 'Pusha T - Numbers On The Boards',\n 'DJ Jazzy Jeff & The Fresh Prince - Summertime - Single Edit',\n 'Nas - Made You Look',\n \"Stetsasonic - Talkin' All That Jazz\",\n 'Bone Thugs-N-Harmony - Tha Crossroads',\n 'Boogie Down Productions - The Bridge Is Over',\n 'Anderson .Paak - Come Down',\n 'Eminem - The Way I Am',\n 'Missy Elliott - Lose Control (feat. Ciara & Fat Man Scoop)',\n 'Stormzy - Vossi Bop',\n 'Utfo - Roxanne, Roxanne',\n 'Newcleus - Jam On It',\n 'Luniz - I Got 5 On It - ( Original )',\n 'Drake - In My Feelings',\n 'Kanye West - Diamonds From Sierra Leone - Remix',\n 'Jurassic 5 - Concrete Schoolyard',\n 'DaBaby - Suge',\n \"Kendrick Lamar - Sing About Me, I'm Dying Of Thirst\",\n 'Rammellzee - Beat Bop - Edit',\n 'Prince - Sexy M.F.',\n 'DRAM - Broccoli',\n 'Kris Kross - Jump',\n 'Drake - Know Yourself',\n 'Rich Gang - Lifestyle',\n 'Method Man - Bring The Pain',\n 'Missy Elliott - Bomb Intro / Pass That Dutch',\n 'EPMD - You Gots To Chill',\n 'M.I.A. - Boyz',\n 'Nas - If I Ruled the World (Imagine That) (feat. Lauryn Hill)',\n \"Death Grips - I've Seen Footage\",\n 'DJ Shadow - Nobody Speak (feat. Run the Jewels)',\n 'Missy Elliott - WTF (Where They From) [feat. Pharrell Williams]',\n 'Nicki Minaj - Beez In The Trap',\n 'Kanye West - Blood On The Leaves',\n 'Nas - The World Is Yours',\n 'Gang Starr - DWYCK',\n \"Chief Keef - I Don't Like\",\n 'De La Soul - Eye Know',\n 'Drake - Best I Ever Had',\n 'Das EFX - They Want EFX',\n 'Rihanna - Needed Me',\n 'Waka Flocka Flame - Hard in Da Paint',\n 'The Notorious B.I.G. - Big Poppa - 2005 Remaster',\n \"Big Daddy Kane - Ain't No Half-Steppin'\",\n 'Artists United Against Apartheid - Sun City',\n \"DMX - Ruff Ryders' Anthem - Re-Recorded\",\n 'JAY-Z - Otis',\n 'Wiley - Wearing My Rolex - Radio Edit',\n 'Common - I Used to Love H.E.R.',\n \"Diddy - It's All About The Benjamins\",\n 'Salt-N-Pepa - Whatta Man (feat. En Vogue) - EP Version',\n 'Beyoncé - Partition',\n 'The Carters - APESHIT',\n 'A Tribe Called Quest - Electric Relaxation',\n 'Beastie Boys - Shake Your Rump',\n 'Digital Underground - Doowutchyalike',\n 'Tricky - Hell Is Round The Corner',\n 'Nelly - Country Grammar (Hot Shit)',\n 'Mos Def - Ms. Fat Booty',\n 'YG - FDT',\n \"Run–D.M.C. - It's Tricky\",\n 'Jamie T - Sheila',\n 'JAY-Z - Roc Boys (And The Winner Is)...',\n 'Kalifa - Wut',\n 'Whodini - Friends',\n 'Wyclef Jean - Gone Till November (feat. The New York Philharmonic Orchestra)',\n 'Common - The Light',\n 'Future - March Madness',\n 'Naughty By Nature - Hip Hop Hooray',\n \"T La Rock - It's Yours (Radio Mix)\",\n 'Kanye West - Good Life',\n 'Ludacris - Southern Hospitality (Featuring Pharrell)',\n 'The Streets - Has It Come to This?',\n 'Queen Latifah - Ladies First (feat. Monie Love)',\n 'Kendrick Lamar - Backseat Freestyle',\n '2Pac - Keep Ya Head Up',\n \"ICE-T - 6 'N the Mornin'\",\n 'Tone-Loc - Funky Cold Medina',\n \"Kanye West - We Don't Care\",\n 'JUVENILE - Back That Azz Up',\n 'VIC MENSA - Down On My Luck',\n \"JAY-Z - Heart Of The City (Ain't No Love)\",\n 'Dan Le Sac vs Scroobius Pip - Thou Shalt Always Kill - Sunday Best Cosmic Dub',\n 'Kanye West - Famous',\n 'Pharoahe Monch - Simon Says',\n 'DJ Shadow - Six Days',\n 'Wu-Tang Clan - Gravel Pit (feat. RZA, Method Man, Ghostface Killah, Raekwon & U-God)',\n \"Souls Of Mischief - 93 'Til Infinity\",\n 'The Disposable Heroes Of Hiphoprisy - Television The Drug Of The Nation',\n 'Denzel Curry - RICKY',\n 'The Chemical Brothers - Go',\n 'Sheck Wes - Mo Bamba',\n 'JAY-Z - Dead Presidents II',\n \"Jay Rock - King's Dead (with Kendrick Lamar, Future & James Blake)\",\n 'Young Thug - pick up the phone',\n \"Ol' Dirty Bastard - Shimmy Shimmy Ya\",\n \"Wu-Tang Clan - Triumph (feat. Ol' Dirty Bastard, Inspectah Deck, Method Man, Cappadonna, U-God, RZA, GZA, Masta Killa, Ghostface Killah & Raekwon)\",\n 'LL COOL J - Going Back To Cali',\n 'Migos - T-Shirt',\n 'Biz Markie - Nobody Beats the Biz (Best Of)',\n \"Nas - It Ain't Hard to Tell\",\n 'Dr. Octagon - Blue Flowers',\n \"Rick Ross - B.M.F. (Blowin' Money Fast)\",\n 'EPMD - Strictly Business',\n \"DJ Khaled - I'm On One\",\n 'The Notorious B.I.G. - Unbelievable - 2005 Remaster',\n 'Outkast - So Fresh, So Clean',\n 'Steinski - The Payoff Mix',\n 'Eminem - Guilty Conscience',\n 'De La Soul - Ring Ring Ring (Ha Ha Hey)',\n 'De La Soul - Buddy (feat. Jungle Bros., Q-Tip, Phife, Queen Latifah & Monie Love)',\n \"Rick Ross - Hustlin'\",\n 'Megan Thee Stallion - Cash Shit (feat. DaBaby)',\n 'Tom Tom Club - Wordy Rappinghood',\n 'Eve - Let Me Blow Ya Mind',\n 'Ludacris - Rollout (My Business)',\n 'Clipse - Wamp Wamp (What It Do) (feat. Slim Thug)',\n \"JAY-Z - Brooklyn's Finest\",\n 'Death Grips - Hacker',\n 'Ian Dury - Reasons to Be Cheerful, Pt. 3',\n 'Dream Warriors - My Definition Of A Boombastic Jazz Style',\n 'Technotronic - Pump Up The Jam',\n 'A Tribe Called Quest - Award Tour (feat. Trugoy The Dove)',\n \"Salt-N-Pepa - Let's Talk About Sex\",\n 'JAY-Z - Takeover',\n 'Kanye West - Touch The Sky',\n 'Mystikal - Shake Ya Ass (feat. Pharrell Williams)',\n 'Ghostface Killah - Daytona 500 (feat. Raekwon & Cappadonna)',\n 'JVC Force - Strong Island',\n 'Outkast - Elevators (Me & You)',\n 'JAY-Z - The Story of O.J.',\n 'N.W.A. - Gangsta Gangsta',\n 'Beastie Boys - Ch-Check It Out',\n \"The Streets - It's Too Late\",\n 'Sir Mix-A-Lot - Baby Got Back',\n 'slowthai - Doorman',\n 'Killer Mike - Big Beast (feat. Bun B, T.I., and Trouble)',\n 'Ms. Lauryn Hill - Lost Ones',\n 'The Avalanches - Frankie Sinatra',\n 'Jay Electronica - Exhibit C',\n 'Dr. Dre - Let Me Ride',\n 'Fabolous - Breathe',\n 'Big Daddy Kane - Raw (Edit) - 45 Version',\n 'Positive K - I Got a Man (Re-Recorded / Remastered)',\n \"Public Enemy - You're Gonna Get Yours\",\n 'Maestro Fresh Wes - Let Your Backbone Slide - Power Mix',\n 'Lil Wayne - Lollipop',\n 'J Hus - Did You See',\n 'Eminem - Kim',\n \"The Fearless Four - Rockin' It\",\n 'Gang Starr - Jazz Thing',\n 'Salt-N-Pepa - Shoop',\n 'Lizzo - Boys',\n 'The Notorious B.I.G. - One More Chance / Stay with Me - Remix; 2007 Remaster',\n 'Drake - Worst Behavior',\n 'Beastie Boys - The New Style',\n 'Kanye West - All Day',\n 'Danny Brown - Dirty Laundry',\n 'Anderson .Paak - Tints (feat. Kendrick Lamar)',\n 'A$AP Ferg - Shabba (feat. A$AP Rocky)',\n \"The Pharcyde - Runnin'\",\n 'Uffie - Pop The Glock',\n 'B.G. - Bling Bling',\n 'Young Thug - Constantly Hating (feat. Birdman)',\n \"Drake - God's Plan\",\n \"Chamillionaire - Ridin'\",\n 'Pusha T - The Story of Adidon',\n 'DMX - Party Up',\n 'Iggy Azalea - Fancy',\n '50 Cent - I Get Money',\n 'Time Zone featuring John Lydon & Afrika Bambaataa - World Destruction',\n 'Illya Kuryaki & The Valderramas - Abarajame',\n '100 gecs - money machine',\n 'Sampa the Great - Final Form',\n \"Quad City DJ's - C'Mon 'N' Ride It (The Train)\",\n 'DMX - Get At Me Dog',\n 'Lil Mama - Lip Gloss',\n 'El-P - The Full Retard',\n 'Black Eyed Peas - Where Is The Love?',\n 'Skee-Lo - I Wish - Radio Edit',\n 'Seeed - Dickes B (feat. Black Kappa)',\n 'Dizzee Rascal - Sirens',\n 'Aesop Rock - Daylight',\n 'De La Soul - Say No Go',\n 'Wreckx-N-Effect - Rump Shaker',\n 'Eric B. & Rakim - Microphone Fiend',\n 'Raekwon - Ice Cream (feat. Ghostface Killah, Method Man & Cappadonna)',\n \"Run–D.M.C. - Run's House - Single Version\",\n 'Schoolly D - Saturday Night',\n 'Boogie Down Productions - My Philosophy',\n \"Diddy - I'll Be Missing You (feat. Faith Evans & 112)\",\n 'Chance the Rapper - Angels (feat. Saba)',\n 'Vince Staples - Big Fish',\n \"De La Soul - Plug Tunin'\",\n \"Outkast - Player's Ball\",\n 'Ice Cube - No Vaseline',\n \"A$AP Rocky - F**kin' Problems (feat. Drake, 2 Chainz & Kendrick Lamar)\",\n 'Fatboy Slim - Gangster Trippin',\n 'Solange - Almeda',\n 'Future - Move That Dope (feat. Pharrell, Pusha T & Casino)',\n \"Public Enemy - Shut 'Em Down\",\n 'Massive Attack - Risingson',\n 'Dead Prez - Hip Hop',\n \"LL COOL J - I'm Bad\",\n 'DJ Shadow - High Noon',\n 'The Streets - Blinded by the Lights',\n 'Arrested Development - People Everyday',\n 'IAM - Je danse le Mia',\n \"Cam'ron - Oh Boy\",\n 'KRS-One - Self Destruction',\n \"Ultramagnetic MC's - Ego Trippin'\",\n 'Ghostface Killah - Nutmeg (feat. RZA)',\n 'Onyx - Throw Ya Gunz',\n 'Snoop Dogg - Beautiful',\n 'Chilly Gonzales - Take Me To Broadway',\n \"Run The Jewels - Oh My Darling Don't Cry\",\n 'Migos - Versace',\n \"T.I. - Swagga Like Us - T.I. and Jay-Z feat. Kanye West and Lil' Wayne\",\n 'Frankie Smith - Double Dutch Bus',\n \"Spoonie Gee - Spoonin' Rap\",\n 'Kendrick Lamar - untitled 07 2014 - 2016',\n 'N.O.R.E. - SuperThug',\n 'Falco - Der Kommissar',\n 'Gang Starr - Just To Get A Rep',\n 'Falco - Rock Me Amadeus',\n 'Kanye West - Father Stretch My Hands Pt. 1',\n 'Jeezy - Put On',\n 'ICE-T - Colors',\n 'Valee - Womp Womp',\n \"Monie Love - It's A Shame (My Sister) [feat. True Image]\",\n 'K-OS - Crabbuckit',\n 'Odd Future - Oldie',\n \"Danny Brown - Ain't it Funny\",\n 'Worlds Famous Supreme Team - Hey DJ',\n 'Lil Wayne - Georgia.....Bush',\n 'JAY-Z - I Just Wanna Love U (Give It 2 Me)',\n 'Big Daddy Kane - The Symphony',\n 'Tyler, The Creator - 911 / Mr. Lonely (feat. Frank Ocean & Steve Lacy)',\n 'Roxanne Shante - Go on Girl - Remix',\n \"Dr. Dre - Fuck Wit Dre Day (And Everybody's Celebratin')\",\n 'Beastie Boys - Root Down',\n 'Run The Jewels - Blockbuster Night Part 1',\n 'Shabazz Palaces - Forerunner Foray',\n 'A$AP Rocky - Praise The Lord (Da Shine) (feat. Skepta)',\n 'Snow - Informer',\n 'Nicki Minaj - Anaconda',\n 'Ghostface Killah - All That I Got Is You (feat. Mary J. Blige)',\n 'DeJ Loaf - Try Me',\n \"The Roots - Don't Say Nuthin'\",\n \"Madvillain - America's Most Blunted\",\n 'Danny Brown - When It Rain',\n 'Control Machete - Comprendes, Mendes?',\n \"Beastie Boys - She's On It\",\n 'T.I. - Live Your Life - feat. Rihanna',\n \"Junior M.A.F.I.A. - Player's Anthem\",\n 'Sisqo - Thong Song',\n 'Missy Elliott - Sock It 2 Me (feat. Da Brat)',\n 'Brand Nubian - Slow Down',\n \"JAY-Z - Ain't No Nigga\",\n 'Missy Elliott - 4 My People (feat. Eve)',\n 'C & C Music Factory - Gonna Make You Sweat (Everybody Dance Now) (feat. Freedom Williams)',\n 'Luscious Jackson - Naked Eye',\n 'Beastie Boys - Rock Hard',\n 'De La Soul - Jenifa (Taught Me)',\n 'SNAP! - The Power - 7\" Version',\n \"Pras - Ghetto Supastar (That is What You Are) (feat. Ol' Dirty Bastard & Mýa)\",\n \"Rich Boy - Throw Some D's\",\n \"Public Enemy - Can't Truss It\",\n 'Lizzo - Truth Hurts',\n 'Rascalz - Northern Touch (feat. Kardinal Offishall, Thrust, Choclair & Checkmate)',\n 'Earl Sweatshirt - Chum',\n 'Afroman - Because I Got High - Radio Edit',\n 'A Tribe Called Quest - The Space Program',\n \"L'Trimm - Cars With The Boom\",\n 'Bubba Sparxxx - Ugly',\n 'Black Eyed Peas - Boom Boom Pow',\n 'Mase - Feel so Good',\n 'Kelis - Bossy',\n 'A Tribe Called Quest - Scenario (feat. Busta Rhymes, Dinco D & Charlie Brown) - Remix',\n \"Eric B. & Rakim - I Ain't No Joke\",\n 'Ariana Grande - 7 rings',\n 'Beastie Boys - Hold It Now, Hit It',\n 'Die Antwoord - Enter The Ninja',\n 'Desiigner - Panda',\n 'Ghostface - Run',\n 'Big Sean - Blessings - Extended Version',\n 'Zebra Katz - Ima Read',\n \"Jungle Brothers - I'll House You\",\n 'Dizzee Rascal - Dance Wiv Me',\n 'The Roots - How I Got Over',\n 'Big Boi - Shine Blockas',\n 'Treacherous Three - The Body Rock',\n 'Kanye West - Fade',\n 'KRS-One - Sound of da Police',\n 'Mantronix - Needle to the Groove',\n \"Chagrin D'amour - Chacun fait (c'qui lui plaît) - Version originale 1981\",\n 'Pusha T - Nosetalgia',\n 'Black Hippy - Control (feat. Jay Electronica & Big Sean)',\n 'Polo G - Pop Out (feat. Lil Tjay)',\n 'GoldLink - Crew (feat. Brent Faiyaz & Shy Glizzy)',\n 'Vince Staples - Señorita',\n 'Slick Rick - Mona Lisa',\n 'Bone Thugs-N-Harmony - 1st Of Tha Month',\n 'Scarface - I Seen a Man Die',\n 'Travis Scott - Antidote',\n 'iNi Kamoze - Here Comes the Hotstepper - Heartical Mix',\n 'Plan B - ill Manors',\n 'Freeway - What We Do',\n 'Little Simz - Selfish',\n 'De La Soul - Stakes is High',\n 'TTC - Dans Le Club',\n \"Boogie Down Productions - Love's Gonna Get'cha (Material Love)\",\n 'The Notorious B.I.G. - Who Shot Ya? - 2005 Remaster',\n 'Freddie Gibbs - Crime Pays',\n 'Rae Sremmurd - Powerglide (feat. Juicy J) - From SR3MM',\n \"Lil' Kim - The Jump Off\",\n 'Noname - Blaxploitation',\n 'Eminem - Love The Way You Lie',\n 'Ghostface Killah - Shakey Dog',\n 'Little Simz - 101 FM',\n \"Eminem - Cleanin' Out My Closet\",\n 'Public Enemy - By The Time I Get To Arizona',\n 'Mantronix - King Of The Beats - Instrumental',\n \"Master P - Make 'Em Say Ugh\",\n 'Various Artists - De La Soul - The Magic Number',\n 'JAY-Z - Can I Get A...',\n 'E-40 - Tell Me When to Go (feat. Keak da Sneak)',\n 'Betty Boo - Where Are You Baby?',\n 'Wham! - Wham Rap! (Enjoy What You Do?) - Special U.S. Remix',\n 'Mc Shan - The Bridge',\n 'Kool Keith - Sex Style',\n 'Fat Boys - Jail House Rap',\n 'Dave - Location (feat. Burna Boy)',\n 'Azealia Banks - 1991',\n 'KAYTRANADA - GLOWED UP',\n 'Danny Brown - Grown Up',\n 'M.I.A. - BirdFlu',\n 'Kreayshawn - Gucci Gucci',\n 'Missy Elliott - Beep Me 911 (feat. 702 & Magoo)',\n 'Spoonie Gee - The Godfather',\n 'Erik Lundin - Suedi',\n 'Wu-Tang Clan - Method Man',\n 'Caparezza - Fuori Dal Tunnel',\n 'Snoop Dogg - Murder Was The Case (Death After Visualizing Eternity) (feat. Dat Nigga Daz)',\n 'Outkast - The Whole World (feat. Killer Mike)',\n 'Chance the Rapper - Chain Smoker',\n 'Kendrick Lamar - Cartoon',\n 'Das Bo - Türlich, Türlich (sicher, Dicker)',\n 'Ice Cube - Wicked',\n \"N.O.R.E. - Nothin'\",\n 'Kanye West - All Falls Down',\n 'Vince Staples - Yeah Right',\n 'Coolio - Fantastic Voyage',\n 'Black Star - Definition',\n \"The Real Roxanne - Bang Zoom (Let's Go-Go)\",\n \"2Pac - I Ain't Mad At Cha\",\n 'Dr. Dre - The Next Episode',\n 'ScHoolboy Q - Hands On the Wheel',\n \"Basement Jaxx - Jump 'N Shout - Radio Edit\",\n 'Missy Elliott - One Minute Man (feat. Ludacris)',\n \"Kelis - Young, Fresh N' New\",\n 'Young Thug - Danny Glover',\n 'Clipse - Trill',\n 'Peter Fox - Alles neu - Single Version',\n 'Eminem - Mosh',\n 'Earl Sweatshirt - Earl',\n 'LL COOL J - Jingling Baby (Remixed But Still Jingling) - Remix',\n 'Jungle Brothers - Straight Out The Jungle',\n 'Killer Mike - Reagan',\n 'Gang Starr - Mass Appeal',\n 'Snoop Dogg - Vato',\n 'Injury Reserve - Jailbreak the Tesla (Feat. Aminé)',\n \"Roxanne Shante - Roxanne's Revenge (Re-Recorded / Remastered)\",\n 'A Tribe Called Quest - Dis Generation (feat. Busta Rhymes)',\n 'N.E.R.D - Provider',\n 'Drake - Started From the Bottom',\n 'Jimmy Spicer - Adventures of Super Rhymes',\n 'Sido - Mein Block',\n \"The D.O.C. - It's Funky Enough\",\n 'Young Thug - High (feat. Elton John)',\n 'Raekwon - Incarcerated Scarfaces',\n 'Slick Rick - Hey Young World',\n 'M.I.A. - Sunshowers',\n 'Whodini - Freaks Come Out at Night',\n 'MC Solaar - Nouveau western',\n 'ScHoolboy Q - Man Of The Year',\n \"Beastie Boys - Body Movin'\",\n 'Limp Bizkit - Break Stuff',\n 'Young Thug - Hot (Remix) [feat. Gunna and Travis Scott]',\n 'Beginner - Ahnma',\n 'T.I. - Rubber Band Man - Explicit + Buster Skit',\n 'Young Thug - Digits',\n 'Gorillaz - Dirty Harry',\n 'Pharrell Williams - Can I Have It Like That',\n 'Khia - My Neck, My Back (Lick It)',\n 'ScHoolboy Q - There He Go',\n 'Kanye West - Real Friends',\n 'araabMUZIK - Streetz Tonight',\n 'Soulja Boy - Crank That (Soulja Boy)',\n 'A$AP Rocky - Goldie',\n 'Ying Yang Twins - Wait (The Whisper Song)',\n '2Pac - How Do U Want It',\n 'Pop Smoke - Welcome To The Party',\n \"Fun Lovin' Criminals - Love Unlimited\",\n 'El-P - Deep Space 9mm',\n 'Afrika Bambaataa - Renegades Of Funk',\n 'Ice Cube - Check Yo Self',\n 'Das Racist - Michael Jackson',\n 'DJ Shadow - In / Flux',\n 'Terror Squad - Lean Back',\n 'Future - Turn On The Lights',\n 'Onyx - Slam',\n 'Drake - Energy',\n 'Mark Ronson - Bang Bang Bang (feat. MNDR)',\n 'Wu-Tang Clan - Can It Be All So Simple / Intermission',\n 'ScHoolboy Q - THat Part',\n 'Raekwon - House Of Flying Daggers',\n 'T.I. - Whatever You Like',\n 'The Shamen - Ebeneezer Goode',\n 'Post Malone - White Iverson',\n 'Canibus - Second Round K.O.',\n 'Kid Frost - La Raza',\n 'Ja Rule - Holla Holla',\n 'Public Enemy - Brothers Gonna Work It Out',\n 'Kendrick Lamar - Money Trees',\n 'De La Soul - Potholes In My Lawn',\n 'Rae Sremmurd - No Type',\n 'MC Solaar - Caroline',\n 'Kanye West - Gone',\n 'Future - Same Damn Time',\n 'WESTSIDE BOOGIE - Oh My',\n '3rd Bass - Pop Goes The Weasel',\n 'Lana Del Rey - National Anthem',\n \"2Pac - Brenda's Got A Baby\",\n 'Azealia Banks - Anna Wintour',\n 'Public Enemy - Sophisticated Bitch',\n \"DJ Khaled - We Takin' Over\",\n 'MC Solaar - Bouge de là',\n '50 Cent - How to Rob (feat. The Madd Rapper)',\n 'Asian Dub Foundation - Free Satpal Ram - Primal Scream And Brendan Lynch Mix',\n \"Nas - Life's a Bitch (feat. AZ & Olu Dara)\",\n 'D4L - Laffy Taffy',\n 'Lil Baby - Drip Too Hard (Lil Baby & Gunna)',\n 'Jeezy - Go Crazy - Remix',\n 'LL COOL J - 4,3,2,1',\n 'LL COOL J - Around The Way Girl',\n 'Junior M.A.F.I.A. - Get Money',\n 'M.I.A. - Borders',\n 'JAY-Z - Run This Town',\n 'Jungle Brothers - Because I Got It Like That',\n 'Fettes Brot - Schwule Mädchen',\n \"Eminem - '97 Bonnie & Clyde\",\n 'Dimples D. - Sucker DJ (I Will Survive)',\n \"Suprême NTM - Qu'est-ce qu'on attend\",\n 'J-Kwon - Tipsy - Radio Mix',\n 'Eric B. & Rakim - Know The Ledge',\n 'Diddy - Bad Boy for Life',\n 'Clipse - Mr. Me Too',\n 'cupcakKe - Duck Duck Goose',\n 'Public Enemy - Give It Up',\n \"Killer Mike - That's Life\",\n 'Roxanne Shante - Have a Nice Day - Remix',\n 'ScHoolboy Q - Collard Greens',\n 'Public Enemy - Public Enemy No.1',\n 'Mantronix - Who Is It? - Club Mix',\n 'Rich Homie Quan - Type of Way',\n 'Main Source - Looking at the Front Door - 2017 Remastered Version',\n 'Macklemore & Ryan Lewis - Thrift Shop (feat. Wanz)',\n 'JAY-Z - Ignorant Sh*t',\n 'The 45 King - The 900 Number',\n 'Lil Wayne - 6 Foot 7 Foot',\n 'Kano - Class of Deja (feat. D Double E & Ghetts)',\n 'Massive Attack - Daydreaming - 2012 Mix/Master',\n 'Das Racist - Hahahaha jk?',\n 'Q-Tip - Vivrant Thing - Club Mix',\n 'Tim Dog - Fuck Compton',\n 'Kae Tempest - Europe Is Lost',\n 'The Sugarhill Gang - 8th Wonder',\n \"JAY-Z - Can't Knock The Hustle\",\n 'Beastie Boys - Shadrach',\n \"KRS-One - Step into a World (Rapture's Delight)\",\n 'Kanye West - Devil In A New Dress',\n 'GZA - 4th Chamber',\n 'Lady Sovereign - Random',\n \"DJ Jazzy Jeff & The Fresh Prince - Parents Just Don't Understand - Edit\",\n 'Frank Ocean - Biking',\n 'Drake - Successful',\n \"Redman - Tonight's Da Night\",\n 'Three 6 Mafia - Sippin On Some Syrup (feat. UGK (Underground Kingz) & Project Pat)',\n 'Charli XCX - Vroom Vroom',\n 'Special Ed - I Got It Made',\n 'Ghostpoet - Cash and Carry Me Home - Original',\n 'Gang Starr - You Know My Steez',\n 'Spoonie Gee - The New Rap Language',\n 'Fannypack - Cameltoe',\n '1000 Clowns - (Not The) Greatest Rapper',\n \"The LOX - Money, Power & Respect (feat. DMX & Lil' Kim)\",\n 'Post Malone - Better Now',\n 'Chance the Rapper - All Night (feat. Knox Fortune)',\n 'Chance the Rapper - Summer Friends (feat. Jeremih & Francis & The Lights)',\n 'The Lady Of Rage - Afro Puffs',\n 'Zwangere Guy - Gorik Pt.1',\n \"Lil' Kim - Crush on You (feat. Lil' Cease) - Remix\",\n 'Young Thug - Stoner',\n 'Fabulous Trobadors - Pas de ci',\n 'Beck - Wow',\n 'M.I.A. - Bring The Noize',\n 'Kelis - Millionaire (feat. André 3000)',\n 'JAY-Z - No Church In The Wild',\n 'Mos Def - UMI Says',\n 'Macklemore & Ryan Lewis - Same Love (feat. Mary Lambert)',\n 'Ty Dolla $ign - Paranoid (feat. B.o.B)',\n 'Limp Bizkit - Nookie',\n 'Biz Markie - Vapors',\n 'Da Brat - Funkdafied',\n 'Lil Tecca - Ransom',\n 'Jidenna - Classic Man (feat. Roman GianArthur)',\n 'Public Enemy - Harder Than You Think',\n 'Too $hort - Freaky Tales',\n 'Ghostface Killah - Cherchez LaGhost (feat. U-God)',\n 'Method Man - How High (Remix)',\n 'JPEGMAFIA - Jesus Forgive Me, I Am A Thot',\n 'Malcolm McLaren - Double Dutch',\n 'Fatman Scoop - Be Faithful',\n 'Outkast - The Way You Move (feat. Sleepy Brown) - Radio Mix',\n 'Suprême NTM - Seine Saint-Denis Style',\n 'Lupe Fiasco - Superstar (feat. Matthew Santos)',\n 'Kanye West - I Am A God',\n 'The Classical Two - Raps New Generation',\n 'Bomb The Bass - Bug Powder Dust',\n 'Kanye West - No More Parties In LA',\n 'UGK - Front, Back & Side to Side',\n 'Kanye West - Clique',\n 'Kae Tempest - Firesmoke',\n 'Deichkind - Arbeit nervt',\n 'Calle 13 - Latinoamérica (feat. Totó la Momposina, Susana Baca & Maria Rita)',\n 'Dilated Peoples - Worst Comes To Worst - Edited',\n 'Company Flow - 8 Steps To Perfection',\n 'Tag Team - Whoomp! There It Is - Album Version (Edited)',\n 'De La Soul - Breakadawn',\n 'Scarface - On My Block',\n 'Kendrick Lamar - m.A.A.d city',\n 'Main Source - Live at the Barbeque - 2017 Remastered Version',\n 'N.E.R.D - Lemon',\n 'Nio Garcia - Te Boté - Remix',\n 'Afrika Bambaataa - Jazzy Sensation - Bronx Version',\n \"IAM - Demain, c'est loin\",\n 'Kanye West - Heartless',\n 'King Sun - Hey Love',\n \"Dr. Dre - Keep Their Heads Ringin'\",\n 'Frank Ocean - In My Room',\n 'Rustie - Attak',\n 'Fatback Band - King Tim III (Personality Jock)',\n 'Dave - Black',\n \"Goldie Lookin Chain - Guns Don't Kill People, Rappers Do\",\n 'DJ Shadow - Stem/Long Stem',\n \"Ice Cube - AmeriKKKa's Most Wanted\",\n 'Eins Zwo - Danke, gut',\n 'Handsome Boy Modeling School - The Truth',\n 'Orelsan - Suicide social',\n 'The Roots - What They Do',\n \"Method Man - Release Yo' Delf\",\n 'The Beatmasters - Rok Da House - W.E.F.U.N.K.',\n 'Raekwon - Criminology (feat. Ghostface Killah)',\n 'Young Thug - Kanye West (feat. Wyclef Jean)',\n 'Kevin Gates - 2 Phones',\n 'Danny Brown - Dip',\n 'Unknown T - Homerton B',\n \"DJ Shadow - You Can't Go Home Again\",\n 'Aaliyah - Back & Forth',\n 'Vince Staples - BagBak',\n \"Meshell Ndegeocello - If That's Your Boyfriend (He Wasn't Last Night)\",\n 'Beginner - Fäule',\n 'Taylor Swift - Bad Blood',\n 'Credit to the Nation - Call It What You Want',\n '21 Savage - Bank Account',\n 'LL COOL J - Loungin',\n 'Kelis - Good Stuff',\n 'Future - Benz Friendz (Whatchutola) (feat. André 3000)',\n 'Busta Rhymes - Pass The Courvoisier (feat. P. Diddy)',\n 'Schoolly D - Gucci Time',\n 'Action Bronson - Easy Rider',\n 'Quannum Projects - The Extravaganza',\n 'French Montana - Lockjaw (feat. Kodak Black)',\n \"DMX - Slippin' - Edited Version\",\n 'Nice & Smooth - Funky For You',\n '21 Savage - a lot',\n \"DJ Jazzy Jeff & The Fresh Prince - Girls Ain't Nothing But Trouble - 1988 Extended Remix\",\n 'Lady Sovereign - Love Me Or Hate Me',\n 'Beginner - Liebes Lied',\n 'Big L - Ebonics (Criminal Slang)',\n 'Azealia Banks - Chasing Time',\n 'Rich Homie Quan - Flex (Ooh, Ooh, Ooh)',\n '2 LIVE CREW - Me So Horny',\n 'Nelly - Ride Wit Me',\n 'Newcleus - Jam On Revenge (The Wikki Wikki Song)',\n 'The Streets - Everything Is Borrowed',\n 'UGK - Pocket Full of Stones',\n 'Talib Kweli - Shock Body',\n 'Lykke Li - sex money feelings die',\n \"Dude 'n Nem - Watch My Feet\",\n 'Young Fathers - Only God Knows',\n \"Angel Haze - Werkin' girls\",\n 'Kid Rock - Cowboy',\n 'MC Eiht - Straight Up Menace',\n 'JAY-Z - Girls, Girls, Girls',\n 'Boogie Boys - A Fly Girl',\n 'Black Moon - Who Got Da Props',\n 'LL COOL J - I Need A Beat (Remix)',\n 'Eminem - Like Toy Soldiers',\n 'Beyoncé - Freedom (feat. Kendrick Lamar)',\n \"TRU - I'm Bout It, Bout It\",\n \"A Tribe Called Quest - Jazz (We've Got)\",\n 'JAY-Z - D.O.A. (Death Of Auto-Tune)',\n 'JAY-Z - Public Service Announcement (Interlude)',\n 'Kool G Rap & DJ Polo - Streets of New York',\n \"N.W.A. - Alwayz Into Somethin'\",\n 'Drake - Headlines',\n 'DJ Shadow - Lost And Found - S.F.L.',\n 'Estelle - 1980',\n 'DRAM - CHA CHA',\n 'Beck - Up All Night',\n 'Drake - Over',\n 'Kid Cudi - Make Her Say',\n 'Mos Def - Body Rock',\n 'MC Lyte - Paper Thin',\n 'Lord Tariq - Déjà Vu (Uptown Baby)',\n '50 Cent - Just A Lil Bit',\n \"EPMD - So Wat Cha Sayin'\",\n 'Run–D.M.C. - Down With the King (feat. Pete Rock & C.L. Smooth)',\n \"The Ruthless Rap Assassins - And It Wasn't a Dream\",\n 'Ahmad Lewis - Back in the Day',\n 'The Notorious B.I.G. - Ten Crack Commandments - 2014 Remaster',\n \"Chubb Rock - Treat 'Em Right\",\n \"Neneh Cherry - I've Got U Under My Skin\",\n 'J. Cole - MIDDLE CHILD',\n 'Nice & Smooth - Hip Hop Junkies',\n 'Vince Staples - FUN!',\n 'Geto Boys - Mind of a Lunatic',\n 'Frank Ocean - DHL',\n 'The Go! Team - Bottle Rocket',\n \"T-Pain - Buy U a Drank (Shawty Snappin') (feat. Yung Joc)\",\n 'Outkast - GhettoMusick',\n 'Drake - Forever',\n 'Arrested Development - Revolution',\n 'AJ Tracey - Ladbroke Grove',\n 'Busta Rhymes - Dangerous',\n \"Timbaland & Magoo - Up Jumps Da' Boogie\",\n 'D12 - Purple Pills',\n \"Mobb Deep - Drop A Gem On 'Em\",\n 'Anderson .Paak - Bubblin',\n 'Gang Starr - Words I Manifest - Remix',\n 'Devin The Dude - What a Job',\n 'Baby - What Happened To That Boy',\n 'Juice WRLD - Lucid Dreams',\n 'Eminem - Not Afraid',\n 'Queen Latifah - U.N.I.T.Y.',\n 'Mac Miller - Self Care',\n \"Eric B. & Rakim - Don't Sweat The Technique\",\n 'Lil Uzi Vert - New Patek',\n \"Eminem - 'Till I Collapse\",\n 'M.I.A. - Pull Up The People',\n 'Run–D.M.C. - Hard Times',\n 'A Tribe Called Quest - Excursions',\n 'JPEGMAFIA - 1539 N. Calvert',\n 'DJ Jazzy Jeff - The Next Movement',\n 'Public Enemy - Burn Hollywood Burn',\n 'Nas - One Mic',\n 'Lil Wayne - I Feel Like Dying',\n 'Doja Cat - MOOO!',\n 'Beastie Boys - B-Boy Bouillabaisse: A Year And A Day',\n 'Cardi B - I Do (feat. SZA)',\n 'Rick Ross - Sanctified',\n 'The Avalanches - Because I’m Me',\n 'Rock Steady Crew - (Hey You) The Rock Steady Crew',\n 'Eazy-E - Boyz-N-The-Hood - Remix',\n 'PSY - Gangnam Style (강남스타일)',\n 'Arrested Development - Mr. Wendal',\n 'Creek Boyz - With My Team',\n 'Westside Connection - Bow Down',\n 'Tinie Tempah - Pass Out',\n \"Yung Joc - It's Goin' Down (feat. Nitti)\",\n 'Fat Joe - All The Way Up (Remix)',\n 'Nas & Damian \"Jr. Gong\" Marley - As We Enter',\n 'Vince Staples - Blue Suede',\n 'Lil Yachty - Minnesota',\n 'A$AP Rocky - Everyday (feat. Rod Stewart, Miguel & Mark Ronson)',\n 'Talib Kweli - The Proud',\n 'The Beatnuts - Off the Books (feat. Big Pun & Cuban Link)',\n \"GZA - Shadowboxin'\",\n 'Roll Deep - The Avenue',\n 'Future - F*ck Up Some Commas',\n \"Boogie Down Productions - I'm Still #1\",\n 'Young MC - Know How',\n 'J.J. Fad - Supersonic',\n 'Nipsey Hussle - Racks in the Middle (feat. Roddy Ricch and Hit-Boy)',\n 'ICE-T - O.G. Original Gangster',\n 'Earl Sweatshirt - Hive (feat. Vince Staples & Casey Veggies)',\n 'Death Grips - Get Got',\n 'Joey Purp - Girls @ (feat. Chance the Rapper)',\n 'Clipse - Kinda Like a Big Deal (feat. Kanye West)',\n 'Ice Cube - Natural Born Killaz',\n 'De La Soul - Ghetto Thang',\n 'The Pack - Vans',\n 'Mos Def - Mathematics',\n 'MC Lyte - Cold Rock a Party',\n 'Thomas Rusiak - Hiphopper',\n 'Naughty By Nature - Uptown Anthem',\n \"Chance the Rapper - All We Got (feat. Kanye West & Chicago Children's Choir)\",\n 'Akinyele - Put It in Your Mouth',\n 'Azealia Banks - Liquorice',\n 'The Notorious B.I.G. - Warning - 2005 Remaster',\n 'Funky 4 + 1 - Rapping & Rocking the House',\n 'Cool Breeze - Watch for the Hook (Dungeon Family Mix)',\n 'Public Enemy - Yo! Bum Rush The Show',\n 'MC Lyte - I Cram to Understand U',\n 'Princess Superstar - Bad Babysitter - feat. High & Mighty - Dirty',\n 'Migos - Stir Fry',\n \"Wu-Tang Clan - I Can't Go to Sleep (feat. Ghostface Killah, RZA & Issac Hayes)\",\n 'Nas - One Love (feat. Q-Tip)',\n 'Atmosphere - Trying To Find A Balance',\n 'Jungle Brothers - What \"U\" Waitin\\' \"4\"?',\n \"ICE-T - New Jack Hustler (Nino's Theme)\",\n 'Cypress Hill - Hand On the Pump',\n \"O.C. - Time's Up\",\n 'Dr. Dre - Xxplosive',\n 'Kendrick Lamar - LOVE. FEAT. ZACARI.',\n \"Jungle Brothers - J. Beez Comin' Through\",\n \"KRS-One - MC's Act Like They Don't Know\",\n \"The Furious Five - It's Nasty (Genius of Love)\",\n 'Q-Tip - Breathe And Stop',\n 'Just Jack - Starz In Their Eyes',\n \"Naughty By Nature - Everything's Gonna Be Alright\",\n 'Suprême NTM - La fièvre',\n 'Kool G Rap & DJ Polo - On the Run',\n 'Erick Sermon - Music (feat. Marvin Gaye)',\n 'Bone Thugs-N-Harmony - Thuggish Ruggish Bone',\n 'RJD2 - Good Times Roll Pt. 2',\n \"Freddie Gibbs - Fuckin' up the Count\",\n 'Denzel Curry - ULT',\n 'Redhead Kingpin - Do The Right Thing',\n 'Mobb Deep - Quiet Storm',\n 'KIDS SEE GHOSTS - Feel The Love',\n 'Beastie Boys - Make Some Noise',\n 'EPMD - Crossover',\n 'Del The Funky Homosapien - Mistadobalina',\n 'B-Rock & The Bizz - MyBabyDaddy',\n 'BROCKHAMPTON - GOLD',\n 'Kendrick Lamar - untitled 03 05.28.2013.',\n 'P.M. Dawn - Paper Doll',\n 'Mos Def - Auditorium',\n 'Apache - Gangsta Bitch',\n 'Action Bronson - Baby Blue (feat. Chance the Rapper)',\n 'Gorillaz - Ascension (feat. Vince Staples)',\n 'Mantronix - Bassline',\n \"Kurtis Blow - I'm Chillin\",\n 'The KLF - America What Time Is Love',\n 'Gravediggaz - Diary of a Madman',\n 'Little Simz - Boss',\n 'N.E.R.D - Everyone Nose (All The Girls Standing In The Line For The Bathroom)',\n 'Clipse - Zen',\n 'Anderson .Paak - The Season/Carry Me',\n 'Snoop Dogg - Doggy Dogg World (feat. The Dramatics & Tha Dogg Pound)',\n 'Shabazz Palaces - An echo from the hosts that profess infinitum',\n 'Black Sheep - Flavor Of The Month',\n 'Octavian - Hands',\n 'Maxo Kream - Meet Again',\n 'Tyler, The Creator - Potato Salad',\n 'Shabazz Palaces - Shine a Light',\n 'Sweet Tee - It\\'s My Beat - 7\" Single Version',\n 'Goodie Mob - Black Ice (Sky High) (feat. Outkast)',\n 'Kool Moe Dee - Wild Wild West',\n 'Boogie Down Productions - Criminal Minded',\n 'The Notorious B.I.G. - Suicidal Thoughts - 2005 Remaster',\n ...]"
     },
     "execution_count": 69,
     "metadata": {},
     "output_type": "execute_result"
    }
   ],
   "source": [
    "hiphop_song_list"
   ],
   "metadata": {
    "collapsed": false,
    "ExecuteTime": {
     "end_time": "2024-05-20T06:52:26.453684200Z",
     "start_time": "2024-05-20T06:52:26.436560200Z"
    }
   },
   "id": "53e7bd414f288527",
   "execution_count": 69
  },
  {
   "cell_type": "code",
   "outputs": [
    {
     "data": {
      "text/plain": "1191"
     },
     "execution_count": 44,
     "metadata": {},
     "output_type": "execute_result"
    }
   ],
   "source": [
    "#len(rock_song_list)\n",
    "#len(hiphop_song_list)\n",
    "#len(country_song_list)\n",
    "#len(rnb_song_list)\n",
    "#len(singersongwriter_song_list)"
   ],
   "metadata": {
    "collapsed": false,
    "ExecuteTime": {
     "end_time": "2024-05-15T09:29:12.182110Z",
     "start_time": "2024-05-15T09:29:12.163373Z"
    }
   },
   "id": "718813518264c85d",
   "execution_count": 44
  },
  {
   "cell_type": "code",
   "outputs": [],
   "source": [
    "def song_list_to_df(song_list, genre):\n",
    "    artists = []\n",
    "    titles = []\n",
    "    for song in song_list:\n",
    "        info = song.split(' - ')\n",
    "        artists.append(info[0])\n",
    "        titles.append(info[1])\n",
    "    genre = [genre] * len(artists)\n",
    "    df = pd.DataFrame({'artist': artists, 'title': titles, 'genre': genre})\n",
    "    return df"
   ],
   "metadata": {
    "collapsed": false,
    "ExecuteTime": {
     "end_time": "2024-05-20T06:53:33.180476500Z",
     "start_time": "2024-05-20T06:53:33.166411700Z"
    }
   },
   "id": "133ce481d21c5866",
   "execution_count": 70
  },
  {
   "cell_type": "code",
   "outputs": [
    {
     "name": "stdout",
     "output_type": "stream",
     "text": [
      "['The Beatles ', ' A Day In The Life ', ' Remastered']\n",
      "['The Beach Boys ', ' Good Vibrations (Mono)']\n",
      "['The Ronettes ', ' Be My Baby']\n",
      "['Marvin Gaye ', ' I Heard It Through The Grapevine']\n",
      "['Michael Jackson ', ' Billie Jean']\n",
      "['Bruce Springsteen ', ' Born to Run']\n",
      "['The Beach Boys ', ' God Only Knows ', ' Mono']\n",
      "['Outkast ', ' Hey Ya! ', ' Radio Mix / Club Mix']\n",
      "['The Beatles ', ' Strawberry Fields Forever ', ' Remastered']\n",
      "['John Lennon ', ' Imagine ', ' Remastered 2010']\n",
      "['Prince ', ' When Doves Cry']\n",
      "['Pulp ', ' Common People']\n",
      "['Beyoncé ', ' Crazy In Love (feat. Jay', 'Z)']\n",
      "['R.E.M. ', ' Losing My Religion']\n",
      "['New Order ', ' Blue Monday']\n",
      "['The Jackson 5 ', ' I Want You Back']\n",
      "['The Righteous Brothers ', \" You've Lost That Lovin' Feelin' \", ' Single Version']\n",
      "['The Beatles ', ' Hey Jude ', ' Remastered']\n",
      "['The Kinks ', ' Waterloo Sunset ', ' Stereo']\n",
      "['The Smiths ', ' There Is a Light That Never Goes Out ', ' 2011 Remaster']\n",
      "['David Bowie ', ' Space Oddity ', ' 2009 Remastered Version']\n",
      "['Ben E. King ', ' Stand By Me']\n",
      "['The Byrds ', ' Mr. Tambourine Man']\n",
      "['The Verve ', ' Bitter Sweet Symphony']\n",
      "['Ike & Tina Turner ', ' River Deep ', ' Mountain High']\n",
      "['Lou Reed ', ' Walk on the Wild Side']\n",
      "['Eagles ', ' Hotel California']\n",
      "['Robyn ', ' Dancing On My Own']\n",
      "['The Mamas & The Papas ', \" California Dreamin'\"]\n",
      "['Martha Reeves & The Vandellas ', ' Dancing In The Street']\n",
      "['Grimes ', ' Oblivion']\n",
      "['The Beatles ', ' I Want To Hold Your Hand ', ' Remastered']\n",
      "[\"Sinéad O'Connor \", ' Nothing Compares 2 U']\n",
      "['Kanye West ', ' Runaway']\n",
      "['Lorde ', ' Royals']\n",
      "['Elvis Presley ', ' Suspicious Minds']\n",
      "['David Bowie ', ' Life On Mars? ', ' 1999 Remastered Version']\n",
      "['Four Tops ', \" Reach Out I'll Be There \", ' Single Version / Mono']\n",
      "['Oasis ', ' Wonderwall']\n",
      "['Bruce Springsteen ', ' Thunder Road']\n",
      "['U2 ', ' One']\n",
      "['Smokey Robinson & The Miracles ', ' The Tracks Of My Tears ', ' Single Version / Mono']\n",
      "['The Beatles ', ' Yesterday ', ' Remastered']\n",
      "['ABBA ', ' Dancing Queen']\n",
      "['The Smiths ', ' This Charming Man ', ' 2011 Remaster']\n",
      "['Frank Ocean ', ' Pyramids']\n",
      "['The Temptations ', ' My Girl ', ' Single Version/Mono']\n",
      "['Lana Del Rey ', ' Video Games']\n",
      "['Amy Winehouse ', ' Rehab']\n",
      "['Simon & Garfunkel ', ' The Sound of Silence ', ' Electric Version']\n",
      "['Simon & Garfunkel ', ' Bridge over Troubled Water']\n",
      "['The Police ', ' Every Breath You Take ', ' Remastered 2003']\n",
      "['Procol Harum ', ' A Whiter Shade Of Pale']\n",
      "['M83 ', ' Midnight City']\n",
      "['Rihanna ', ' Umbrella']\n",
      "['The Beatles ', ' She Loves You ', ' Remastered']\n",
      "['Rod Stewart ', ' Maggie May']\n",
      "['The Shirelles ', ' Will You Still Love Me Tomorrow']\n",
      "['Future Islands ', ' Seasons (Waiting On You)']\n",
      "['Madonna ', ' Like a Prayer']\n",
      "['Oasis ', ' Live Forever']\n",
      "['MGMT ', ' Time to Pretend']\n",
      "['Herbert Stothart ', ' Over the Rainbow (From \"The Wizard of Oz\")']\n",
      "['Roy Orbison ', ' Oh, Pretty Woman']\n",
      "['Madonna ', ' Like a Virgin']\n",
      "['Madonna ', ' Into the Groove']\n",
      "['Tame Impala ', ' Let It Happen']\n",
      "['Prince ', ' Purple Rain']\n",
      "['Kate Bush ', ' Wuthering Heights']\n",
      "['Bruce Springsteen ', ' Born In The U.S.A.']\n",
      "['MGMT ', ' Kids']\n",
      "['Soft Cell ', ' Tainted Love']\n",
      "['Prince ', ' Little Red Corvette']\n",
      "['Kylie Minogue ', \" Can't Get You out of My Head\"]\n",
      "['Animal Collective ', ' My Girls']\n",
      "['The Beatles ', ' Eleanor Rigby ', ' Remastered']\n",
      "[\"The La's \", ' There She Goes']\n",
      "['The Beatles ', ' Help! ', ' Remastered']\n",
      "['The Beatles ', ' In My Life ', ' Remastered']\n",
      "['Dionne Warwick ', ' Walk on By']\n",
      "['Billie Eilish ', ' bad guy']\n",
      "['Van Morrison ', ' Brown Eyed Girl']\n",
      "['Patsy Cline ', ' Crazy']\n",
      "['The Killers ', ' Mr. Brightside']\n",
      "['Del Shannon ', ' Runaway']\n",
      "['Fleetwood Mac ', ' Go Your Own Way']\n",
      "['FKA twigs ', ' Two Weeks']\n",
      "['The Beatles ', ' Penny Lane ', ' Remastered']\n",
      "['Britney Spears ', ' Toxic']\n",
      "['The Human League ', \" Don't You Want Me\"]\n",
      "['David Bowie ', ' Changes ', ' 1999 Remastered Version']\n",
      "['The Beatles ', ' Let It Be ', ' Remastered']\n",
      "['Adele ', ' Rolling in the Deep']\n",
      "['Glen Campbell ', ' Wichita Lineman ', ' Remastered 2001']\n",
      "['U2 ', ' With Or Without You ', ' Remastered']\n",
      "['The Shangri', 'Las ', ' Leader Of The Pack']\n",
      "['Frankie Goes To Hollywood ', ' Relax']\n",
      "['Kraftwerk ', ' The Model ', ' 2009 Remaster']\n",
      "['Arcade Fire ', ' Rebellion (Lies)']\n",
      "['The Beach Boys ', \" Don't Worry Baby (Mono)\"]\n",
      "['The Velvet Underground ', ' Sweet Jane']\n",
      "['Kate Bush ', ' Running Up That Hill (A Deal With God)']\n",
      "['Michael Jackson ', ' Beat It']\n",
      "['Love ', ' Alone Again Or']\n",
      "['Lorde ', ' Green Light']\n",
      "['Pink Floyd ', ' See Emily Play ', ' 2001 Remastered Version']\n",
      "['Grizzly Bear ', ' Two Weeks']\n",
      "['Blur ', ' Girls & Boys ', ' 2012 Remaster']\n",
      "['Dusty Springfield ', ' Son Of A Preacher Man']\n",
      "['The Beatles ', ' Something ', ' Remastered']\n",
      "['The Everly Brothers ', ' Bye Bye Love']\n",
      "['The Knife ', ' Heartbeats']\n",
      "['The Supremes ', ' Stop! In The Name Of Love']\n",
      "['Serge Gainsbourg ', \" Je t'aime moi non plus\"]\n",
      "['R.E.M. ', ' Radio Free Europe']\n",
      "['The Supremes ', ' Where Did Our Love Go ', ' Stereo Version']\n",
      "['Jackie Wilson ', ' (Your Love Keeps Lifting Me) Higher and Higher']\n",
      "['Arcade Fire ', ' Wake Up']\n",
      "[\"The Lovin' Spoonful \", ' Summer in the City ', ' Remastered']\n",
      "['Roy Orbison ', ' Only the Lonely (Know the Way I Feel)']\n",
      "['The Cure ', ' Just Like Heaven']\n",
      "['Eurythmics ', ' Sweet Dreams (Are Made of This) ', ' Remastered']\n",
      "['Peter Bjorn and John ', ' Young Folks']\n",
      "['Sharon Van Etten ', ' Seventeen']\n",
      "['Deee', 'Lite ', ' Groove Is in the Heart']\n",
      "['Bing Crosby ', ' White Christmas']\n",
      "['FKA twigs ', ' cellophane']\n",
      "['David Bowie ', ' Ashes to Ashes']\n",
      "['The Who ', ' I Can See For Miles ', ' Mono Version']\n",
      "['The Beach Boys ', ' I Get Around (Mono)']\n",
      "['The Beatles ', ' I Am The Walrus ', ' Remastered']\n",
      "['The Kinks ', ' Lola']\n",
      "['The Flaming Lips ', ' Do You Realize??']\n",
      "['R.E.M. ', \" It's The End Of The World As We Know It (And I Feel Fine)\"]\n",
      "['Phoenix ', ' 1901']\n",
      "['The Beatles ', ' Ticket To Ride ', ' Remastered']\n",
      "['Roy Orbison ', ' Crying']\n",
      "['Pet Shop Boys ', ' West End Girls ', ' 2001 Remaster']\n",
      "['Sufjan Stevens ', ' Chicago']\n",
      "['John Lennon ', ' Instant Karma! (We All Shine On) ', ' Remastered 2010']\n",
      "['Alanis Morissette ', ' You Oughta Know']\n",
      "['Don McLean ', ' American Pie']\n",
      "['Jefferson Airplane ', ' Somebody to Love']\n",
      "['The Beatles ', ' Come Together ', ' Remastered']\n",
      "['Prince ', ' 1999']\n",
      "['Bobby Darin ', ' Mack the Knife ', ' Edit; 2006 Remaster']\n",
      "['Kelly Clarkson ', ' Since U Been Gone']\n",
      "['Dolly Parton ', ' Jolene']\n",
      "['Van Morrison ', ' Moondance']\n",
      "['Van Halen ', ' Jump']\n",
      "['The Beatles ', ' Norwegian Wood (This Bird Has Flown) ', ' Remastered']\n",
      "['Cyndi Lauper ', ' Girls Just Want to Have Fun']\n",
      "['The Monkees ', \" I'm a Believer\"]\n",
      "['Gloria Gaynor ', ' I Will Survive ', ' Single Version']\n",
      "['The Police ', ' Roxanne ', ' Remastered 2003']\n",
      "['Queen ', ' Under Pressure']\n",
      "['U2 ', ' Pride (In The Name Of Love) ', ' Remastered 2009']\n",
      "['The Crystals ', ' Da Doo Ron Ron (When He Walked Me Home)']\n",
      "['New Order ', ' Bizarre Love Triangle']\n",
      "['The Miracles ', ' You Really Got A Hold On Me']\n",
      "['Little Eva ', ' The Loco', 'Motion']\n",
      "['Vampire Weekend ', ' Hannah Hunt']\n",
      "['The Postal Service ', ' Such Great Heights']\n",
      "['Laurie Anderson ', ' O Superman']\n",
      "['The Only Ones ', ' Another Girl, Another Planet ', ' 2008 re', 'mastered version']\n",
      "['Patti Smith ', ' Because the Night']\n",
      "['TLC ', ' No Scrubs']\n",
      "['The Everly Brothers ', ' All I Have to Do Is Dream ', ' Single Version; 2006 Remaster']\n",
      "['Dexys Midnight Runners ', ' Come On Eileen']\n",
      "['George Harrison ', ' My Sweet Lord ', ' 2001 Digital Remaster']\n",
      "['Depeche Mode ', ' Enjoy the Silence']\n",
      "['The Shins ', ' New Slang']\n",
      "['Antony and the Johnsons ', \" Hope There's Someone\"]\n",
      "['Carly Rae Jepsen ', ' Run Away With Me']\n",
      "['The Beatles ', \" A Hard Day's Night \", ' Remastered']\n",
      "['Perfume Genius ', ' Queen']\n",
      "['Elton John ', ' Your Song']\n",
      "['David Bowie ', ' Starman ', ' 2012 Remastered Version']\n",
      "['Janelle Monáe ', ' Make Me Feel']\n",
      "['The xx ', ' Crystalised']\n",
      "['The Box Tops ', ' The Letter']\n",
      "['R.E.M. ', ' Everybody Hurts']\n",
      "['James Taylor ', ' Fire and Rain']\n",
      "['David Bowie ', ' Young Americans ', ' 2007 Remaster']\n",
      "['Big Star ', ' September Gurls']\n",
      "['The Everly Brothers ', \" Cathy's Clown \", ' Single Version; 2006 Remaster']\n",
      "['Coldplay ', ' Viva La Vida']\n",
      "['Frank Ocean ', ' Nights']\n",
      "['Elvis Costello ', ' Alison']\n",
      "['Justin Timberlake ', ' Cry Me a River']\n",
      "['The Velvet Underground ', ' Rock & Roll']\n",
      "['Nancy Sinatra ', \" These Boots Are Made for Walkin'\"]\n",
      "['The Supremes ', \" You Can't Hurry Love\"]\n",
      "['Ariel Pink ', ' Round And Round']\n",
      "['Lizzo ', ' Juice']\n",
      "['Cyndi Lauper ', ' Time After Time']\n",
      "['Rihanna ', ' We Found Love']\n",
      "['Lou Reed ', ' Perfect Day']\n",
      "['Coldplay ', ' Yellow']\n",
      "['Carole King ', \" It's Too Late\"]\n",
      "['Phil Collins ', ' In The Air Tonight']\n",
      "['10cc ', \" I'm Not In Love\"]\n",
      "['Tammy Wynette ', ' Stand By Your Man']\n",
      "['The Everly Brothers ', ' Wake up Little Susie ', ' Single Version; 2006 Remaster']\n",
      "['The Righteous Brothers ', ' Unchained Melody']\n",
      "['R.E.M. ', ' The One I Love']\n",
      "['Madonna ', ' Ray of Light']\n",
      "['Ariana Grande ', ' thank u, next']\n",
      "['Britney Spears ', ' ...Baby One More Time']\n",
      "['Madonna ', ' Vogue']\n",
      "['U2 ', \" I Still Haven't Found What I'm Looking For \", ' Remastered 2007']\n",
      "['Fleetwood Mac ', ' Dreams']\n",
      "['The Crystals ', \" He's a Rebel\"]\n",
      "['The Easybeats ', ' Friday On My Mind']\n",
      "['ROSALÍA ', ' MALAMENTE ', ' Cap.1: Augurio']\n",
      "['Sly & The Family Stone ', ' Everyday People']\n",
      "['TLC ', ' Waterfalls']\n",
      "['a', 'ha ', ' Take on Me']\n",
      "['Sky Ferreira ', ' Everything Is Embarrassing']\n",
      "['Clairo ', ' Bags']\n",
      "[\"The Lovin' Spoonful \", ' Do You Believe in Magic?']\n",
      "['The Pogues ', ' Fairytale of New York (feat. Kirsty MacColl)']\n",
      "['Arcade Fire ', ' Sprawl II (Mountains Beyond Mountains)']\n",
      "['Phoenix ', ' Lisztomania']\n",
      "['The Police ', ' Message In A Bottle']\n",
      "['LCD Soundsystem ', ' Someone Great']\n",
      "['Simon & Garfunkel ', ' The Boxer']\n",
      "['Depeche Mode ', ' Personal Jesus']\n",
      "['Big Star ', ' Thirteen']\n",
      "['U2 ', ' Where The Streets Have No Name ', ' Remastered 2007']\n",
      "['Soul II Soul ', ' Back To Life (However Do You Want Me) [feat. Caron Wheeler] ', ' 2003 Remastered Version']\n",
      "['The Beatles ', ' All You Need Is Love ', ' Remastered']\n",
      "['Louis Armstrong ', ' What A Wonderful World']\n",
      "['Wilco ', ' Jesus, Etc.']\n",
      "['Julie London ', ' Cry Me A River']\n",
      "['Cornershop ', ' Brimful of Asha']\n",
      "['Bat For Lashes ', ' Daniel']\n",
      "['Robert Wyatt ', ' Shipbuilding ', ' Remastered in 1998']\n",
      "['Sia ', ' Chandelier']\n",
      "['The Beatles ', ' Paperback Writer ', ' Remastered']\n",
      "['David Bowie ', \" Let's Dance \", ' 1999 Remaster']\n",
      "['Elbow ', ' One Day Like This']\n",
      "['The Tornados ', ' Telstar ', ' Remastered']\n",
      "['Tracy Chapman ', ' Fast Car']\n",
      "['Roxy Music ', ' More Than This']\n",
      "['Solange ', ' Losing You']\n",
      "['Leonard Cohen ', ' Hallelujah']\n",
      "['Paul McCartney ', ' Maybe I’m Amazed ', ' Remastered 2011']\n",
      "['New Order ', ' True Faith ', ' 2015 Remaster']\n",
      "['Vampire Weekend ', ' A', 'Punk']\n",
      "['The Buggles ', ' Video Killed The Radio Star']\n",
      "['The Rolling Stones ', ' Miss You ', ' Remastered']\n",
      "['The Beatles ', ' Here Comes The Sun ', ' Remastered']\n",
      "['Charli XCX ', ' Gone']\n",
      "['Lady Gaga ', ' Bad Romance']\n",
      "['The Marvelettes ', ' Please Mr. Postman ', ' Single Version / Mono']\n",
      "['Beyoncé ', ' Single Ladies (Put a Ring on It)']\n",
      "['Don Henley ', ' The Boys Of Summer']\n",
      "['Alvvays ', ' Archie, Marry Me']\n",
      "['The 1975 ', ' Love It If We Made It']\n",
      "['The Byrds ', ' Turn! Turn! Turn! (To Everything There Is a Season)']\n",
      "['Les Paul ', ' How High The Moon']\n",
      "['Cheap Trick ', ' Surrender']\n",
      "['Carly Rae Jepsen ', ' Call Me Maybe']\n",
      "['Tame Impala ', ' Feels Like We Only Go Backwards']\n",
      "['Justin Timberlake ', ' My Love ', ' Single Version']\n",
      "['The Rolling Stones ', \" Let's Spend The Night Together \", ' Stereo Version']\n",
      "['Freda Payne ', ' Band Of Gold (Single Mix)']\n",
      "['Morrissey ', ' Everyday Is Like Sunday']\n",
      "['Bon Jovi ', \" Livin' On A Prayer\"]\n",
      "['Weezer ', ' Buddy Holly']\n",
      "['Oasis ', \" Don't Look Back In Anger\"]\n",
      "['Whitney Houston ', ' I Wanna Dance with Somebody (Who Loves Me)']\n",
      "['Santigold ', ' L.E.S Artistes']\n",
      "['The Who ', ' Substitute ', ' Single Version']\n",
      "['The Sugarcubes ', ' Birthday']\n",
      "['Martha Reeves & The Vandellas ', ' (Love Is Like A) Heat Wave ', ' Single Version']\n",
      "['Gary Numan ', ' Cars ', ' Remastered 2009']\n",
      "['Patsy Cline ', ' I Fall To Pieces ', ' Single Version']\n",
      "['John Lennon ', ' Jealous Guy ', ' Remastered 2010']\n",
      "['The Flaming Lips ', ' Race For The Prize']\n",
      "['The Beatles ', ' Lucy In The Sky With Diamonds ', ' Remastered']\n",
      "['Coldplay ', ' Clocks']\n",
      "['The Temptations ', ' Just My Imagination (Running Away With Me)']\n",
      "['Bob Seger ', ' Night Moves']\n",
      "['Tom Petty and the Heartbreakers ', ' American Girl']\n",
      "['Radiohead ', ' Everything in Its Right Place']\n",
      "['Bobbie Gentry ', ' Ode To Billie Joe']\n",
      "['George Michael ', ' Faith ', ' Remastered']\n",
      "['The Beach Boys ', \" Surfin' Usa\"]\n",
      "['Simon & Garfunkel ', ' America ', ' Single Mix']\n",
      "['The Beach Boys ', \" Surf's Up \", ' Remastered 2009']\n",
      "['Michael Jackson ', ' Thriller']\n",
      "['The Knack ', ' My Sharona']\n",
      "['Nancy Sinatra ', ' Some Velvet Morning']\n",
      "['Everything But The Girl ', ' Missing ', ' Todd Terry Remix / Radio Edit']\n",
      "['Smokey Robinson & The Miracles ', ' The Tears Of A Clown ', ' Single Version / Mono']\n",
      "['Tom Petty ', \" Free Fallin'\"]\n",
      "['Sonny & Cher ', ' I Got You Babe']\n",
      "['The Left Banke ', ' Walk Away Renee']\n",
      "['The Weeknd ', \" Can't Feel My Face\"]\n",
      "['Peter Gabriel ', ' Solsbury Hill']\n",
      "['Madonna ', ' Borderline']\n",
      "['Elton John ', ' Goodbye Yellow Brick Road']\n",
      "['Elvis Costello & The Attractions ', \" Oliver's Army\"]\n",
      "['Simon & Garfunkel ', ' Mrs. Robinson']\n",
      "['Elton John ', ' Tiny Dancer']\n",
      "['Elvis Presley ', ' In the Ghetto']\n",
      "['U2 ', ' Beautiful Day']\n",
      "['Michael Jackson ', ' Rock with You ', ' Single Version']\n",
      "['Ben E. King ', ' Spanish Harlem']\n",
      "['M.I.A. ', ' Galang']\n",
      "['Björk ', ' Hyperballad']\n",
      "['The Zombies ', \" She's Not There\"]\n",
      "['Dirty Projectors ', ' Stillness Is The Move']\n",
      "['Bruce Springsteen ', ' Dancing In The Dark']\n",
      "['The Beach Boys ', ' California Girls ', ' Remix/Remastered 2001']\n",
      "['Tommy James & The Shondells ', ' Crimson & Clover']\n",
      "['The Beatles ', ' Across The Universe ', ' Remastered']\n",
      "['Weezer ', \" Say It Ain't So\"]\n",
      "['The Walker Brothers ', \" The Sun Ain't Gonna Shine Anymore \", ' Mono Version']\n",
      "['Neil Young ', ' After the Gold Rush']\n",
      "['Harry Nilsson ', \" Everybody's Talkin' \", ' From \"Midnight Cowboy\"']\n",
      "['Blondie ', ' Call Me']\n",
      "['Carly Simon ', \" You're So Vain\"]\n",
      "['Oasis ', ' Champagne Supernova']\n",
      "['Kings of Leon ', ' Sex on Fire']\n",
      "['Roy Orbison ', ' In Dreams']\n",
      "['The Clash ', ' Train in Vain']\n",
      "['Mitski ', ' Nobody']\n",
      "['Peter Gabriel ', ' Sledgehammer']\n",
      "['Crowded House ', \" Don't Dream It's Over\"]\n",
      "['Feist ', ' 1234']\n",
      "['Nicki Minaj ', ' Super Bass']\n",
      "['Queen ', ' We Will Rock You']\n",
      "['Taylor Swift ', ' Blank Space']\n",
      "['Billy Joel ', ' Piano Man']\n",
      "['New Radicals ', ' You Get What You Give']\n",
      "['Tears For Fears ', ' Everybody Wants To Rule The World']\n",
      "['George Jones ', ' He Stopped Loving Her Today ', ' Single Version']\n",
      "['The Beatles ', ' I Saw Her Standing There ', ' Remastered']\n",
      "['The Supremes ', \" You Keep Me Hangin' On \", ' Album Version / Stereo']\n",
      "['Randy Newman ', ' Sail Away ', ' 2002 Remaster']\n",
      "['Frank Sinatra ', ' My Way']\n",
      "['Oasis ', ' Supersonic']\n",
      "['Mary Wells ', ' My Guy ', ' Single Version']\n",
      "['Hot Chip ', ' Boy From School']\n",
      "['Paul McCartney ', ' Band On The Run ', ' Remastered 2010']\n",
      "['Coldplay ', ' The Scientist']\n",
      "['Neneh Cherry ', ' Buffalo Stance']\n",
      "['Loretta Lynn ', \" Coal Miner's Daughter \", ' Single Version']\n",
      "['Marvin Gaye ', \" Ain't No Mountain High Enough \", ' Stereo Version']\n",
      "['The Velvet Underground ', ' Sunday Morning']\n",
      "['Joni Mitchell ', ' Big Yellow Taxi']\n",
      "['Bruce Springsteen ', ' Jungleland']\n",
      "['Leonard Cohen ', ' You Want It Darker']\n",
      "['Gary Numan ', \" Are 'Friends' Electric?\"]\n",
      "['Queen ', ' We Are The Champions ', ' Remastered 2011']\n",
      "['DEVO ', ' Whip It']\n",
      "['The Rolling Stones ', ' Ruby Tuesday ', ' Stereo Version']\n",
      "['Panda Bear ', \" Bro's\"]\n",
      "['James Blake ', ' The Wilhelm Scream']\n",
      "['Suede ', ' Animal Nitrate (Remastered)']\n",
      "['Culture Club ', ' Do You Really Want To Hurt Me']\n",
      "['The Beatles ', \" You've Got To Hide Your Love Away \", ' Remastered']\n",
      "['Disclosure ', ' Latch']\n",
      "['Air ', ' Sexy Boy']\n",
      "['The Zombies ', ' Time of the Season']\n",
      "['Elvis Presley ', ' Love Me Tender ', ' From the 20th Century', 'Fox CinemaScope Production \"Love Me Tender\"']\n",
      "['Dion & The Belmonts ', ' A Teenager In Love']\n",
      "['Carpenters ', ' Superstar']\n",
      "['Elliott Smith ', ' Waltz #2 (XO)']\n",
      "['Sam Cooke ', ' Wonderful World']\n",
      "['Madonna ', ' Hung Up']\n",
      "['Johnnie Ray ', ' Cry']\n",
      "['Journey ', \" Don't Stop Believin'\"]\n",
      "['Aretha Franklin ', ' (You Make Me Feel Like) A Natural Woman']\n",
      "['Elton John ', \" Rocket Man (I Think It's Going To Be A Long Long Time)\"]\n",
      "['Yeah Yeah Yeahs ', ' Zero']\n",
      "['Klaxons ', ' Golden Skans']\n",
      "['The Beach Boys ', \" Wouldn't It Be Nice \", ' Mono']\n",
      "['The Contours ', ' Do You Love Me ', ' Mono Single']\n",
      "['Sister Sledge ', ' We Are Family ', ' 1995 Remaster']\n",
      "['Spice Girls ', ' Wannabe']\n",
      "['Stevie Wonder ', \" Uptight (Everything's Alright) \", ' Single Version']\n",
      "['Vampire Weekend ', ' Harmony Hall']\n",
      "['The Beatles ', ' Golden Slumbers ', ' Remastered']\n",
      "['Green Day ', ' Good Riddance (Time of Your Life)']\n",
      "['Suzanne Vega ', ' Luka']\n",
      "['The Crystals ', ' Then He Kissed Me']\n",
      "['Joni Mitchell ', ' Help Me']\n",
      "['Tina Turner ', \" What's Love Got To Do WIth It \", ' 1997 Digital Remaster']\n",
      "['ABBA ', ' The Winner Takes It All']\n",
      "['The Supremes ', ' Baby Love ', ' Mono']\n",
      "['The Yardbirds ', ' For Your Love']\n",
      "['The Beatles ', ' Please Please Me ', ' Remastered']\n",
      "['Daryl Hall & John Oates ', \" She's Gone\"]\n",
      "['The Beatles ', ' Rain ', ' Remastered']\n",
      "['The Drifters ', ' Up on the Roof ', ' Single Version; 2017 Remaster']\n",
      "['Talking Heads ', ' Burning Down the House ', ' 2005 Remaster']\n",
      "['The Young Rascals ', \" Good Lovin' \", ' Single Version']\n",
      "['Stevie Wonder ', ' Sir Duke']\n",
      "[\"Destiny's Child \", ' Say My Name']\n",
      "['Jackie Wilson ', ' Lonely Teardrops']\n",
      "['The Drifters ', ' Save the Last Dance for Me ', ' 2009 Remaster']\n",
      "['Various Artists ', ' Itchycoo Park']\n",
      "['Robyn ', ' With Every Heartbeat ', ' with Kleerup']\n",
      "['Wings ', ' Live and Let Die']\n",
      "['Ray Charles ', \" I Can't Stop Loving You\"]\n",
      "['Madonna ', ' Music']\n",
      "['The Turtles ', ' Happy Together']\n",
      "['Robyn ', ' Honey']\n",
      "['Katy Perry ', ' Teenage Dream']\n",
      "['Danny & The Juniors ', ' At The Hop']\n",
      "['Chaka Khan ', ' I Feel for You']\n",
      "['The Cars ', ' Just What I Needed']\n",
      "['Queen ', ' Killer Queen ', ' Remastered 2011']\n",
      "['Steely Dan ', \" Reelin' In The Years\"]\n",
      "['Edwyn Collins ', ' A Girl Like You']\n",
      "['Chris Isaak ', ' Wicked Game']\n",
      "['Madonna ', ' Holiday']\n",
      "['Simple Minds ', \" Don't You (Forget About Me)\"]\n",
      "['The Beatles ', ' Blackbird ', ' Remastered']\n",
      "['New Order ', ' Regret']\n",
      "['The Kinks ', ' Sunny Afternoon']\n",
      "['Pet Shop Boys ', \" It's a Sin \", ' 2001 Remaster']\n",
      "['Four Tops ', ' I Can’t Help Myself (Sugar Pie, Honey Bunch)']\n",
      "['The Beach Boys ', ' In My Room ', ' Remastered']\n",
      "['Snail Mail ', ' Pristine']\n",
      "['The Temptations ', \" Ain't Too Proud To Beg\"]\n",
      "['The Drifters ', ' On Broadway ', ' 2018 Remaster']\n",
      "['Elastica ', ' Connection']\n",
      "['Foreigner ', ' I Want to Know What Love Is ', ' 1999 Remaster']\n",
      "['Bob Dylan ', ' I Want You']\n",
      "['Madness ', ' Our House (Remastered)']\n",
      "['The Doobie Brothers ', ' What a Fool Believes']\n",
      "['Eels ', ' Novocaine For The Soul']\n",
      "['Beach House ', ' Myth']\n",
      "['ABBA ', ' Waterloo']\n",
      "['Frankie Goes To Hollywood ', ' Two Tribes']\n",
      "['Vampire Weekend ', ' Step']\n",
      "['Adele ', ' Someone Like You']\n",
      "['Brigitte Bardot ', ' Bonnie And Clyde']\n",
      "['The Moody Blues ', ' The Night']\n",
      "['Millie Small ', ' My Boy Lollipop']\n",
      "['Harry Nilsson ', ' Without You ', ' Remastered']\n",
      "['Justin Bieber ', ' Sorry']\n",
      "['Bruce Springsteen ', \" I'm On Fire\"]\n",
      "['Amy Winehouse ', ' Back To Black']\n",
      "['Bronski Beat ', ' Smalltown Boy']\n",
      "['The Jam ', ' The Eton Rifles']\n",
      "[\"Flamin' Groovies \", ' Shake Some Action']\n",
      "['Lily Allen ', ' Smile']\n",
      "['The Go', \"Go's \", ' Our Lips Are Sealed ', ' 2011 Remaster']\n",
      "['Warren Zevon ', ' Werewolves of London']\n",
      "['Mitch Ryder and The Detroit Wheels ', ' Devil with a Blue Dress On / Good Golly Miss Molly (Medley)']\n",
      "['Arcade Fire ', ' Neighborhood #1 (Tunnels)']\n",
      "['The Beatles ', ' We Can Work It Out ', ' Remastered']\n",
      "['Depeche Mode ', \" Just Can't Get Enough \", ' 2006 Digital Remaster']\n",
      "['The Beatles ', ' Day Tripper ', ' Remastered']\n",
      "['Lana Del Rey ', ' The greatest']\n",
      "['Bachman', 'Turner Overdrive ', \" You Ain't Seen Nothing Yet\"]\n",
      "['Manic Street Preachers ', ' A Design for Life']\n",
      "['Elvis Costello & The Attractions ', ' Radio, Radio']\n",
      "['St. Vincent ', ' Digital Witness']\n",
      "['The Killers ', \" All These Things That I've Done\"]\n",
      "['George McCrae ', ' Rock Your Baby']\n",
      "['Doris Day ', ' Sentimental Journey']\n",
      "['Roger Miller ', ' King Of The Road']\n",
      "['David Bowie ', ' Modern Love ', ' 1999 Remaster']\n",
      "['Sly & The Family Stone ', ' I Want to Take You Higher']\n",
      "['Elton John ', ' Bennie And The Jets ', ' Remastered 2014']\n",
      "['Electric Light Orchestra ', ' Mr. Blue Sky']\n",
      "['The B', \"52's \", ' Love Shack']\n",
      "['HAIM ', ' The Wire']\n",
      "['The Jam ', ' Town Called Malice']\n",
      "['The Cure ', \" Friday I'm In Love\"]\n",
      "['INXS ', ' Need You Tonight']\n",
      "['Taylor Swift ', ' All Too Well']\n",
      "['Autre Ne Veut ', ' Play by Play']\n",
      "['Patsy Cline ', \" Walkin' After Midnight\"]\n",
      "['The Velvet Underground ', ' Pale Blue Eyes']\n",
      "['The Human League ', ' Being Boiled ', ' Fast Version / 2003 Digital Remaster']\n",
      "['Carole King ', \" You've Got a Friend\"]\n",
      "['Madonna ', ' Material Girl']\n",
      "['The Beatles ', \" Can't Buy Me Love \", ' Remastered']\n",
      "['ANOHNI ', ' Drone Bomb Me']\n",
      "['Gotye ', ' Somebody That I Used To Know']\n",
      "['The Chiffons ', \" He's So Fine\"]\n",
      "['Fine Young Cannibals ', ' She Drives Me Crazy']\n",
      "['Gene Kelly ', \" Singin' in the Rain\"]\n",
      "['Sly & The Family Stone ', ' Hot Fun in the Summertime']\n",
      "['Paul Simon ', ' Graceland']\n",
      "['Kate Bush ', ' Hounds Of Love']\n",
      "['Fleetwood Mac ', ' The Chain']\n",
      "['The Smiths ', ' Bigmouth Strikes Again ', ' 2011 Remaster']\n",
      "['Bryan Adams ', \" Summer Of '69\"]\n",
      "['Joni Mitchell ', ' Free Man in Paris']\n",
      "['Archie Bell & The Drells ', ' Tighten Up']\n",
      "['Fiona Apple ', ' Criminal']\n"
     ]
    }
   ],
   "source": [
    "for song in pop_song_list[:500]:\n",
    "    info = song.split('-')\n",
    "    print(info)"
   ],
   "metadata": {
    "collapsed": false,
    "ExecuteTime": {
     "end_time": "2024-05-20T01:41:32.399001200Z",
     "start_time": "2024-05-20T01:41:32.386440500Z"
    }
   },
   "id": "84d8e291ce8274bb",
   "execution_count": 5
  },
  {
   "cell_type": "code",
   "outputs": [],
   "source": [
    "rock_df = song_list_to_df(rock_song_list[:300], \"Rock\")\n",
    "hiphop_df = song_list_to_df(hiphop_song_list[:300], \"Hiphop\")\n",
    "country_df = song_list_to_df(country_song_list[:300], \"Country\")\n",
    "rnb_df = song_list_to_df(rnb_song_list[:300], \"RnB\")\n",
    "singersongwriter_df = song_list_to_df(singersongwriter_song_list[:300], \"Singer/Songwriter\")\n",
    "pop_df = song_list_to_df(pop_song_list[:300], \"Pop\")"
   ],
   "metadata": {
    "collapsed": false,
    "ExecuteTime": {
     "end_time": "2024-05-20T09:15:30.363990700Z",
     "start_time": "2024-05-20T09:15:30.342469200Z"
    }
   },
   "id": "c2f89ec58596de6c",
   "execution_count": 93
  },
  {
   "cell_type": "code",
   "outputs": [
    {
     "data": {
      "text/plain": "                                   artist  \\\n0                                  M.I.A.   \n1    Grandmaster Flash & The Furious Five   \n2                           Missy Elliott   \n3                                    Beck   \n4                            Public Enemy   \n..                                    ...   \n295                             T La Rock   \n296                            Kanye West   \n297                              Ludacris   \n298                           The Streets   \n299                         Queen Latifah   \n\n                                           title   genre  \n0                                   Paper Planes  Hiphop  \n1    The Message (feat. Melle Mel & Duke Bootee)  Hiphop  \n2                                Get Ur Freak On  Hiphop  \n3                                          Loser  Hiphop  \n4                                Fight The Power  Hiphop  \n..                                           ...     ...  \n295                       It's Yours (Radio Mix)  Hiphop  \n296                                    Good Life  Hiphop  \n297    Southern Hospitality (Featuring Pharrell)  Hiphop  \n298                         Has It Come to This?  Hiphop  \n299              Ladies First (feat. Monie Love)  Hiphop  \n\n[300 rows x 3 columns]",
      "text/html": "<div>\n<style scoped>\n    .dataframe tbody tr th:only-of-type {\n        vertical-align: middle;\n    }\n\n    .dataframe tbody tr th {\n        vertical-align: top;\n    }\n\n    .dataframe thead th {\n        text-align: right;\n    }\n</style>\n<table border=\"1\" class=\"dataframe\">\n  <thead>\n    <tr style=\"text-align: right;\">\n      <th></th>\n      <th>artist</th>\n      <th>title</th>\n      <th>genre</th>\n    </tr>\n  </thead>\n  <tbody>\n    <tr>\n      <th>0</th>\n      <td>M.I.A.</td>\n      <td>Paper Planes</td>\n      <td>Hiphop</td>\n    </tr>\n    <tr>\n      <th>1</th>\n      <td>Grandmaster Flash &amp; The Furious Five</td>\n      <td>The Message (feat. Melle Mel &amp; Duke Bootee)</td>\n      <td>Hiphop</td>\n    </tr>\n    <tr>\n      <th>2</th>\n      <td>Missy Elliott</td>\n      <td>Get Ur Freak On</td>\n      <td>Hiphop</td>\n    </tr>\n    <tr>\n      <th>3</th>\n      <td>Beck</td>\n      <td>Loser</td>\n      <td>Hiphop</td>\n    </tr>\n    <tr>\n      <th>4</th>\n      <td>Public Enemy</td>\n      <td>Fight The Power</td>\n      <td>Hiphop</td>\n    </tr>\n    <tr>\n      <th>...</th>\n      <td>...</td>\n      <td>...</td>\n      <td>...</td>\n    </tr>\n    <tr>\n      <th>295</th>\n      <td>T La Rock</td>\n      <td>It's Yours (Radio Mix)</td>\n      <td>Hiphop</td>\n    </tr>\n    <tr>\n      <th>296</th>\n      <td>Kanye West</td>\n      <td>Good Life</td>\n      <td>Hiphop</td>\n    </tr>\n    <tr>\n      <th>297</th>\n      <td>Ludacris</td>\n      <td>Southern Hospitality (Featuring Pharrell)</td>\n      <td>Hiphop</td>\n    </tr>\n    <tr>\n      <th>298</th>\n      <td>The Streets</td>\n      <td>Has It Come to This?</td>\n      <td>Hiphop</td>\n    </tr>\n    <tr>\n      <th>299</th>\n      <td>Queen Latifah</td>\n      <td>Ladies First (feat. Monie Love)</td>\n      <td>Hiphop</td>\n    </tr>\n  </tbody>\n</table>\n<p>300 rows × 3 columns</p>\n</div>"
     },
     "execution_count": 94,
     "metadata": {},
     "output_type": "execute_result"
    }
   ],
   "source": [
    "hiphop_df"
   ],
   "metadata": {
    "collapsed": false,
    "ExecuteTime": {
     "end_time": "2024-05-20T09:15:42.608336300Z",
     "start_time": "2024-05-20T09:15:42.589841700Z"
    }
   },
   "id": "1f856639396bd0aa",
   "execution_count": 94
  },
  {
   "cell_type": "code",
   "outputs": [
    {
     "data": {
      "text/plain": "                      artist                            title genre\n0                 Bob Dylan              Like a Rolling Stone  Rock\n1                   Nirvana           Smells Like Teen Spirit  Rock\n2               The Beatles                A Day In The Life   Rock\n3               Chuck Berry                    Johnny B Goode  Rock\n4        The Rolling Stones    (I Can't Get No) Satisfaction   Rock\n..                       ...                              ...   ...\n145  The Velvet Underground                        Sweet Jane  Rock\n146         Michael Jackson                           Beat It  Rock\n147              Pink Floyd               Wish You Were Here   Rock\n148            Beastie Boys                         Sabotage   Rock\n149                    Love                    Alone Again Or  Rock\n\n[150 rows x 3 columns]",
      "text/html": "<div>\n<style scoped>\n    .dataframe tbody tr th:only-of-type {\n        vertical-align: middle;\n    }\n\n    .dataframe tbody tr th {\n        vertical-align: top;\n    }\n\n    .dataframe thead th {\n        text-align: right;\n    }\n</style>\n<table border=\"1\" class=\"dataframe\">\n  <thead>\n    <tr style=\"text-align: right;\">\n      <th></th>\n      <th>artist</th>\n      <th>title</th>\n      <th>genre</th>\n    </tr>\n  </thead>\n  <tbody>\n    <tr>\n      <th>0</th>\n      <td>Bob Dylan</td>\n      <td>Like a Rolling Stone</td>\n      <td>Rock</td>\n    </tr>\n    <tr>\n      <th>1</th>\n      <td>Nirvana</td>\n      <td>Smells Like Teen Spirit</td>\n      <td>Rock</td>\n    </tr>\n    <tr>\n      <th>2</th>\n      <td>The Beatles</td>\n      <td>A Day In The Life</td>\n      <td>Rock</td>\n    </tr>\n    <tr>\n      <th>3</th>\n      <td>Chuck Berry</td>\n      <td>Johnny B Goode</td>\n      <td>Rock</td>\n    </tr>\n    <tr>\n      <th>4</th>\n      <td>The Rolling Stones</td>\n      <td>(I Can't Get No) Satisfaction</td>\n      <td>Rock</td>\n    </tr>\n    <tr>\n      <th>...</th>\n      <td>...</td>\n      <td>...</td>\n      <td>...</td>\n    </tr>\n    <tr>\n      <th>145</th>\n      <td>The Velvet Underground</td>\n      <td>Sweet Jane</td>\n      <td>Rock</td>\n    </tr>\n    <tr>\n      <th>146</th>\n      <td>Michael Jackson</td>\n      <td>Beat It</td>\n      <td>Rock</td>\n    </tr>\n    <tr>\n      <th>147</th>\n      <td>Pink Floyd</td>\n      <td>Wish You Were Here</td>\n      <td>Rock</td>\n    </tr>\n    <tr>\n      <th>148</th>\n      <td>Beastie Boys</td>\n      <td>Sabotage</td>\n      <td>Rock</td>\n    </tr>\n    <tr>\n      <th>149</th>\n      <td>Love</td>\n      <td>Alone Again Or</td>\n      <td>Rock</td>\n    </tr>\n  </tbody>\n</table>\n<p>150 rows × 3 columns</p>\n</div>"
     },
     "execution_count": 8,
     "metadata": {},
     "output_type": "execute_result"
    }
   ],
   "source": [
    "rock_df"
   ],
   "metadata": {
    "collapsed": false,
    "ExecuteTime": {
     "end_time": "2024-05-20T06:16:33.245377900Z",
     "start_time": "2024-05-20T06:16:33.224287700Z"
    }
   },
   "id": "8979e047353d575e",
   "execution_count": 8
  },
  {
   "cell_type": "markdown",
   "source": [
    "Need a way to combat duplicates in genres"
   ],
   "metadata": {
    "collapsed": false
   },
   "id": "b2e6ee537275f184"
  },
  {
   "cell_type": "code",
   "outputs": [
    {
     "data": {
      "text/plain": "artist\nLed Zeppelin         51\nAC/DC                30\nMetallica            30\nNirvana              27\nJimi Hendrix         25\n                     ..\nJoan Armatrading      1\nAustralian Crawl      1\nSputniks              1\nKim Gordon            1\nHuman Flotsam         1\nName: count, Length: 2183, dtype: int64"
     },
     "execution_count": 166,
     "metadata": {},
     "output_type": "execute_result"
    }
   ],
   "source": [
    "mask = ~rock_df['title'].isin(pop_df['title'])\n",
    "mask\n",
    "rock_df_filtered =  rock_df[mask]\n",
    "rock_df_filtered['artist'].value_counts()"
   ],
   "metadata": {
    "collapsed": false,
    "ExecuteTime": {
     "end_time": "2024-05-15T10:22:37.968920600Z",
     "start_time": "2024-05-15T10:22:37.952206800Z"
    }
   },
   "id": "d999e849010de108",
   "execution_count": 166
  },
  {
   "cell_type": "markdown",
   "source": [
    "Look into this more.."
   ],
   "metadata": {
    "collapsed": false
   },
   "id": "ba61d0b674d953e5"
  },
  {
   "cell_type": "code",
   "outputs": [
    {
     "data": {
      "text/plain": "artist\nThe Beatles            112\nThe Rolling Stones     102\nDavid Bowie             73\nBob Dylan               69\nBruce Springsteen       63\n                      ... \nPeter Murphy             1\nLooking Glass            1\nConnie Francis           1\nMontrose                 1\nHuman Flotsam            1\nName: count, Length: 2382, dtype: int64"
     },
     "execution_count": 167,
     "metadata": {},
     "output_type": "execute_result"
    }
   ],
   "source": [
    "rock_df['artist'].value_counts()"
   ],
   "metadata": {
    "collapsed": false,
    "ExecuteTime": {
     "end_time": "2024-05-15T10:22:41.905676500Z",
     "start_time": "2024-05-15T10:22:41.895634400Z"
    }
   },
   "id": "5397b5d6696731c4",
   "execution_count": 167
  },
  {
   "cell_type": "markdown",
   "source": [
    "## Turning song artist/titles to URLs"
   ],
   "metadata": {
    "collapsed": false
   },
   "id": "e7968b7761a52816"
  },
  {
   "cell_type": "code",
   "outputs": [
    {
     "name": "stderr",
     "output_type": "stream",
     "text": [
      "<>:4: SyntaxWarning: invalid escape sequence '\\('\n",
      "<>:4: SyntaxWarning: invalid escape sequence '\\('\n",
      "C:\\Users\\jclar\\AppData\\Local\\Temp\\ipykernel_18600\\836840687.py:4: SyntaxWarning: invalid escape sequence '\\('\n",
      "  text = \"\".join(re.split(\"\\(|\\)|\\[|\\]\", text)[::2])\n"
     ]
    }
   ],
   "source": [
    "def clean_text(text):\n",
    "    ''' Removes special characters and blank spaces in text and returns in lowercase '''\n",
    "    regex = re.compile('[^A-Za-z0-9_]')\n",
    "    text = \"\".join(re.split(\"\\(|\\)|\\[|\\]\", text)[::2])\n",
    "    text = regex.sub('', text)\n",
    "    text = text.lower()\n",
    "    return text"
   ],
   "metadata": {
    "collapsed": false,
    "ExecuteTime": {
     "end_time": "2024-05-20T09:19:52.244500400Z",
     "start_time": "2024-05-20T09:19:52.230120100Z"
    }
   },
   "id": "5a5897b9102b2e4c",
   "execution_count": 96
  },
  {
   "cell_type": "code",
   "outputs": [
    {
     "name": "stdout",
     "output_type": "stream",
     "text": [
      "https://www.azlyrics.com/lyrics/marvingaye/ihearditthroughthegrapevine.html\n"
     ]
    }
   ],
   "source": [
    "def create_url(df = pd.DataFrame, index = int):\n",
    "    ''' Create song URL based on song title and artist found using the index in data frame '''\n",
    "    #regex = re.compile('[^A-Za-z0-9_]')\n",
    "    title = df[\"title\"][index] \n",
    "    title = clean_text(title)\n",
    "\n",
    "    artist = df[\"artist\"][index]\n",
    "    artist = clean_text(artist)\n",
    "\n",
    "    url = f\"https://www.azlyrics.com/lyrics/{artist}/{title}.html\"\n",
    "    return url\n",
    "\n",
    "\n",
    "#hiphop_df\n",
    "\n",
    "print(create_url(rnb_df, 2))\n",
    "    \n",
    "    "
   ],
   "metadata": {
    "collapsed": false,
    "ExecuteTime": {
     "end_time": "2024-05-20T09:20:20.057490200Z",
     "start_time": "2024-05-20T09:20:20.043253Z"
    }
   },
   "id": "21fcc5f5f701e15f",
   "execution_count": 101
  },
  {
   "cell_type": "markdown",
   "source": [
    "## Scraping"
   ],
   "metadata": {
    "collapsed": false
   },
   "id": "20378758ef32bea4"
  },
  {
   "cell_type": "code",
   "outputs": [],
   "source": [
    "def get_lyrics(song_url):\n",
    "    '''When given a URL, scrape song lyrics from AZLyrcs'''\n",
    "    song = urlopen(song_url)\n",
    "    soup = BeautifulSoup(song.read(), \"html.parser\")\n",
    "    lyrics = soup.find_all(\"div\")[22].get_text()\n",
    "    return lyrics\n"
   ],
   "metadata": {
    "collapsed": false,
    "ExecuteTime": {
     "end_time": "2024-05-20T06:22:38.309119200Z",
     "start_time": "2024-05-20T06:22:38.296116700Z"
    }
   },
   "id": "d5e711a384f4eab7",
   "execution_count": 19
  },
  {
   "cell_type": "code",
   "outputs": [
    {
     "name": "stdout",
     "output_type": "stream",
     "text": [
      "\n",
      "\r\n",
      "Thugger\n",
      "The Thugger, baby, yeah\n",
      "(Young Metro, Young Metro, Young Metro)\n",
      "Metro! Hee\n",
      "Young Metro, Young Metro, Young Metro\n",
      "And what?\n",
      "(Metro Boomin want some more, nigga)\n",
      "\n",
      "Shit, shoot him in his back like Ricky but not Slick\n",
      "Spent like seven bands on a tri-color pit\n",
      "All my signs red like a stop, nigga, no pit\n",
      "I'm on the purple, nigga, high like fuckin' Martians, whoa\n",
      "In a foreign yesterday, I was just walkin', whoa\n",
      "Left my baby mama, now my bitch a Barbie, whoa\n",
      "All-red Dickies suit, I'm ridin' down Slauson, whoa (skrt)\n",
      "Yeah, yeah, yeah, yeah\n",
      "Hercu-Hercules (whoa, yeah, yeah, hey, hey)\n",
      "Hercu-Hercules (heeh, heeh, yay, heeh, heeh)\n",
      "Hercu-Hercules (ooh, yah, yaaaaah, yeah, yeah)\n",
      "Hercu-Hercules (I got, I got, I got lean)\n",
      "\n",
      "I smoke gas, that's that Hercules (strong marijuana)\n",
      "She looked at him, oh, now she watchin' me (Bitch likes my persona)\n",
      "Bitch, I'm speedin' to that guapanese (skrrt)\n",
      "Old Chevy mounted up, I can't forget the T\n",
      "Drop the top, shoot birds at the officers (fuck 'em)\n",
      "Fuck them boys, they costin' us, they stalkin' us\n",
      "They know they old lady not runnin', they fall for us\n",
      "We so tired of takin' losses, ain't no more chalkin' us, I promise\n",
      "YSL on ape and they donkeys\n",
      "These niggas pointless, they want me wanted\n",
      "I'm still a stoner, MAC and cheese on me\n",
      "These niggas clonin', I'm full but I'm still hungry\n",
      "Hey when the click clock, I'll make your bitch stop\n",
      "Ice inside my tick tock, boss cookies, no brisco\n",
      "I just bought a Cuban link, flooded with big rocks\n",
      "Snitches tryna juug at me, I gotta dead sum\n",
      "Whoa, shit\n",
      "\n",
      "Shit, shoot him in his back like Ricky but not Slick\n",
      "Spent like seven bands on a tri-color pit\n",
      "All my signs red like a stop, nigga, no pit\n",
      "I'm on the purple, nigga, high like fuckin' Martians, whoa\n",
      "In a foreign yesterday, I was just walkin', whoa\n",
      "Left my baby mama, now my bitch a Barbie, whoa\n",
      "All-red Dickies suit, I'm ridin' down Slauson, whoa (skrt)\n",
      "Yeah, yeah, yeah, yeah\n",
      "Hercu-Hercules (whoa, yeah, yeah, hey, hey)\n",
      "Hercu-Hercules (heeh, heeh, yay, heeh, heeh)\n",
      "Hercu-Hercules (ooh, yah, yaaaaah, yeah, yeah)\n",
      "Hercu-Hercules (I got, I got, I got lean)\n",
      "\n",
      "Okay first of all, I was doin' this shit 'fore I was rich\n",
      "I don't care at all, I'll go do a dolphin for my clique\n",
      "Fuck your conference call, pull up with a check and get my sig\n",
      "Double D, you dig? No firework, it was lit\n",
      "And then some fuck nigga was hatin' on me\n",
      "They took ya life, I know some fuck niggas waitin' on it\n",
      "I grab that TEC, I grab that 40 and the F&N\n",
      "Then we pulled up ready to squabble, yeah we waited on 'em\n",
      "Anaconda, we on that slime stuff, here to remind ya\n",
      "Fucked your old lady, she want the finest\n",
      "YSL, we shinin', let her stand behind us\n",
      "Yeah my crew we rock, rock, baby you can climb us\n",
      "I call my migo, migo come and let me juug through the city\n",
      "He stuffed it with burritos and he let 'em fly right to me\n",
      "Bitches call me Casino but I let 'em ride 'round the city\n",
      "She want bingo, kilo, no sweat, now she can ride in the Bentley\n",
      "Whoa\n",
      "\n",
      "Shit, shoot him in his back like Ricky but not Slick\n",
      "Spent like seven bands on a tri-color pit\n",
      "All my signs red like a stop, nigga, no pit\n",
      "I'm on the purple, nigga, high like fuckin' Martians, whoa\n",
      "In a foreign yesterday, I was just walkin', whoa\n",
      "Left my baby mama, now my bitch a Barbie, whoa\n",
      "All-red Dickies suit, I'm ridin' down Slauson, whoa (skrt)\n",
      "Yeah, yeah, yeah, yeah\n",
      "Hercu-Hercules (whoa, yeah, yeah, hey, hey)\n",
      "Hercu-Hercules (heeh, heeh, yay, heeh, heeh)\n",
      "Hercu-Hercules (ooh, yah, yaaaaah, yeah, yeah)\n",
      "Hercu-Hercules (I got, I got, I got lean)\n",
      "\n",
      "Thugger Thugger said he have a brand new stick\n",
      "Thugger Thugger sittin' on some fashion shit\n",
      "Thugger Thugger still livin' like a boss\n",
      "YSL my team, my squad\n",
      "Metro Boomin want some more, nigga\n"
     ]
    }
   ],
   "source": [
    "test = get_lyrics('https://www.azlyrics.com/lyrics/youngthug/hercules.html')\n",
    "print(test)"
   ],
   "metadata": {
    "collapsed": false,
    "ExecuteTime": {
     "end_time": "2024-05-20T06:22:42.412185900Z",
     "start_time": "2024-05-20T06:22:40.265437500Z"
    }
   },
   "id": "a386ad40a870723f",
   "execution_count": 20
  }
 ],
 "metadata": {
  "kernelspec": {
   "display_name": "Python 3",
   "language": "python",
   "name": "python3"
  },
  "language_info": {
   "codemirror_mode": {
    "name": "ipython",
    "version": 2
   },
   "file_extension": ".py",
   "mimetype": "text/x-python",
   "name": "python",
   "nbconvert_exporter": "python",
   "pygments_lexer": "ipython2",
   "version": "2.7.6"
  }
 },
 "nbformat": 4,
 "nbformat_minor": 5
}
