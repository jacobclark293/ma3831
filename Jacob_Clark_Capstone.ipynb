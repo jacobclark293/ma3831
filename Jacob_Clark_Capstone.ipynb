{
 "cells": [
  {
   "cell_type": "code",
   "outputs": [],
   "source": [
    "import requests\n",
    "import time\n",
    "import random\n",
    "import os \n",
    "import pandas as pd\n",
    "\n",
    "\n",
    "from requests.models import Response\n",
    "from string import ascii_lowercase\n",
    "from urllib.request import urlopen\n",
    "from bs4 import BeautifulSoup"
   ],
   "metadata": {
    "collapsed": false,
    "ExecuteTime": {
     "end_time": "2024-05-20T02:19:30.097825400Z",
     "start_time": "2024-05-20T02:19:30.091549900Z"
    }
   },
   "id": "2d4c07b4dccbb982",
   "execution_count": 13
  },
  {
   "cell_type": "markdown",
   "source": [
    "**last.fm API to retrieve top x songs by genre (tag)**\n",
    "\n",
    "Application name\teducational - no application\n",
    "API key\te8934c6a9bbb9395fb830b15a53f2916\n",
    "Shared secret\t6d093f7d7b4b55ea5008303a24cd2ca5\n",
    "Registered to\tpajamasam29"
   ],
   "metadata": {
    "collapsed": false
   },
   "id": "10c7347cca6ee0a9"
  },
  {
   "cell_type": "markdown",
   "source": [
    "send user to last.fm/api/auth/?api_key=xxx\n",
    "\n",
    "\n",
    " /2.0/?method=tag.gettoptracks&tag=disco&api_key=YOUR_API_KEY&format=json"
   ],
   "metadata": {
    "collapsed": false
   },
   "id": "5af17826d363bd02"
  },
  {
   "cell_type": "code",
   "outputs": [],
   "source": [
    "api_key = \"e8934c6a9bbb9395fb830b15a53f2916\"\n",
    "#end_point = 'last.fm/api/auth/'\n",
    "\n",
    "end_point = \"http://ws.audioscrobbler.com/2.0/\"\n",
    "\n",
    "def get_songs_from_lastfm(tag, number_of_songs):\n",
    "    response = requests.get('http://ws.audioscrobbler.com/2.0/?method=tag.gettoptracks&tag='+tag+'&limit='+str(number_of_songs)+'&api_key=e8934c6a9bbb9395fb830b15a53f2916&format=json').json()\n",
    "    collection = response['tracks']['track']\n",
    "    song_list = []\n",
    "    for song in collection:\n",
    "        #print(song['name'])\n",
    "        title = song['name']\n",
    "        artist = song['artist']['name']\n",
    "        song_list.append(title)\n",
    "    return song_list\n",
    "    #return collection\n",
    "    #return {'title':title, 'artist':artist}"
   ],
   "metadata": {
    "collapsed": false,
    "ExecuteTime": {
     "end_time": "2024-05-09T10:13:17.329875700Z",
     "start_time": "2024-05-09T10:13:17.323872Z"
    }
   },
   "id": "6cc96ffd2c51ec99",
   "execution_count": 6
  },
  {
   "cell_type": "markdown",
   "source": [
    "Include artist?"
   ],
   "metadata": {
    "collapsed": false
   },
   "id": "c0ae1b850721511e"
  },
  {
   "cell_type": "code",
   "outputs": [],
   "source": [
    "def get_songs_artists_from_lastfm(tag, number_of_songs):\n",
    "    response = requests.get('http://ws.audioscrobbler.com/2.0/?method=tag.gettoptracks&tag='+tag+'&limit='+str(number_of_songs)+'&api_key=e8934c6a9bbb9395fb830b15a53f2916&format=json').json()\n",
    "    collection = response['tracks']['track']\n",
    "    song_data = []\n",
    "    for song in collection:\n",
    "        #print(song['name'])\n",
    "        title = song['name']\n",
    "        artist = song['artist']['name']\n",
    "        duration = song['duration']\n",
    "        song_data.append({'title':title, 'artist':artist, 'duration':duration})\n",
    "    #return collection\n",
    "    return song_data\n",
    "\n",
    "# return collection if you want to view what else is available to pull\n",
    "\n"
   ],
   "metadata": {
    "collapsed": false,
    "ExecuteTime": {
     "end_time": "2024-05-09T10:13:04.476833800Z",
     "start_time": "2024-05-09T10:13:04.468817Z"
    }
   },
   "id": "d7c782c91d8ad60f",
   "execution_count": 3
  },
  {
   "cell_type": "code",
   "outputs": [
    {
     "data": {
      "text/plain": "[{'title': 'Stronger', 'artist': 'Kanye West', 'duration': '314'},\n {'title': 'Heartless', 'artist': 'Kanye West', 'duration': '209'},\n {'title': 'Clint Eastwood', 'artist': 'Gorillaz', 'duration': '339'},\n {'title': 'Hey Ya!', 'artist': 'OutKast', 'duration': '233'},\n {'title': 'Ms. Jackson', 'artist': 'OutKast', 'duration': '271'},\n {'title': 'In Da Club', 'artist': '50 Cent', 'duration': '193'},\n {'title': 'Without Me', 'artist': 'Eminem', 'duration': '290'},\n {'title': 'The Real Slim Shady', 'artist': 'Eminem', 'duration': '284'},\n {'title': 'It Was A Good Day', 'artist': 'Ice Cube', 'duration': '267'},\n {'title': 'Best I Ever Had', 'artist': 'Drake', 'duration': '257'}]"
     },
     "execution_count": 220,
     "metadata": {},
     "output_type": "execute_result"
    }
   ],
   "source": [
    "get_songs_artists_from_lastfm('rap', 10)"
   ],
   "metadata": {
    "collapsed": false,
    "ExecuteTime": {
     "end_time": "2024-05-09T07:46:29.286932700Z",
     "start_time": "2024-05-09T07:46:28.984032300Z"
    }
   },
   "id": "a45b2759a76d36b5",
   "execution_count": 220
  },
  {
   "cell_type": "code",
   "outputs": [
    {
     "data": {
      "text/plain": "                              title         artist duration\n0                              Hurt    Johnny Cash      218\n1                        Wake Me Up         Avicii      246\n2                        Love Story   Taylor Swift      233\n3                You Belong with Me   Taylor Swift      231\n4                      Ring of Fire    Johnny Cash      156\n..                              ...            ...      ...\n170           I've Just Seen a Face    The Beatles      128\n171  Hey Stephen (Taylor’s Version)   Taylor Swift        0\n172    Starlight (Taylor's Version)   Taylor Swift        0\n173                   Daddy Lessons        Beyoncé        0\n174                 Back Down South  Kings of Leon      241\n\n[175 rows x 3 columns]",
      "text/html": "<div>\n<style scoped>\n    .dataframe tbody tr th:only-of-type {\n        vertical-align: middle;\n    }\n\n    .dataframe tbody tr th {\n        vertical-align: top;\n    }\n\n    .dataframe thead th {\n        text-align: right;\n    }\n</style>\n<table border=\"1\" class=\"dataframe\">\n  <thead>\n    <tr style=\"text-align: right;\">\n      <th></th>\n      <th>title</th>\n      <th>artist</th>\n      <th>duration</th>\n    </tr>\n  </thead>\n  <tbody>\n    <tr>\n      <th>0</th>\n      <td>Hurt</td>\n      <td>Johnny Cash</td>\n      <td>218</td>\n    </tr>\n    <tr>\n      <th>1</th>\n      <td>Wake Me Up</td>\n      <td>Avicii</td>\n      <td>246</td>\n    </tr>\n    <tr>\n      <th>2</th>\n      <td>Love Story</td>\n      <td>Taylor Swift</td>\n      <td>233</td>\n    </tr>\n    <tr>\n      <th>3</th>\n      <td>You Belong with Me</td>\n      <td>Taylor Swift</td>\n      <td>231</td>\n    </tr>\n    <tr>\n      <th>4</th>\n      <td>Ring of Fire</td>\n      <td>Johnny Cash</td>\n      <td>156</td>\n    </tr>\n    <tr>\n      <th>...</th>\n      <td>...</td>\n      <td>...</td>\n      <td>...</td>\n    </tr>\n    <tr>\n      <th>170</th>\n      <td>I've Just Seen a Face</td>\n      <td>The Beatles</td>\n      <td>128</td>\n    </tr>\n    <tr>\n      <th>171</th>\n      <td>Hey Stephen (Taylor’s Version)</td>\n      <td>Taylor Swift</td>\n      <td>0</td>\n    </tr>\n    <tr>\n      <th>172</th>\n      <td>Starlight (Taylor's Version)</td>\n      <td>Taylor Swift</td>\n      <td>0</td>\n    </tr>\n    <tr>\n      <th>173</th>\n      <td>Daddy Lessons</td>\n      <td>Beyoncé</td>\n      <td>0</td>\n    </tr>\n    <tr>\n      <th>174</th>\n      <td>Back Down South</td>\n      <td>Kings of Leon</td>\n      <td>241</td>\n    </tr>\n  </tbody>\n</table>\n<p>175 rows × 3 columns</p>\n</div>"
     },
     "execution_count": 77,
     "metadata": {},
     "output_type": "execute_result"
    }
   ],
   "source": [
    "\n",
    "info = []\n",
    "for song in get_songs_artists_from_lastfm('country', 175):\n",
    "    info.append(song)\n",
    "info_df = pd.DataFrame(info)\n",
    "info_df\n",
    "\n",
    "#info_df['artist'].value_counts()"
   ],
   "metadata": {
    "collapsed": false,
    "ExecuteTime": {
     "end_time": "2024-05-09T11:22:25.754473200Z",
     "start_time": "2024-05-09T11:22:25.240689600Z"
    }
   },
   "id": "88ef090ee78253d8",
   "execution_count": 77
  },
  {
   "cell_type": "code",
   "outputs": [
    {
     "name": "stdout",
     "output_type": "stream",
     "text": [
      "['Stronger', 'Heartless', 'Clint Eastwood', 'Hey Ya!', 'Ms. Jackson', 'In Da Club', 'Without Me', 'The Real Slim Shady', 'It Was A Good Day', 'Best I Ever Had', 'See You Again (feat. Kali Uchis)', 'HUMBLE.', 'Flashing Lights', 'Gold Digger', 'All of the Lights', \"Can't Tell Me Nothing\", 'Still D.R.E.', 'Lose Yourself', 'Power', 'Money Trees', \"Gangsta's Paradise\", 'I Wonder', 'Earfquake', 'Bound 2', 'Starships', 'Stressed Out', 'Stan', 'Super Bass', 'Kiss Me More (feat. SZA)', 'Pump It', 'The Next Episode', 'Mockingbird', 'Alright', 'Lollipop', 'Sunflower - Spider-Man: Into the Spider-Verse', 'Father Stretch My Hands Pt. 1', 'Love The Way You Lie', \"Can't Hold Us (feat. Ray Dalton)\", 'All The Stars (with SZA)', 'Slow dancing in the dark', 'DNA.', 'Runaway', 'NEW MAGIC WAND', '7 rings', 'PRIDE.', 'Woman', 'Candy Shop', 'No Role Modelz', 'Hate it or love it', 'nights', 'Beautiful Girls', 'Dark Horse', 'Replay', 'Boom Boom Pow', 'The Way I Are', 'Love Lockdown', 'LOVE. FEAT. ZACARI.', \"Boy's a liar Pt. 2\", 'Heat Waves', 'Black Skinhead', 'Bitch, Don’t Kill My Vibe', 'Sabotage', 'Montero (Call Me By Your Name)', 'Thrift Shop (feat. Wanz)', 'Circles', 'Homecoming', 'Passionfruit', 'Not Afraid', 'All Falls Down', 'Meet Me Halfway', 'Dark Fantasy', 'King Kunta', 'Jesus Walks', '99 Problems', 'My Name Is', 'Forever', 'Through the Wire', 'Whatever You Like', 'Some', 'Chanel', '3005', \"God's Plan\", 'INDUSTRY BABY (feat. Jack Harlow)', 'Champion', 'Devil In A New Dress', 'XO TOUR Llif3', 'Ride', 'Need To Know', 'Needed Me', 'Crazy In Love (feat. Jay-Z)', 'BEST INTEREST', 'Soundtrack 2 My Life', 'Hotline Bling', 'Empire State Of Mind', 'Goosebumps', 'Pursuit of Happiness (Nightmare)', 'Ni**as In Paris', 'N.Y. State of Mind', 'Levitating (feat. DaBaby)', 'Say So', 'Low (feat. T-Pain)', 'Stay (with Justin Bieber)', \"Hold On, We're Going Home\", 'GONE, GONE / THANK YOU', 'Heartless', 'Streets', 'Heathens', 'Dilemma', \"Drop It Like It's Hot\", 'My Humps', 'Swimming Pools (Drank)', 'Backseat Freestyle', 'Sing for the Moment', 'Hot In Herre', 'Monster', 'Good Life', 'N95', 'wAp (fEAt. mEgAn thEe stAllIOn)', 'SICKO MODE', 'Poetic Justice', \"Creepin' (with The Weeknd & 21 Savage)\", 'Kiss Me Thru The Phone', 'Forgot About Dre', 'Killing Me Softly with His Song', 'You Right', 'rockstar (feat. 21 Savage)', 'Beauty and a Beat', 'I THINK', 'Juicy', 'Sky', 'Wet Dreamz', 'Lucid Dreams', 'Superman', 'Paint the Town Red', 'Magnolia', 'Violent Crimes', 'Jocelyn Flores', 'm.A.A.d city', 'Famous', 'The World Is Yours', 'Temperature', 'Touch The Sky', 'LOYALTY. FEAT. RIHANNA.', 'Bad Girls', 'Heartbeat', 'Good Morning', 'Family Ties (with Kendrick Lamar)', 'Work', 'P.I.M.P.', 'God is a Woman', 'Ghost Town', 'RUNNING OUT OF TIME', 'Hotel Room Service', 'Insane in the Brain', 'Over', 'Mask Off', 'Side To Side', \"U Can't Touch This\", 'Fancy', 'Sundress', 'The Way I Am', \"Day 'n' Nite (Nightmare)\", 'All Caps', 'Praise The Lord (Da Shine) (feat. Skepta)', 'Revenge', 'bury a friend', 'Butterfly', 'Everything I Am', 'United In Grief', 'Rapp Snitch Knishes feat. Mr. Fantastik', 'SAD!', 'No Diggity', 'Ride Wit Me', \"Ain't Shit\", 'A.D.H.D']\n",
      "                  0\n",
      "0          Stronger\n",
      "1         Heartless\n",
      "2    Clint Eastwood\n",
      "3           Hey Ya!\n",
      "4       Ms. Jackson\n",
      "..              ...\n",
      "170            SAD!\n",
      "171      No Diggity\n",
      "172     Ride Wit Me\n",
      "173      Ain't Shit\n",
      "174         A.D.H.D\n",
      "\n",
      "[175 rows x 1 columns]\n"
     ]
    }
   ],
   "source": [
    "get_songs_from_lastfm('rap',175)\n",
    "\n",
    "info = []\n",
    "for song in get_songs_from_lastfm('rap', 175):\n",
    "    info.append(song)\n",
    "print(info)\n",
    "\n",
    "info_df = pd.DataFrame(info)\n",
    "print(info_df)"
   ],
   "metadata": {
    "collapsed": false,
    "ExecuteTime": {
     "end_time": "2024-05-09T07:36:19.502725200Z",
     "start_time": "2024-05-09T07:36:18.397837700Z"
    }
   },
   "id": "b2519e82d1a3806c",
   "execution_count": 197
  },
  {
   "cell_type": "code",
   "outputs": [
    {
     "name": "stdout",
     "output_type": "stream",
     "text": [
      "['Stronger', 'Heartless', 'Clint Eastwood', 'Hey Ya!', 'Ms. Jackson', 'In Da Club', 'Without Me', 'The Real Slim Shady', 'It Was A Good Day', 'Best I Ever Had', 'See You Again (feat. Kali Uchis)', 'HUMBLE.', 'Flashing Lights', 'Gold Digger', 'All of the Lights', \"Can't Tell Me Nothing\", 'Still D.R.E.', 'Lose Yourself', 'Power', 'Money Trees', \"Gangsta's Paradise\", 'I Wonder', 'Earfquake', 'Bound 2', 'Starships', 'Stressed Out', 'Stan', 'Super Bass', 'Kiss Me More (feat. SZA)', 'Pump It', 'The Next Episode', 'Mockingbird', 'Alright', 'Lollipop', 'Sunflower - Spider-Man: Into the Spider-Verse', 'Father Stretch My Hands Pt. 1', 'Love The Way You Lie', \"Can't Hold Us (feat. Ray Dalton)\", 'All The Stars (with SZA)', 'Slow dancing in the dark', 'DNA.', 'Runaway', 'NEW MAGIC WAND', '7 rings', 'PRIDE.', 'Woman', 'Candy Shop', 'No Role Modelz', 'Hate it or love it', 'nights', 'Beautiful Girls', 'Dark Horse', 'Replay', 'Boom Boom Pow', 'The Way I Are', 'Love Lockdown', 'LOVE. FEAT. ZACARI.', \"Boy's a liar Pt. 2\", 'Heat Waves', 'Black Skinhead', 'Bitch, Don’t Kill My Vibe', 'Sabotage', 'Montero (Call Me By Your Name)', 'Thrift Shop (feat. Wanz)', 'Circles', 'Homecoming', 'Passionfruit', 'Not Afraid', 'All Falls Down', 'Meet Me Halfway', 'Dark Fantasy', 'King Kunta', 'Jesus Walks', '99 Problems', 'My Name Is', 'Forever', 'Through the Wire', 'Whatever You Like', 'Some', 'Chanel', '3005', \"God's Plan\", 'INDUSTRY BABY (feat. Jack Harlow)', 'Champion', 'Devil In A New Dress', 'XO TOUR Llif3', 'Ride', 'Need To Know', 'Needed Me', 'Crazy In Love (feat. Jay-Z)', 'BEST INTEREST', 'Soundtrack 2 My Life', 'Hotline Bling', 'Empire State Of Mind', 'Goosebumps', 'Pursuit of Happiness (Nightmare)', 'Ni**as In Paris', 'N.Y. State of Mind', 'Levitating (feat. DaBaby)', 'Say So', 'Low (feat. T-Pain)', 'Stay (with Justin Bieber)', \"Hold On, We're Going Home\", 'GONE, GONE / THANK YOU', 'Heartless', 'Streets', 'Heathens', 'Dilemma', \"Drop It Like It's Hot\", 'My Humps', 'Swimming Pools (Drank)', 'Backseat Freestyle', 'Sing for the Moment', 'Hot In Herre', 'Monster', 'Good Life', 'N95', 'wAp (fEAt. mEgAn thEe stAllIOn)', 'SICKO MODE', 'Poetic Justice', \"Creepin' (with The Weeknd & 21 Savage)\", 'Kiss Me Thru The Phone', 'Forgot About Dre', 'Killing Me Softly with His Song', 'You Right', 'rockstar (feat. 21 Savage)', 'Beauty and a Beat', 'I THINK', 'Juicy', 'Sky', 'Wet Dreamz', 'Lucid Dreams', 'Superman', 'Paint the Town Red', 'Magnolia', 'Violent Crimes', 'Jocelyn Flores', 'm.A.A.d city', 'Famous', 'The World Is Yours', 'Temperature', 'Touch The Sky', 'LOYALTY. FEAT. RIHANNA.', 'Bad Girls', 'Heartbeat', 'Good Morning', 'Family Ties (with Kendrick Lamar)', 'Work', 'P.I.M.P.', 'God is a Woman', 'Ghost Town', 'RUNNING OUT OF TIME', 'Hotel Room Service', 'Insane in the Brain', 'Over', 'Mask Off', 'Side To Side', \"U Can't Touch This\", 'Fancy', 'Sundress', 'The Way I Am', \"Day 'n' Nite (Nightmare)\", 'All Caps', 'Praise The Lord (Da Shine) (feat. Skepta)', 'Revenge', 'bury a friend', 'Butterfly', 'Everything I Am', 'United In Grief', 'Rapp Snitch Knishes feat. Mr. Fantastik', 'SAD!', 'No Diggity', 'Ride Wit Me', \"Ain't Shit\", 'A.D.H.D']\n",
      "175\n"
     ]
    }
   ],
   "source": [
    "top100rap = get_songs_from_lastfm('rap', '175')\n",
    "print(top100rap)\n",
    "print(len(top100rap))"
   ],
   "metadata": {
    "collapsed": false,
    "ExecuteTime": {
     "end_time": "2024-05-09T07:35:43.988396600Z",
     "start_time": "2024-05-09T07:35:43.419997800Z"
    }
   },
   "id": "eaee39e0d68d94b6",
   "execution_count": 193
  },
  {
   "cell_type": "code",
   "outputs": [
    {
     "name": "stdout",
     "output_type": "stream",
     "text": [
      "['Hurt', 'Wake Me Up', 'Love Story', 'You Belong with Me', 'Ring of Fire', 'Lover', 'Jolene', 'We Are Never Ever Getting Back Together', 'Motion Sickness', 'I Walk the Line', 'I Will Wait', 'Love Story (Taylor’s Version)', 'I Knew You Were Trouble.', 'FourFiveSeconds', 'willow', 'Nonsense', 'This Is the Life', 'The Climb', 'Enchanted', 'You Belong With Me (Taylor’s Version)', 'Hey Brother', 'Not Fair', 'Take Me Home, Country Roads', 'Perfect', \"All Too Well (10 Minute Version) (Taylor's Version) (From The Vault)\", 'Before He Cheats', '9 to 5', 'Mariners Apartment Complex', 'Our Song', '22', 'Folsom Prison Blues', 'Nobody Gets Me', 'Timber (feat. Ke$ha)', \"I Knew You Were Trouble (Taylor's Version)\", 'Back to December', 'Life Is a Highway', \"Lookin' Out My Back Door\", 'BETTY', 'Shallow', \"We Are Never Ever Getting Back Together (Taylor's Version)\", 'Angels Like You', 'Mine', \"22 (Taylor's Version)\", 'Need You Now', 'Old Town Road - Remix', \"Red (Taylor's Version)\", 'lacy', 'Jesus, Etc.', 'Harvest Moon', 'Mean', 'sWeeT CreAtUre', 'no body, no crime (feat. HAIM)', 'Nothing Breaks Like a Heart (feat. Miley Cyrus)', 'Picture to Burn', 'Castle On the Hill', 'Man! I Feel Like a Woman!', 'Malibu', 'The Way I Loved You (Taylor’s Version)', 'Need 2', 'Nothing New (feat. Phoebe Bridgers) (Taylor’s Version) (From The Vault)', \"All Too Well (Taylor's Version)\", 'right where you left me - bonus track', 'Better Than Revenge', \"Enchanted (Taylor's Version)\", 'Mr. Perfectly Fine (Taylor’s Version) (From The Vault)', 'Sparks Fly', 'Red', 'ivy', 'Old Town Road', \"TEXAS HOLD 'EM\", 'Galway Girl', 'Fearless (Taylor’s Version)', 'Lay Lady Lay', 'The Story of Us', 'If I Die Young', 'All Summer Long', 'money machine', 'Funeral', \"You're Still the One\", 'Personal Jesus', 'Take It Easy', 'cowboy like me', 'I Can See You (Taylor’s Version) (From The Vault)', 'dorothea', 'Million Reasons', 'Speak Now', 'The Man Comes Around', 'Cotton Eye Joe', \"Back To December (Taylor's Version)\", \"Mine (Taylor's Version)\", 'All I Wanna Do', 'New Year’s Day', 'All Too Well', \"Should've Said No\", 'Dear John', 'F2F', 'Tim McGraw', \"State of Grace (Taylor's Version)\", 'Happier', 'tWo ghOSTs']\n"
     ]
    }
   ],
   "source": [
    "top100country = get_songs_from_lastfm('country', 100)\n",
    "print(top100country)"
   ],
   "metadata": {
    "collapsed": false,
    "ExecuteTime": {
     "end_time": "2024-05-09T07:24:03.540996900Z",
     "start_time": "2024-05-09T07:24:03.033609900Z"
    }
   },
   "id": "b279cd5ee1e3dea8",
   "execution_count": 161
  },
  {
   "cell_type": "code",
   "outputs": [
    {
     "name": "stdout",
     "output_type": "stream",
     "text": [
      "['Feel Good Inc.', 'Yellow', 'Viva la Vida', 'Poker Face', 'The Scientist', 'Somebody Told Me', 'Kids', 'Wonderwall', 'Billie Jean', 'Pumped Up Kicks', 'Clocks', 'Heartless', 'Take on Me', 'Bad Romance', 'Rolling in the Deep', 'Fix You', 'Toxic', 'I Kissed a Girl', 'Somebody That I Used To Know', 'Just Dance', 'Clint Eastwood', 'Back to Black', 'Everybody Wants to Rule the World', 'Paparazzi', 'Chasing Cars', 'Umbrella', 'Losing My Religion', 'Dog Days Are Over', 'Hey Ya!', 'Summertime Sadness', 'Paper Planes', 'Somewhere Only We Know', 'The Less I Know the Better', 'Every Breath You Take', \"I'm Yours\", 'Hot n Cold', 'I Gotta Feeling', 'This Love', \"Friday I'm in Love\", 'Dancing Queen', 'Ms. Jackson', 'Beat It', 'Crazy', \"Boys Don't Cry\", 'Video Games', 'Blinding Lights', 'Someone Like You', 'All I Want for Christmas Is You', 'Just Like Heaven', 'DARE', 'Rehab', \"Don't Stop the Music\", 'Island in the Sun', 'Royals', 'Africa', 'How to Save a Life', 'Thriller', 'Take Me to Church', 'Call Me Maybe', 'Last Friday Night (T.G.I.F.)', 'Locked Out of Heaven', 'Pink + White', 'Sparks', 'Teenage Dream', 'Starboy', 'Set Fire to the Rain', 'The Middle', 'Party in the U.S.A.', 'Bitter Sweet Symphony', 'Halo', 'Born to Die', 'Firework', 'Linger', 'Hey There Delilah', 'Paradise', 'Promiscuous', 'Riptide', 'Walking on a Dream', 'Just the Way You Are', 'Only Girl (In the World)', \"You Know I'm No Good\", 'Enjoy the Silence', 'Last Christmas', 'Young and Beautiful', 'LoveGame', \"Don't Speak\", 'Tainted Love', \"Don't Panic\", 'Disturbia', 'Kill Bill', 'TiK ToK', 'On Melancholy Hill', 'Counting Stars', 'S&M', 'All of the Lights', 'The Reason', 'Complicated', 'Smile Like You Mean It', 'Maneater', 'She Will Be Loved']\n"
     ]
    },
    {
     "data": {
      "text/plain": "list"
     },
     "execution_count": 164,
     "metadata": {},
     "output_type": "execute_result"
    }
   ],
   "source": [
    "top100pop = get_songs_from_lastfm('pop', 100)\n",
    "print(top100pop)\n"
   ],
   "metadata": {
    "collapsed": false,
    "ExecuteTime": {
     "end_time": "2024-05-09T07:26:27.987594500Z",
     "start_time": "2024-05-09T07:26:27.480784200Z"
    }
   },
   "id": "3ae9e81ca8fcc10a",
   "execution_count": 164
  },
  {
   "cell_type": "markdown",
   "source": [
    "**Retrieving data from acclaimedmusic.net txt files**\n"
   ],
   "metadata": {
    "collapsed": false
   },
   "id": "c10cfe2ba32cfb3f"
  },
  {
   "cell_type": "code",
   "outputs": [
    {
     "data": {
      "text/plain": "['Bob Dylan - Like a Rolling Stone',\n 'Nirvana - Smells Like Teen Spirit',\n 'The Beatles - A Day In The Life - Remastered',\n 'Chuck Berry - Johnny B Goode',\n \"The Rolling Stones - (I Can't Get No) Satisfaction - Mono Version / Remastered 2002\",\n 'Elvis Presley - Heartbreak Hotel',\n 'Bruce Springsteen - Born to Run',\n 'The Who - My Generation - Original Mono Version',\n 'Joy Division - Love Will Tear Us Apart',\n 'Sex Pistols - Anarchy In The UK - Remastered 2012',\n 'The Clash - London Calling',\n 'The Rolling Stones - Sympathy For The Devil',\n 'Little Richard - Tutti Frutti',\n 'Led Zeppelin - Stairway To Heaven',\n 'David Bowie - Heroes - 1999 Remaster',\n 'Prince - When Doves Cry',\n 'Pulp - Common People',\n 'The Rolling Stones - Gimme Shelter',\n 'The Kinks - You Really Got Me',\n 'The White Stripes - Seven Nation Army',\n 'R.E.M. - Losing My Religion',\n 'Sex Pistols - God Save The Queen',\n 'Queen - Bohemian Rhapsody - Remastered 2011',\n 'New Order - Blue Monday',\n 'Jimi Hendrix - Purple Haze',\n 'The Kingsmen - Louie Louie',\n 'The Beatles - Hey Jude - Remastered',\n 'The Kinks - Waterloo Sunset - Stereo',\n 'Franz Ferdinand - Take Me Out',\n \"Buddy Holly & The Crickets - That'll Be the Day\",\n 'The Doors - Light My Fire',\n 'The Smiths - There Is a Light That Never Goes Out - 2011 Remaster',\n 'The Byrds - Mr. Tambourine Man',\n 'The Verve - Bitter Sweet Symphony',\n \"Bill Haley & His Comets - (We're Gonna) Rock Around The Clock\",\n 'Derek & The Dominos - Layla - 40th Anniversary Version / 2010 Remastered',\n 'Beck - Loser',\n 'Talking Heads - Once in a Lifetime - 2005 Remaster',\n 'Radiohead - Paranoid Android',\n 'Led Zeppelin - Whole Lotta Love - Remaster',\n 'The Animals - House of the Rising Sun',\n 'Lou Reed - Walk on the Wild Side',\n 'Eagles - Hotel California',\n 'JAY-Z - 99 Problems',\n \"The Rolling Stones - Jumpin' Jack Flash\",\n 'LCD Soundsystem - All My Friends',\n 'Ramones - Blitzkrieg Bop - 2001 Remaster',\n 'Elvis Presley - Hound Dog',\n 'The Beatles - I Want To Hold Your Hand - Remastered',\n 'Jimi Hendrix - All Along the Watchtower',\n 'The Smiths - How Soon Is Now? - 2011 Remaster',\n \"Guns N' Roses - Sweet Child O' Mine\",\n \"Buffalo Springfield - For What It's Worth\",\n 'The Band - The Weight - Remastered',\n 'Elvis Presley - Suspicious Minds',\n 'David Bowie - Life On Mars? - 1999 Remastered Version',\n \"Elvis Presley - That's All Right Mama\",\n 'Oasis - Wonderwall',\n 'The Velvet Underground - Heroin',\n \"Jerry Lee Lewis - Whole Lotta Shakin' Goin' On\",\n 'Bruce Springsteen - Thunder Road',\n 'U2 - One',\n \"The Velvet Underground - I'm Waiting For The Man - Album Version (Stereo)\",\n 'Eddie Cochran - Summertime Blues',\n 'The Smiths - This Charming Man - 2011 Remaster',\n 'Carl Perkins - Blue Suede Shoes',\n 'The Rolling Stones - Paint It Black',\n 'Simon & Garfunkel - The Sound of Silence - Electric Version',\n 'Creedence Clearwater Revival - Fortunate Son',\n 'Creedence Clearwater Revival - Proud Mary',\n 'The Police - Every Breath You Take - Remastered 2003',\n 'Chuck Berry - Maybellene - Single Version',\n 'LCD Soundsystem - Losing My Edge',\n 'The Byrds - Eight Miles High',\n 'Jerry Lee Lewis - Great Balls Of Fire',\n 'Yeah Yeah Yeahs - Maps',\n 'The Beatles - She Loves You - Remastered',\n 'Bob Dylan - Tangled up in Blue',\n 'Rod Stewart - Maggie May',\n 'Radiohead - Creep',\n 'Gene Vincent & His Blue Caps - Be-Bop-A-Lula',\n 'Black Sabbath - Paranoid',\n 'Blondie - Heart Of Glass [24-Bit Digitally Remastered 01]',\n 'Led Zeppelin - Kashmir - 1990 Remaster',\n 'Run–D.M.C. - Walk This Way (feat. Aerosmith)',\n 'Television - Marquee Moon - 2003 Remaster',\n 'Oasis - Live Forever',\n 'MGMT - Time to Pretend',\n 'The Rolling Stones - Brown Sugar',\n 'The Beatles - Tomorrow Never Knows - Remastered',\n 'Roy Orbison - Oh, Pretty Woman',\n 'Elvis Presley - Jailhouse Rock',\n 'Arctic Monkeys - I Bet You Look Good On The Dancefloor',\n 'Blur - Song 2 - 2012 Remaster',\n 'Prince - Purple Rain',\n 'Bruce Springsteen - Born In The U.S.A.',\n 'Buddy Holly - Peggy Sue - Single Version',\n 'Jefferson Airplane - White Rabbit',\n 'U2 - Sunday Bloody Sunday',\n 'Talking Heads - Psycho Killer - 2005 Remaster',\n 'Soft Cell - Tainted Love',\n 'Prince - Little Red Corvette',\n 'The Rolling Stones - Honky Tonk Women - Mono Version',\n 'Mitski - Your Best American Girl',\n 'Animal Collective - My Girls',\n 'T. Rex - Get It On',\n \"The La's - There She Goes\",\n 'The Beatles - Help! - Remastered',\n 'The Rapture - House Of Jealous Lovers',\n 'The Strokes - Last Nite',\n \"The Who - Won't Get Fooled Again - Original Album Version\",\n 'The Beatles - In My Life - Remastered',\n 'The Undertones - Teenage Kicks',\n 'Johnny Cash - I Walk The Line - Single Version',\n 'Van Morrison - Brown Eyed Girl',\n 'Bo Diddley - Bo Diddley',\n 'Bob Dylan - Subterranean Homesick Blues',\n 'The Killers - Mr. Brightside',\n 'Roxy Music - Virginia Plain',\n 'Del Shannon - Runaway',\n \"The Who - Baba O'Riley\",\n 'Fleetwood Mac - Go Your Own Way',\n 'The Clash - (White Man) In Hammersmith Palais',\n \"Blue Öyster Cult - (Don't Fear) The Reaper\",\n 'Deep Purple - Smoke On the Water',\n 'Jonathan Richman & The Modern Lovers - Roadrunner (Twice)',\n 'David Bowie - Changes - 1999 Remastered Version',\n 'The Beatles - Let It Be - Remastered',\n \"Elvis Presley - Don't Be Cruel\",\n 'Them - Gloria (feat. Van Morrison) - Mono Version',\n 'The Stooges - I Wanna Be Your Dog',\n 'The Smashing Pumpkins - 1979',\n 'The Troggs - Wild Thing',\n 'David Bowie - Ziggy Stardust - 2012 Remastered Version',\n 'Cream - Sunshine Of Your Love',\n 'The Stooges - Search and Destroy [2023 Remaster] - Iggy Mix',\n 'The Beatles - While My Guitar Gently Weeps - Remastered',\n \"Buzzcocks - Ever Fallen in Love (With Someone You Shouldn't've?) - 1996 Remastered Version\",\n 'U2 - With Or Without You - Remastered',\n 'Elvis Presley - Mystery Train',\n 'Ritchie Valens - La Bamba',\n 'LCD Soundsystem - Dance Yrself Clean',\n 'Arcade Fire - Rebellion (Lies)',\n \"The Beach Boys - Don't Worry Baby (Mono)\",\n 'Pixies - Debaser',\n 'The Velvet Underground - Sweet Jane',\n 'Michael Jackson - Beat It',\n 'Pink Floyd - Wish You Were Here - 2011 Remastered Version',\n 'Beastie Boys - Sabotage - 2009 Digital Remaster',\n 'Love - Alone Again Or',\n 'Hot Chip - Over And Over',\n 'Mott The Hoople - All the Young Dudes',\n 'Thin Lizzy - The Boys Are Back In Town',\n 'MC5 - Kick Out the Jams',\n 'Pink Floyd - See Emily Play - 2001 Remastered Version',\n 'Blur - Girls & Boys - 2012 Remaster',\n 'The Breeders - Cannonball',\n 'The Beatles - Something - Remastered',\n 'AC/DC - Highway To Hell',\n 'Steppenwolf - Born To Be Wild',\n 'Pretenders - Brass in Pocket',\n 'Big Joe Turner - Shake, Rattle and Roll',\n 'The Everly Brothers - Bye Bye Love',\n \"Alice Cooper - School's Out\",\n 'The White Stripes - Fell In Love With a Girl',\n 'Metallica - Enter Sandman',\n 'Pixies - Where Is My Mind?',\n '? & The Mysterians - 96 Tears',\n 'R.E.M. - Radio Free Europe',\n 'Motörhead - Ace Of Spades',\n 'Sonic Youth - Teen Age Riot',\n 'Arcade Fire - Wake Up',\n 'Link Wray - Rumble',\n \"The Spencer Davis Group - Gimme Some Lovin' - Single Mix\",\n 'Patti Smith - Gloria: In Excelsis Deo',\n 'AC/DC - Back In Black',\n 'The Rolling Stones - Tumbling Dice',\n \"The Lovin' Spoonful - Summer in the City - Remastered\",\n 'Rage Against The Machine - Killing In The Name',\n 'The Cure - Just Like Heaven',\n 'Lynyrd Skynyrd - Sweet Home Alabama',\n \"The Who - I Can't Explain - Original Mono Version\",\n 'Modest Mouse - Float On',\n \"The Rolling Stones - You Can't Always Get What You Want\",\n 'Lynyrd Skynyrd - Free Bird',\n 'Iggy Pop - Lust For Life',\n 'Neil Young - Heart of Gold',\n 'David Bowie - Ashes to Ashes',\n 'The Who - I Can See For Miles - Mono Version',\n 'The Beach Boys - I Get Around (Mono)',\n 'Boston - More Than a Feeling',\n 'The Beatles - I Am The Walrus - Remastered',\n 'Red Hot Chili Peppers - Under the Bridge',\n 'The Kinks - Lola',\n 'The Flaming Lips - Do You Realize??',\n 'Jimi Hendrix - Hey Joe',\n \"R.E.M. - It's The End Of The World As We Know It (And I Feel Fine)\",\n 'Led Zeppelin - Dazed and Confused - 1990 Remaster',\n 'Beastie Boys - Fight For Your Right',\n 'The Beatles - Ticket To Ride - Remastered',\n 'Dire Straits - Sultans Of Swing',\n 'The Stone Roses - Fools Gold - Remastered 2009',\n 'Jackie Brenston & His Delta Cats - Rocket 88 - Single Version',\n 'Chuck Berry - Roll Over Beethoven',\n 'John Lennon - Instant Karma! (We All Shine On) - Remastered 2010',\n 'Alanis Morissette - You Oughta Know',\n 'Don McLean - American Pie',\n 'Radiohead - Fake Plastic Trees',\n 'Queens of the Stone Age - No One Knows',\n 'Pixies - Monkey Gone to Heaven',\n 'Jefferson Airplane - Somebody to Love',\n \"Guns N' Roses - Welcome To The Jungle\",\n 'Primal Scream - Loaded',\n 'The Jam - Going Underground',\n 'Little Richard - Long Tall Sally',\n 'The Beatles - Come Together - Remastered',\n 'Crosby, Stills, Nash & Young - Ohio',\n 'Kelly Clarkson - Since U Been Gone',\n 'Violent Femmes - Blister in the Sun - 2002 Remastered Version',\n 'Van Halen - Jump',\n 'Richard Hell - Blank Generation',\n 'The Rolling Stones - Wild Horses',\n \"The Monkees - I'm a Believer\",\n 'Pink Floyd - Another Brick In The Wall, Pt. 2 - 2011 Remastered Version',\n 'The Police - Roxanne - Remastered 2003',\n 'Echo & the Bunnymen - The Killing Moon',\n 'Queen - Under Pressure',\n 'U2 - Pride (In The Name Of Love) - Remastered 2009',\n 'TV On The Radio - Wolf Like Me',\n 'The Jesus and Mary Chain - Just Like Honey',\n 'New Order - Bizarre Love Triangle',\n 'Creedence Clearwater Revival - Bad Moon Rising',\n 'Courtney Barnett - Pedestrian at Best',\n 'The Doors - The End',\n 'The Only Ones - Another Girl, Another Planet - 2008 re-mastered version',\n 'Ramones - Sheena Is a Punk Rocker - 2009 Remaster',\n 'Jimi Hendrix - Voodoo Child (Slight Return)',\n 'Patti Smith - Because the Night',\n \"13th Floor Elevators - You're Gonna Miss Me (2008 Remastered Original Mono LP Version)\",\n 'Dexys Midnight Runners - Come On Eileen',\n 'George Harrison - My Sweet Lord - 2001 Digital Remaster',\n 'The Clash - Should I Stay or Should I Go',\n 'Arcade Fire - Reflektor',\n 'The Damned - New Rose',\n \"The Cure - Boys Don't Cry\",\n 'The Rolling Stones - Street Fighting Man',\n 'Joy Division - Transmission',\n 'Nirvana - All Apologies',\n \"The Beatles - A Hard Day's Night - Remastered\",\n 'Janis Joplin - Me and Bobby McGee',\n 'Dinosaur Jr. - Freak Scene',\n 'David Bowie - Starman - 2012 Remastered Version',\n 'The Box Tops - The Letter',\n \"Beck - Where It's At\",\n 'Nirvana - Come As You Are',\n 'R.E.M. - Everybody Hurts',\n 'The Walkmen - The Rat',\n 'James Taylor - Fire and Rain',\n 'David Bowie - Young Americans - 2007 Remaster',\n 'Big Star - September Gurls',\n \"The Jam - That's Entertainment\",\n \"Joan Jett & the Blackhearts - I Love Rock 'N Roll\",\n 'Elvis Costello - Alison',\n 'The Velvet Underground - Rock & Roll',\n 'PJ Harvey - Rid Of Me',\n 'Soundgarden - Black Hole Sun',\n 'Ariel Pink - Round And Round',\n 'Bob Dylan - Visions of Johanna',\n 'The Velvet Underground - Venus In Furs',\n 'The Isley Brothers - Shout, Pts. 1 & 2',\n 'The Clash - Rock the Casbah',\n 'Nine Inch Nails - Closer',\n 'David Bowie - Lazarus',\n 'Big Thief - Not',\n 'Led Zeppelin - Immigrant Song',\n 'Radiohead - Karma Police',\n 'Foo Fighters - Everlong',\n 'Chubby Checker - The Twist',\n 'Arctic Monkeys - Do I Wanna Know?',\n 'The Beatles - Revolution - Remastered',\n 'Little Richard - Good Golly Miss Molly',\n 'Bo Diddley - Who Do You Love - Single Version',\n 'The National - Bloodbuzz Ohio',\n 'Pink Floyd - Comfortably Numb - 2011 Remastered Version',\n 'Lou Reed - Perfect Day',\n 'Coldplay - Yellow',\n 'The Beatles - Helter Skelter - Remastered',\n 'Neil Young - Cortez The Killer',\n 'Fugazi - Waiting Room',\n \"Carole King - It's Too Late\",\n 'Phil Collins - In The Air Tonight',\n 'Angel Olsen - Shut Up Kiss Me',\n 'The Hives - Hate To Say I Told You So',\n 'The Doors - Riders on the Storm',\n 'The Everly Brothers - Wake up Little Susie - Single Version; 2006 Remaster',\n 'David Bowie - Blackstar',\n 'R.E.M. - The One I Love',\n 'The Band - The Night They Drove Old Dixie Down - Remastered 2000',\n 'Pavement - Cut Your Hair',\n 'Pearl Jam - Jeremy',\n \"U2 - I Still Haven't Found What I'm Looking For - Remastered 2007\",\n 'Fleetwood Mac - Dreams',\n \"Creedence Clearwater Revival - Who'll Stop The Rain\",\n 'Aerosmith - Walk This Way',\n 'The Easybeats - Friday On My Mind',\n 'Bruce Springsteen - The River',\n 'B.B. King - The Thrill Is Gone',\n 'a-ha - Take on Me',\n 'Iggy Pop - The Passenger',\n \"The Lovin' Spoonful - Do You Believe in Magic?\",\n 'The Pogues - Fairytale of New York (feat. Kirsty MacColl)',\n 'The Police - Message In A Bottle',\n 'Simon & Garfunkel - The Boxer',\n 'Mazzy Star - Fade Into You',\n 'Depeche Mode - Personal Jesus',\n 'Big Star - Thirteen',\n 'U2 - Where The Streets Have No Name - Remastered 2007',\n 'The Beatles - All You Need Is Love - Remastered',\n 'The Coasters - Yakety Yak',\n 'The Bobby Fuller Four - I Fought the Law - Single Version',\n 'Roxy Music - Love Is The Drug',\n 'Japandroids - The House That Heaven Built',\n 'Cornershop - Brimful of Asha',\n 'Free - All Right Now',\n 'The Beatles - Paperback Writer - Remastered',\n 'Gossip - Standing In The Way Of Control',\n \"Neil Young - Rockin' in the Free World\",\n \"David Bowie - Let's Dance - 1999 Remaster\",\n 'AC/DC - You Shook Me All Night Long',\n 'The Shadows - Apache',\n 'The Beatles - Happiness Is A Warm Gun - Remastered',\n 'The Strokes - Hard To Explain',\n 'David Bowie - Rebel Rebel - 1999 Remaster',\n 'Pink Floyd - Shine On You Crazy Diamond, Pts. 1-5 - 2011 Remastered Version',\n 'Roxy Music - More Than This',\n 'Jeff Buckley - Hallelujah',\n 'Janis Joplin - Piece of My Heart',\n 'Paul McCartney - Maybe I’m Amazed - Remastered 2011',\n 'New Order - True Faith - 2015 Remaster',\n 'Vampire Weekend - A-Punk',\n 'The Buggles - Video Killed The Radio Star',\n 'Aerosmith - Dream On',\n 'King Crimson - 21st Century Schizoid Man',\n 'The Rolling Stones - Miss You - Remastered',\n 'Bob Dylan - Positively 4th Street - Single Version',\n 'The Beatles - Here Comes The Sun - Remastered',\n 'Jeff Buckley - Last Goodbye',\n 'Sex Pistols - Pretty Vacant',\n 'Magazine - Shot By Both Sides - Remastered',\n \"Bob Dylan - Knockin' On Heaven's Door\",\n 'Cliff Richard & The Drifters - Move It - 2000 Remaster',\n 'Bob Dylan - Just Like a Woman',\n 'Don Henley - The Boys Of Summer',\n \"Sparks - This Town Ain't Big Enough For Both Of Us\",\n 'Pearl Jam - Alive',\n 'New York Dolls - Personality Crisis',\n 'Ramones - I Wanna Be Sedated - Remastered',\n \"U2 - New Year's Day\",\n 'Nirvana - Heart-Shaped Box',\n 'The 1975 - Love It If We Made It',\n 'The Byrds - Turn! Turn! Turn! (To Everything There Is a Season)',\n 'Public Image Ltd. - Public Image',\n \"The B-52's - Rock Lobster\",\n 'Cheap Trick - Surrender',\n 'Tame Impala - Feels Like We Only Go Backwards',\n 'Dion & The Belmonts - Runaround Sue',\n \"The Rolling Stones - Let's Spend The Night Together - Stereo Version\",\n \"Bo Diddley - I'm A Man - Single Version\",\n \"Bon Jovi - Livin' On A Prayer\",\n 'Gang Of Four - Damaged Goods',\n 'Nirvana - Lithium',\n 'Weezer - Buddy Holly',\n 'Neil Young - Hey Hey, My My (Into The Black)',\n 'Bob Dylan - Hurricane',\n \"Oasis - Don't Look Back In Anger\",\n \"The Libertines - Can't Stand Me Now\",\n 'Battles - Atlas',\n 'Crosby, Stills & Nash - Suite: Judy Blue Eyes - 2005 Remaster',\n 'The Who - Substitute - Single Version',\n 'The Sugarcubes - Birthday',\n 'Bloc Party - Banquet',\n 'Gary Numan - Cars - Remastered 2009',\n 'The Clash - Complete Control',\n 'John Lennon - Jealous Guy - Remastered 2010',\n 'The Flaming Lips - Race For The Prize',\n 'The Beatles - Lucy In The Sky With Diamonds - Remastered',\n 'Coldplay - Clocks',\n 'The Rolling Stones - Angie - Remastered 2009',\n 'Bob Seger - Night Moves',\n 'Ian Dury - Sex & Drugs & Rock & Roll',\n 'Black Sabbath - Iron Man',\n 'Sam The Sham & The Pharaohs - Wooly Bully',\n 'Tom Petty and the Heartbreakers - American Girl',\n 'Pink Floyd - Money - 2011 Remastered Version',\n 'Jimi Hendrix - Little Wing',\n 'Pavement - Summer Babe (Winter Version)',\n 'XTC - Making Plans For Nigel',\n \"The Beach Boys - Surfin' Usa\",\n 'Simon & Garfunkel - America - Single Mix',\n 'The Knack - My Sharona',\n 'Elvis Costello - Watching The Detectives',\n \"Tom Petty - Free Fallin'\",\n 'Nick Cave & The Bad Seeds - The Mercy Seat - 2010 Digital Remaster',\n 'Radiohead - Pyramid Song',\n 'Dead Kennedys - Holiday In Cambodia',\n 'Peter Gabriel - Solsbury Hill',\n 'Elton John - Goodbye Yellow Brick Road',\n 'Tom Tom Club - Genius Of Love',\n 'Bob Dylan - Ballad of a Thin Man',\n '!!! - Me and Guiliani Down by the School Yard - A True Story',\n \"Elvis Costello & The Attractions - Oliver's Army\",\n 'Simon & Garfunkel - Mrs. Robinson',\n 'Metallica - Master Of Puppets',\n 'Count Five - Psychotic Reaction',\n 'Red Hot Chili Peppers - Give It Away',\n 'Elton John - Tiny Dancer',\n 'David Bowie - Sound and Vision - 1999 Remaster',\n 'U2 - Beautiful Day',\n 'ZZ Top - La Grange - 2005 Remaster',\n 'The Cure - A Forest',\n 'The Cure - Close To Me',\n 'my bloody valentine - Soon',\n \"The Zombies - She's Not There\",\n 'Bruce Springsteen - Dancing In The Dark',\n 'The Beach Boys - California Girls - Remix/Remastered 2001',\n \"Weezer - Say It Ain't So\",\n 'Green Day - American Idiot',\n 'Neil Young - After the Gold Rush',\n 'Blondie - Call Me',\n \"Carly Simon - You're So Vain\",\n 'Gorillaz - Feel Good Inc.',\n 'Bauhaus - Bela Lugosi’s Dead',\n 'Oasis - Champagne Supernova',\n 'Nirvana - About A Girl - Remastered',\n 'Kings of Leon - Sex on Fire',\n 'Green Day - Basket Case',\n 'The Clash - Train in Vain',\n 'Pavement - Gold Soundz',\n 'Mitski - Nobody',\n 'Peter Gabriel - Sledgehammer',\n \"Crowded House - Don't Dream It's Over\",\n 'Queen - We Will Rock You',\n 'Billy Joel - Piano Man',\n \"The Ventures - Walk, Don't Run\",\n 'New Radicals - You Get What You Give',\n 'my bloody valentine - Only Shallow',\n 'my bloody valentine - You Made Me Realise - Remastered Version',\n 'Tears For Fears - Everybody Wants To Rule The World',\n \"Mudhoney - Touch Me I'm Sick\",\n 'The Beatles - I Saw Her Standing There - Remastered',\n 'Fairport Convention - Who Knows Where The Time Goes?',\n 'Joy Division - Atmosphere',\n 'Led Zeppelin - Rock And Roll',\n 'The Doors - L.A. Woman - Remaster',\n 'David Bowie - Fame - 2007 Remaster',\n 'The War On Drugs - Red Eyes',\n 'The Black Keys - Lonely Boy',\n 'Oasis - Supersonic',\n 'Paul McCartney - Band On The Run - Remastered 2010',\n 'Coldplay - The Scientist',\n 'Little Richard - Lucille',\n 'Bruce Springsteen - Jungleland',\n 'Grateful Dead - Dark Star - Single Version',\n 'The Clash - White Riot',\n \"Gary Numan - Are 'Friends' Electric?\",\n 'Queen - We Are The Champions - Remastered 2011',\n 'DEVO - Whip It',\n \"Guns N' Roses - Paradise City\",\n 'Pink Floyd - Astronomy Domine - 2011 Remastered Version',\n 'The Rolling Stones - Ruby Tuesday - Stereo Version',\n \"Panda Bear - Bro's\",\n 'The Rolling Stones - Start Me Up - Remastered',\n 'Blur - Out of Time',\n 'PJ Harvey - Down By The Water',\n 'Suede - Animal Nitrate (Remastered)',\n 'Culture Club - Do You Really Want To Hurt Me',\n 'Jethro Tull - Aqualung',\n 'Led Zeppelin - When The Levee Breaks',\n 'Happy Mondays - Step On',\n 'The Zombies - Time of the Season',\n 'Nine Inch Nails - Hurt',\n 'Creedence Clearwater Revival - Have You Ever Seen The Rain?',\n 'The Stone Roses - I Wanna Be Adored - Remastered 2009',\n 'Billy Bragg - A New England',\n 'David Bowie - The Man Who Sold The World - 1999 Remastered Version',\n 'The Jam - Down In The Tube Station At Midnight - Full Version',\n 'Black Sabbath - War Pigs',\n \"Journey - Don't Stop Believin'\",\n \"Elton John - Rocket Man (I Think It's Going To Be A Long Long Time)\",\n 'Bruce Springsteen - Rosalita (Come out Tonight)',\n 'TV On The Radio - Staring At The Sun',\n \"Eddie Cochran - C'mon Everybody\",\n 'Yeah Yeah Yeahs - Zero',\n 'Klaxons - Golden Skans',\n 'The Rolling Stones - Under My Thumb',\n 'Blondie - Atomic - Remastered/2001',\n 'The Beatles - Golden Slumbers - Remastered',\n 'Green Day - Good Riddance (Time of Your Life)',\n 'Suzanne Vega - Luka',\n 'Robert Wyatt - Sea Song',\n 'Cream - White Room',\n 'The Yardbirds - For Your Love',\n 'Faces - Stay with Me - 2008 Remaster',\n 'The Beatles - Please Please Me - Remastered',\n \"Daryl Hall & John Oates - She's Gone\",\n 'The Beatles - Rain - Remastered',\n 'KISS - Rock And Roll All Nite',\n 'Car Seat Headrest - Drunk Drivers/Killer Whales',\n 'The Who - Pinball Wizard - Original Album Version',\n 'Talking Heads - Burning Down the House - 2005 Remaster',\n \"The Young Rascals - Good Lovin' - Single Version\",\n 'Siouxsie and the Banshees - Hong Kong Garden',\n 'T. Rex - 20th Century Boy',\n 'Radiohead - No Surprises',\n 'Neil Young - Like a Hurricane',\n \"Allman Brothers Band - Ramblin' Man\",\n 'Lloyd Price - Lawdy Miss Clawdy - Single Version',\n 'Pixies - Gigantic',\n 'Various Artists - Itchycoo Park',\n 'New Order - Temptation [7\" Version]',\n 'Wings - Live and Let Die',\n 'Bob Dylan - All Along the Watchtower',\n 'The Crickets - Not Fade Away',\n 'Danny & The Juniors - At The Hop',\n 'Allman Brothers Band - Whipping Post',\n 'The Cars - Just What I Needed',\n 'The Rolling Stones - Get Off Of My Cloud - Mono Version / Remastered 2002',\n 'Queen - Killer Queen - Remastered 2011',\n 'Joy Division - She\\'s Lost Control - 12\" Single Version',\n \"Steely Dan - Reelin' In The Years\",\n 'Beck - Devils Haircut',\n 'Santana - Black Magic Woman / Gypsy Queen',\n 'Edwyn Collins - A Girl Like You',\n 'Chuck Berry - Sweet Little Sixteen',\n 'Chris Isaak - Wicked Game',\n \"Van Halen - Runnin' With The Devil\",\n 'The Velvet Underground - Sister Ray',\n 'The Replacements - I Will Dare',\n \"Simple Minds - Don't You (Forget About Me)\",\n 'New Order - Regret',\n 'Wilbert Harrison - Kansas City',\n 'The Kinks - Sunny Afternoon',\n 'Jimi Hendrix - Crosstown Traffic',\n 'Bikini Kill - Rebel Girl',\n 'Snail Mail - Pristine',\n 'The Surfaris - Wipe Out',\n 'Elastica - Connection',\n 'Foreigner - I Want to Know What Love Is - 1999 Remaster',\n 'Arcade Fire - The Suburbs',\n 'King Krule - Dum Surfer',\n 'Madness - Our House (Remastered)',\n 'The Doobie Brothers - What a Fool Believes',\n 'Eels - Novocaine For The Soul',\n 'Beach House - Myth',\n 'Neil Young - Down by the River - 2009 Remaster',\n 'Suicide - Frankie Teardrop',\n \"Guns N' Roses - November Rain\",\n 'Led Zeppelin - Black Dog',\n 'Elvis Presley - All Shook Up',\n 'Iron Butterfly - In-A-Gadda-Da-Vida - 2006 Remaster Full-Length',\n 'The Beta Band - Dry The Rain',\n 'The Moody Blues - The Night',\n 'The Chemical Brothers - Setting Sun',\n 'Black Flag - Rise Above',\n \"Bruce Springsteen - I'm On Fire\",\n 'Jeff Buckley - Grace',\n 'The Jam - The Eton Rifles',\n \"Flamin' Groovies - Shake Some Action\",\n \"The Trashmen - Surfin' Bird\",\n \"The Go-Go's - Our Lips Are Sealed - 2011 Remaster\",\n 'The Smashing Pumpkins - Tonight, Tonight',\n 'Warren Zevon - Werewolves of London',\n 'Mitch Ryder and The Detroit Wheels - Devil with a Blue Dress On / Good Golly Miss Molly (Medley)',\n 'Jimi Hendrix - The Wind Cries Mary',\n 'Arcade Fire - Neighborhood #1 (Tunnels)',\n 'Sonic Youth - Kool Thing',\n 'Manic Street Preachers - Motorcycle Emptiness - Remastered',\n 'The Beatles - We Can Work It Out - Remastered',\n 'Lou Reed - Satellite of Love',\n 'Eagles - Desperado',\n 'The Beatles - Day Tripper - Remastered',\n 'Lana Del Rey - The greatest',\n \"Bachman-Turner Overdrive - You Ain't Seen Nothing Yet\",\n 'Neutral Milk Hotel - Holland, 1945',\n 'Manic Street Preachers - A Design for Life',\n 'The Beatles - Get Back - Remastered 2015',\n 'Elvis Costello & The Attractions - Radio, Radio',\n \"The Killers - All These Things That I've Done\",\n 'David Bowie - Station to Station',\n 'Dion - The Wanderer',\n 'David Bowie - Modern Love - 1999 Remaster',\n 'Elton John - Bennie And The Jets - Remastered 2014',\n 'Electric Light Orchestra - Mr. Blue Sky',\n \"The B-52's - Love Shack\",\n 'Queens of the Stone Age - Feel Good Hit Of The Summer',\n 'Band of Horses - The Funeral',\n 'HAIM - The Wire',\n 'The Jam - Town Called Malice',\n \"The Cure - Friday I'm In Love\",\n 'The Animals - We Gotta Get Out Of This Place - UK Single Version',\n 'Wire - Outdoor Miner - 2006 Remastered Version',\n 'INXS - Need You Tonight',\n 'Taylor Swift - All Too Well',\n 'The Velvet Underground - Pale Blue Eyes',\n 'Liz Phair - Fuck And Run',\n \"Carole King - You've Got a Friend\",\n 'The Band - Up On Cripple Creek - Remastered 2000',\n \"The Beatles - Can't Buy Me Love - Remastered\",\n 'Chuck Berry - Rock And Roll Music - 1958 Single Version',\n 'Donovan - Season of the Witch',\n \"Johnny Burnette - The Train Kept A-Rollin'\",\n 'The Psychedelic Furs - Pretty in Pink - Remastered Album Version',\n 'U2 - I Will Follow',\n 'At the Drive-In - One Armed Scissor',\n 'Fine Young Cannibals - She Drives Me Crazy',\n 'Paul Simon - Graceland',\n 'Fleetwood Mac - The Chain',\n 'The Smiths - Bigmouth Strikes Again - 2011 Remaster',\n \"Bryan Adams - Summer Of '69\",\n 'The War On Drugs - Under The Pressure',\n 'Fiona Apple - Criminal',\n 'The Jam - In The City',\n 'Sex Pistols - Holidays In The Sun',\n 'Aerosmith - Sweet Emotion',\n 'David Bowie - Golden Years - 1999 Remaster',\n \"Cloud Nothings - I'm Not Part Of Me\",\n 'Dexys Midnight Runners - Geno - 2000 Remaster',\n 'Prince - Raspberry Beret',\n 'Neil Young - Cinnamon Girl - 2009 Remaster',\n \"Little - Willin'\",\n 'The Rolling Stones - Beast Of Burden - Remastered',\n 'Radiohead - There, There',\n 'Joe Cocker - With a Little Help from My Friends',\n \"The Smiths - Heaven Knows I'm Miserable Now - 2011 Remaster\",\n 'Suicide - Ghost Rider',\n 'The Smashing Pumpkins - Bullet With Butterfly Wings - Remastered 2012',\n 'The Guess Who - American Woman',\n 'Pulp - This Is Hardcore - Original Version',\n 'Green Day - Longview',\n 'Fleetwood Mac - Oh Well (Pt. 1) - 2013 Remaster',\n 'X-Ray Spex - Oh Bondage, Up Yours!',\n 'Queen - Another One Bites The Dust - Remastered 2011',\n 'The Rolling Stones - 19th Nervous Breakdown',\n 'Morrissey - First Of The Gang To Die - Remastered',\n 'R.E.M. - Fall On Me - 2011 Remaster',\n 'R.E.M. - Man On The Moon',\n \"The Young Rascals - Groovin'\",\n 'The Horrors - Sea Within A Sea',\n 'Pink Floyd - Arnold Layne - 2001 Remastered Version',\n 'The Cure - Pictures Of You - Remastered',\n 'The Who - The Kids Are Alright - Shel Talmy Stereo Version',\n 'The Beatles - With A Little Help From My Friends - Remastered',\n 'The Searchers - Needles And Pins',\n 'The Libertines - Time For Heroes',\n 'Bob Dylan - Mississippi',\n 'Slayer - Angel Of Death',\n 'The Strokes - Someday',\n 'Talking Heads - Life During Wartime - 2005 Remaster',\n \"Johnny Kidd & The Pirates - Shakin' All Over\",\n 'The Smashing Pumpkins - Today - 2011 Remaster',\n 'New Order - Ceremony - 2011 Total Version',\n 'Thunderclap Newman - Something in the Air',\n 'Van Morrison - Into The Mystic',\n 'The Smiths - Panic (2008 Remastered Version)',\n 'Interpol - Obstacle 1',\n 'Bruce Springsteen - Streets of Philadelphia',\n 'David Bowie - Suffragette City - 2012 Remastered Version',\n \"The Saints - I'm Stranded\",\n 'Metallica - One',\n 'Bob Dylan - Sad-Eyed Lady of the Lowlands',\n 'Midnight Oil - Beds Are Burning',\n 'The Electric Prunes - I Had Too Much to Dream (Last Night)',\n 'Hot Chip - Ready For The Floor',\n 'Buddy Holly - Rave On',\n 'Duane Eddy - Rebel Rouser',\n 'The Stone Roses - I Am the Resurrection - Remastered 2009',\n 'Roxy Music - Do The Strand',\n 'The Rolling Stones - Happy',\n 'The Slits - Typical Girls',\n \"The Byrds - I'll Feel a Whole Lot Better\",\n 'The Doors - Break on Through (To the Other Side)',\n 'Fleetwood Mac - Rhiannon',\n 'Björk - Army Of Me',\n \"Mission Of Burma - That's When I Reach for My Revolver\",\n \"Jane's Addiction - Been Caught Stealing\",\n 'Tim Buckley - Song to the Siren',\n 'Franz Ferdinand - Do You Want To',\n \"No Doubt - Don't Speak\",\n 'Jimi Hendrix - Fire',\n 'Radiohead - Let Down',\n 'IDLES - Danny Nedelko',\n 'The Charlatans - The Only One I Know',\n 'Yo La Tengo - Autumn Sweater',\n 'The Stone Roses - She Bangs the Drums - Remastered 2009',\n 'Hole - Celebrity Skin',\n 'Norman Greenbaum - Spirit in the Sky',\n 'Cheap Trick - I Want You to Want Me - Live at Nippon Budokan, Tokyo, JPN - April 1978',\n 'Jimi Hendrix - Manic Depression',\n 'Peter Gabriel - In Your Eyes',\n 'The Offspring - Come Out and Play',\n \"Prince - Let's Go Crazy\",\n 'The Rolling Stones - Rocks Off',\n 'Slade - Cum On Feel The Noize',\n 'America - A Horse with No Name',\n 'Jackie Wilson - Reet Petite - The Finest Girl You Ever Want to Meet',\n 'Natalie Imbruglia - Torn',\n 'Talking Heads - This Must Be the Place (Naive Melody) - 2005 Remaster',\n 'Alabama Shakes - Hold On',\n 'The Flying Burrito Brothers - Sin City',\n 'The National - Fake Empire',\n 'Def Leppard - Photograph',\n \"The Seeds - Pushin' Too Hard\",\n 'Prince - When You Were Mine',\n 'The Raconteurs - Steady, As She Goes',\n 'Elvis Costello & The Attractions - Pump It Up',\n 'Bruce Springsteen - Badlands',\n 'The Rolling Stones - The Last Time - Remastered 2002',\n 'Sigur Rós - Hoppípolla',\n 'Buzzcocks - Orgasm Addict - 1996 Remastered Version',\n 'The Cure - Inbetween Days',\n 'Blur - The Universal - 2012 Remaster',\n \"CSS - Let's Make Love and Listen to Death From Above\",\n \"Daryl Hall & John Oates - I Can't Go for That (No Can Do)\",\n \"Grand Funk Railroad - We're An American Band - Remastered 2002\",\n 'Pretenders - Back On The Chain Gang - 2009 Remastered',\n 'John Lennon - God - Remastered 2010',\n 'Steve Miller Band - The Joker',\n 'Supergrass - Alright',\n 'The Church - Under the Milky Way',\n 'Bruce Springsteen - Brilliant Disguise',\n \"Alice Cooper - I'm Eighteen\",\n 'Steely Dan - Do It Again',\n 'Neil Young - Cowgirl in the Sand - 2009 Remaster',\n 'Canned Heat - On The Road Again',\n 'The Monkees - Last Train to Clarksville',\n 'Primal Scream - Higher Than the Sun',\n \"Steely Dan - Rikki Don't Lose That Number\",\n 'Funkadelic - Maggot Brain',\n 'Eric Clapton - Tears in Heaven - Acoustic; Live at MTV Unplugged, Bray Film Studios, Windsor, England, UK, 1/16/1992; 2013 Remaster',\n 'T. Rex - Jeepster',\n 'Santana - Smooth',\n 'NEU! - Hallogallo',\n 'Red Hot Chili Peppers - Scar Tissue',\n 'Saint Etienne - Only Love Can Break Your Heart',\n 'Red Hot Chili Peppers - Californication',\n 'Sigur Rós - Svefn - G - Englar',\n 'Faith No More - Epic',\n 'The Rolling Stones - Midnight Rambler',\n 'Elton John - Candle In The Wind',\n 'The Cranberries - Zombie',\n 'The Beatles - The Long And Winding Road - Remastered',\n 'Neil Young - Powderfinger',\n 'ABC - The Look Of Love - Pt. 1',\n 'Vampire Weekend - Diane Young',\n 'Patti Smith - Dancing Barefoot',\n 'The Smiths - What Difference Does It Make? - 2011 Remaster',\n \"The Velvet Underground - All Tomorrow's Parties\",\n 'Dale Hawkins - Susie-Q',\n 'Santana - Oye Como Va',\n 'Foals - Spanish Sahara',\n 'The Beatles - Taxman - Remastered',\n 'Prince - If I Was Your Girlfriend',\n 'Deerhunter - Helicopter',\n 'The Normal - Warm Leatherette',\n 'Sweet - Ballroom Blitz',\n 'Creedence Clearwater Revival - Green River',\n 'This Mortal Coil - Song To The Siren (Remastered)',\n 'The Plastic Ono Band - Give Peace A Chance - Remastered 2010',\n 'Happy Mondays - Kinky Afro',\n 'The Cramps - Human Fly',\n 'New Order - Crystal',\n 'Deerhunter - Nothing Ever Happened',\n 'Yoko Ono - Walking On Thin Ice',\n 'Nine Inch Nails - Head Like A Hole - Remastered',\n 'Kaiser Chiefs - I Predict A Riot',\n 'Animal Collective - Summertime Clothes',\n 'Led Zeppelin - Heartbreaker - Remaster',\n 'Elastica - Stutter',\n \"Elvis Costello & The Attractions - (What's So Funny 'Bout) Peace, Love And Understanding\",\n 'Marilyn Manson - The Beautiful People',\n 'White Town - Your Woman',\n 'Kurt Vile - Pretty Pimpin',\n 'Maximo Park - Apply Some Pressure',\n 'Peter Gabriel - Biko',\n 'Todd Rundgren - I Saw the Light',\n 'Nick Cave & The Bad Seeds - Red Right Hand',\n 'Patti Smith - Land: Horses / Land of a Thousand Dances / La Mer(de)',\n 'The Killers - When You Were Young',\n 'Blondie - Rapture - Remastered 2001',\n 'Lucy Dacus - Night Shift',\n 'Bob Dylan - Lay, Lady, Lay',\n 'Fleetwood Mac - Tusk',\n 'Joe Jackson - Is She Really Going Out With Him?',\n 'Weezer - Undone - The Sweater Song',\n 'Radiohead - True Love Waits (Live In Oslo)',\n 'Bonnie Tyler - Total Eclipse of the Heart',\n \"Elvis Costello & The Attractions - (I Don't Want To Go To) Chelsea\",\n 'Deafheaven - Dream House',\n 'AC/DC - Whole Lotta Rosie',\n 'The Replacements - Bastards of Young - 2008 Remaster',\n 'Pearl Jam - Daughter',\n 'The Beatles - Dear Prudence - Remastered',\n 'Phoebe Bridgers - Motion Sickness',\n 'Bonnie Prince Billy - I See A Darkness',\n 'Dick Dale - Miserlou',\n 'Nick Cave & The Bad Seeds - Jubilee Street',\n 'XTC - Dear God - Remastered 2001',\n 'Blur - For Tomorrow - 2012 Remaster',\n 'The Beatles - Here, There And Everywhere - Remastered',\n 'Babyshambles - Fuck Forever',\n 'Jackson Browne - Running on Empty',\n 'The Sonics - Strychnine',\n 'LCD Soundsystem - I Can Change',\n 'Le Tigre - Deceptacon',\n 'David Bowie - Moonage Daydream - 2012 Remastered Version',\n 'The Go-Betweens - Cattle and Cane (Live)',\n 'The Cure - Killing An Arab',\n 'The Chantays - Pipeline',\n 'Squeeze - Up The Junction',\n 'The Strokes - The Modern Age',\n 'Stevie Nicks - Edge of Seventeen',\n \"The Verve - The Drugs Don't Work\",\n 'Golden Earring - Radar Love',\n 'The Cure - Lovesong',\n 'Dead Kennedys - California Uber Alles',\n 'Blur - Parklife - 2012 Remaster',\n 'Ultravox - Vienna - 2008 Remastered Version',\n 'Peter Gabriel - Games Without Frontiers',\n 'Slayer - Raining Blood',\n 'Garbage - Stupid Girl',\n 'Elvis Costello & The Attractions - I Want You',\n 'Morrissey - Suedehead',\n 'John Mellencamp - Jack & Diane',\n 'Tom Petty and the Heartbreakers - Refugee',\n 'X - Los Angeles',\n 'The Futureheads - Hounds of Love',\n 'Courtney Barnett - Avant Gardener',\n 'Deerhunter - Desire Lines',\n \"The Beatles - I Want You (She's So Heavy) - Remastered\",\n 'Placebo - Pure Morning - Radio Edit; 2004 Remastered Version',\n 'Lana Del Rey - Venice Bitch',\n 'The Smashing Pumpkins - Disarm - 2011 Remaster',\n 'The New Pornographers - Letter From An Occupant',\n \"The Rolling Stones - Can't You Hear Me Knocking\",\n \"George Michael - Freedom! '90\",\n 'Traffic - Dear Mr. Fantasy',\n \"The Byrds - So You Want to Be a Rock 'N' Roll Star\",\n 'Eagles - One Of These Nights',\n 'The Bangles - Manic Monday',\n 'Girls - Lust For Life',\n 'The Stooges - No Fun',\n 'Rush - Tom Sawyer',\n 'The Beatles - Nowhere Man - Remastered',\n 'Fleetwood Mac - Albatross',\n 'The Stranglers - Golden Brown',\n 'EMF - Unbelievable',\n 'Duran Duran - Hungry Like the Wolf - 2009 Remaster',\n 'The Johnny Otis Show - Willie And The Hand Jive',\n 'Gerry Rafferty - Baker Street',\n 'Spiritualized - Ladies and Gentlemen We Are Floating in Space',\n 'Julien Baker - Me & My Dog',\n 'Steve Harley - Make Me Smile (Come Up And See Me)',\n 'Suede - The Drowners (Remastered)',\n 'Stealers Wheel - Stuck In The Middle With You',\n 'Billy Joel - Just the Way You Are',\n 'Plastic Bertrand - Ca plane pour moi',\n 'LCD Soundsystem - Daft Punk Is Playing At My House',\n 'AC/DC - Hells Bells',\n 'Spoon - The Way We Get By',\n 'Pink Floyd - Interstellar Overdrive - 2011 Remastered Version',\n 'Bruce Springsteen - Backstreets',\n 'Martha and the Muffins - Echo Beach - 2002 Remastered Version',\n 'Portugal. The Man - Feel It Still',\n \"Stereo MC's - Connected\",\n \"The Beatles - I'm Only Sleeping - Remastered\",\n 'The Who - Who Are You',\n 'The Hollies - Bus Stop',\n 'Bob Dylan - Highway 61 Revisited',\n 'John Lennon - (Just Like) Starting Over - Remastered 2010',\n 'Angel Olsen - All Mirrors',\n 'Robert Palmer - Addicted To Love',\n \"The Beatles - Don't Let Me Down - Remastered\",\n 'Blur - Country House - 2012 Remaster',\n 'Blur - This Is a Low - 2012 Remaster',\n 'Radiohead - Reckoner',\n 'The Beat - Mirror in the Bathroom',\n 'Barry McGuire - Eve Of Destruction',\n 'Bob Dylan - Forever Young - Slow Version',\n 'Nena - 99 Luftballons',\n 'Tom Waits - Downtown Train',\n 'The Beatles - I Feel Fine - Remastered',\n 'Arcade Fire - Keep The Car Running',\n 'Art Brut - Formed A Band',\n 'Arcade Fire - Everything Now',\n 'Tame Impala - The Less I Know The Better',\n 'Radiohead - Street Spirit (Fade Out)',\n 'Orange Juice - Rip It Up',\n 'Primal Scream - Come Together',\n 'Dire Straits - Money For Nothing',\n 'The White Stripes - Dead Leaves And The Dirty Ground',\n 'The Beatles - Love Me Do - Mono / Remastered',\n 'The Doors - People Are Strange',\n 'Paul McCartney - Jet - Remastered 2010',\n 'Sheryl Crow - All I Wanna Do',\n 'Crazy World Of Arthur Brown - Fire',\n 'Black Sabbath - Black Sabbath',\n 'David Bowie - Five Years - 2012 Remastered Version',\n 'The Stooges - 1969',\n 'Small Faces - Tin Soldier (Mono)',\n 'Blur - Beetlebum - 2012 Remaster',\n 'Talking Heads - Road to Nowhere - 2005 Remaster',\n 'Veruca Salt - Seether',\n \"Wanda Jackson - Let's Have A Party\",\n 'T. Rex - Telegram Sam',\n 'R.E.M. - Drive',\n 'Steely Dan - Deacon Blues',\n \"Billy Bragg - Levi Stubbs' Tears\",\n \"Heaven 17 - (We Don't Need This) Fascist Groove Thang - Remastered 2006\",\n 'The Associates - Party Fears Two',\n 'Blondie - Dreaming - Remastered',\n 'Pulp - Disco 2000',\n 'The Smiths - The Boy with the Thorn in His Side - 2011 Remaster',\n 'Grateful Dead - Box Of Rain - Remastered Version',\n 'The Big Pink - Dominos',\n 'Bee Gees - How Deep Is Your Love (2007 Remastered Saturday Night Fever LP Version)',\n 'The Cult - She Sells Sanctuary',\n 'Spoon - Inside Out',\n 'Jimi Hendrix - Foxey Lady',\n 'The Standells - Dirty Water',\n 'The Isley Brothers - Twist and Shout',\n 'U2 - Bad - Remastered 2009',\n 'The Drums - Lets Go Surfing',\n 'Stone Temple Pilots - Interstate Love Song',\n 'The Damned - Neat Neat Neat',\n 'Electric Six - Danger! High Voltage (Soulchild Radio Mix)',\n 'The Sonics - Psycho',\n 'The Waterboys - The Whole Of The Moon - 2004 Remastered Version',\n 'Supergrass - Caught By the Fuzz',\n 'Tame Impala - Elephant',\n 'Pulp - Babies',\n 'The Fall - Totally Wired',\n 'Small Faces - Lazy Sunday (Mono)',\n 'My Chemical Romance - Welcome to the Black Parade',\n 'Bruce Springsteen - Racing in the Street',\n 'They Might Be Giants - Birdhouse in Your Soul',\n 'Gorillaz - Stylo (feat. Mos Def and Bobby Womack)',\n 'Bob Dylan - Every Grain of Sand',\n \"Beastie Boys - So What'Cha Want - Remastered 2009\",\n 'Duran Duran - Girls On Film',\n 'Atlas Sound - Walkabout',\n 'Phoenix - Too Young',\n 'Modern English - I Melt with You',\n 'The Jesus and Mary Chain - Never Understand',\n 'The Kinks - All Day And All Of The Night',\n 'Raspberries - Go All The Way',\n \"Yes - I've Seen All Good People: a. Your Move, b. All Good People - 2003 Remaster\",\n 'Modest Mouse - Dashboard',\n 'Crosby, Stills, Nash & Young - Helpless',\n 'The Beach Boys - Fun, Fun, Fun - Remastered 2001',\n 'Deep Purple - Highway Star',\n 'The Clash - The Magnificent Seven - Remastered',\n 'Blind Melon - No Rain',\n \"The Who - We're Not Gonna Take It\",\n \"Bachman-Turner Overdrive - Takin' Care Of Business\",\n 'System Of A Down - Chop Suey!',\n 'Yes - Owner Of A Lonely Heart',\n 'The Champs - Tequila (Original)',\n 'T. Rex - Metal Guru',\n 'Pixies - Here Comes Your Man',\n 'Cream - Badge',\n 'Grizzly Bear - While You Wait For The Others',\n 'The Beatles - Eight Days A Week - Remastered',\n 'Arcade Fire - Ready To Start',\n \"Linda Ronstadt - You're No Good\",\n \"Rod Stewart - Tonight's the Night (Gonna Be Alright)\",\n 'The Beatles - She Said She Said - Remastered',\n 'The Strokes - 12:51',\n 'Bob Dylan - Idiot Wind',\n 'The Clash - The Guns of Brixton - Remastered',\n 'Doves - There Goes The Fear',\n 'Thin Lizzy - Whiskey In The Jar',\n 'Harvey Danger - Flagpole Sitta',\n 'Tori Amos - Cornflake Girl',\n \"Todd Rundgren - Hello It's Me\",\n 'Dead Boys - Sonic Reducer',\n 'Beach House - Zebra',\n 'PJ Harvey - Sheela-na-gig',\n 'Hole - Doll Parts',\n 'Buzzcocks - What Do I Get? - 1996 Remastered Version',\n 'The Kinks - Dead End Street',\n 'Grinderman - No Pussy Blues',\n 'The Darkness - I Believe in a Thing Called Love',\n 'Neil Young - Southern Man',\n \"The Rolling Stones - Mother's Little Helper - (Original Single Mono Version)\",\n 'T. Rex - Children of the Revolution',\n \"Brian Eno - Baby's On Fire - Remastered 2004\",\n 'Tricky - Black Steel',\n 'Crosby, Stills & Nash - Wooden Ships - 2005 Remaster',\n \"Blind Faith - Can't Find My Way Home\",\n 'Jan & Dean - Surf City',\n ...]"
     },
     "execution_count": 2,
     "metadata": {},
     "output_type": "execute_result"
    }
   ],
   "source": [
    "def read_lines_from_file(filename):\n",
    "    with open(filename, 'r', encoding='utf8') as file:  # Open in read mode\n",
    "        lines = file.read().splitlines() # split lines removes the \\n at the end of each line\n",
    "        #lines = file.readlines()       # Read all lines into a list\n",
    "    return lines\n",
    "\n",
    "read_lines_from_file(\"Rock.txt\")"
   ],
   "metadata": {
    "collapsed": false,
    "ExecuteTime": {
     "end_time": "2024-05-20T01:41:08.320296600Z",
     "start_time": "2024-05-20T01:41:08.267292400Z"
    }
   },
   "id": "9027f98edff99ebf",
   "execution_count": 2
  },
  {
   "cell_type": "code",
   "outputs": [],
   "source": [
    "rock_song_list = read_lines_from_file(\"Rock.txt\")\n",
    "hiphop_song_list = read_lines_from_file(\"Hiphop.txt\")\n",
    "country_song_list = read_lines_from_file(\"Country.txt\")\n",
    "rnb_song_list = read_lines_from_file(\"RnB.txt\")\n",
    "singersongwriter_song_list = read_lines_from_file(\"SingerSongwriter.txt\")\n",
    "pop_song_list = read_lines_from_file(\"Pop.txt\")"
   ],
   "metadata": {
    "collapsed": false,
    "ExecuteTime": {
     "end_time": "2024-05-20T01:41:10.567218500Z",
     "start_time": "2024-05-20T01:41:10.508879500Z"
    }
   },
   "id": "5891f4b9a517aa88",
   "execution_count": 3
  },
  {
   "cell_type": "code",
   "outputs": [
    {
     "data": {
      "text/plain": "[\"Hank Williams - I'm So Lonesome I Could Cry - Single Version\",\n 'Johnny Cash - Hurt',\n 'Johnny Cash - Folsom Prison Blues',\n 'Johnny Cash - I Walk The Line - Single Version',\n 'Patsy Cline - Crazy',\n 'Glen Campbell - Wichita Lineman - Remastered 2001',\n 'Johnny Cash - Ring Of Fire - Single Version',\n 'Dolly Parton - Jolene',\n 'The Everly Brothers - All I Have to Do Is Dream - Single Version; 2006 Remaster',\n \"The Everly Brothers - Cathy's Clown - Single Version; 2006 Remaster\",\n 'Tammy Wynette - Stand By Your Man',\n 'Jimmie Rodgers - Blue Yodel #1 (t For Texas)',\n 'Wilco - Jesus, Etc.',\n 'Bill Monroe - Blue Moon Of Kentucky - Original',\n 'Patsy Cline - I Fall To Pieces - Single Version',\n 'George Jones - He Stopped Loving Her Today - Single Version',\n \"Loretta Lynn - Coal Miner's Daughter - Single Version\",\n 'A. P. Carter - Wildwood Flower',\n \"Hank Williams - Your Cheatin' Heart - Single Version\",\n \"Kitty Wells - It Wasn't God Who Made Honky Tonk Angels\",\n 'The Carter Family - Can the Circle Be Unbroken',\n 'Merle Haggard & The Strangers - Mama Tried - Remastered 2001',\n 'Tennessee Ernie Ford - Sixteen Tons',\n 'Roger Miller - King Of The Road',\n \"Patsy Cline - Walkin' After Midnight\",\n 'Hank Williams - Cold, Cold Heart - Single Version',\n 'Bob Dylan - Not Dark Yet',\n 'Townes Van Zandt - Pancho and Lefty',\n 'Hank Williams - Lovesick Blues - Single Version',\n 'Marty Robbins - El Paso',\n 'Dolly Parton - I Will Always Love You',\n 'Kacey Musgraves - Slow Burn',\n 'Gram Parsons - Return of the Grievous Angel - 2006 Remaster',\n 'Willie Nelson - Blue Eyes Crying in the Rain',\n 'Phoebe Bridgers - Motion Sickness',\n 'Bonnie Prince Billy - I See A Darkness',\n \"Brenda Lee - I'm Sorry\",\n 'Dolly Parton - Coat of Many Colors',\n 'Lester Flatt & Earl Scruggs And The Stanley Brothers - Foggy Mountain Breakdown',\n 'Gene Autry - Back In the Saddle Again',\n \"Patsy Montana & The Prairie Ramblers - I Want to Be a Cowboy's Sweetheart\",\n 'Roy Acuff - Wabash Cannonball',\n 'Glen Campbell - By The Time I Get To Phoenix - Remastered 2001',\n \"Hank Williams - I'll Never Get Out of This World Alive\",\n 'Jimmie Davis - You Are My Sunshine',\n 'Sons of the Pioneers - Tumbling Tumbleweeds',\n 'Ray Price - Crazy Arms',\n 'John Prine - Sam Stone',\n \"Conway Twitty - It's Only Make Believe\",\n 'The Stanley Brothers - Rank Stranger',\n 'Bill Monroe & His Blue Grass Boys - Mule Skinner Blues',\n 'Mumford & Sons - Little Lion Man',\n 'Bob Wills & His Texas Playboys - New San Antonio Rose',\n 'Lucinda Williams - Car Wheels On A Gravel Road',\n 'The Carter Family - Keep On The Sunny Side',\n 'Willie Nelson - Always On My Mind',\n 'First Aid Kit - Emmylou',\n 'John Denver - Take Me Home, Country Roads - Original Version',\n 'Hank Williams - Lost Highway',\n 'Hank Williams - Move It On Over',\n 'Peter, Paul and Mary - If I Had a Hammer',\n 'John Mellencamp - Pink Houses',\n 'Glen Campbell - Galveston - Remastered 2001',\n \"Hank Snow - I'm Movin' On\",\n 'Loretta Lynn - The Pill',\n 'Fiddlin John Carson - The Little Old Log Cabin In The Lane',\n 'George Jones - She Thinks I Still Care',\n \"Hank Williams - Hey, Good Lookin' - Single Version\",\n 'Alfred \"Blind\" Reed - How Can A Poor Man Stand Such Times And Live - Remastered 2003',\n 'Ernest Tubb - Walking The Floor Over You',\n 'Bruce Springsteen - The Ghost of Tom Joad',\n 'R.E.M. - Country Feedback',\n 'The Chicks - Not Ready To Make Nice',\n 'Eck Robertson - Sally Gooden',\n 'Hank Thompson - The Wild Side Of Life',\n 'Sammi Smith - Help Me Make It Through The Night',\n 'Bobby Bare - Detroit City',\n \"Shania Twain - You're Still The One\",\n 'Lady Gaga - Shallow',\n \"Townes Van Zandt - Waitin' Around To Die\",\n 'Tammy Wynette - D-I-V-O-R-C-E',\n 'Lucinda Williams - Passionate Kisses',\n 'Dolly Parton - 9 To 5',\n 'Vaughn Monroe - Riders In the Sky',\n \"Steve Earle - John Walker's Blues\",\n 'Lynn Anderson - Rose Garden',\n 'George Jones - A Good Year For the Roses',\n 'Hank Williams - Jambalaya on the Bayou',\n 'Courtney Barnett - Over Everything',\n 'Elvis Presley - Always on My Mind',\n 'Paul Simon - Kodachrome',\n \"Loretta Lynn - Don't Come Home A'Drinkin' (With Lovin' On Your Mind)\",\n 'Ricky Nelson - Garden Party',\n 'Jeannie C. Riley - Harper Valley PTA',\n \"Vernon Dalhart - The Prisoner's Song\",\n 'Skeeter Davis - The End of the World',\n 'Gene Autry - Rudolph, the Red-Nosed Reindeer (with The Pinafores)',\n 'The Charlie Daniels Band - The Devil Went Down To Georgia',\n 'Red Foley - Peace In The Valley',\n \"Madonna - Don't Tell Me\",\n 'Bruce Springsteen - Nebraska',\n 'Buck Owens - Act Naturally',\n 'George Jones - The Grand Tour',\n \"George Jones - White Lightnin'\",\n 'Neko Case - This Tornado Loves You',\n 'Guy Mitchell - Singing The Blues',\n 'Los Lobos - Will the Wolf Survive?',\n 'Emmylou Harris - Boulder to Birmingham - 2003 Remaster',\n 'Merle Haggard - Okie From Muskogee',\n 'Dock Boggs - Country Blues',\n 'Faron Young - Hello Walls',\n \"Johnny Cash - Delia's Gone\",\n 'Anne Murray - Snowbird',\n \"Lefty Frizzell - If You've Got the Money I've Got the Time\",\n 'Charlie Rich - Behind Closed Doors',\n 'John Grant - GMF',\n 'Ryan Adams - Come Pick Me Up',\n 'Kenny Rogers - The Gambler',\n 'The Louvin Brothers - Knoxville Girl',\n 'Johnny Horton - The Battle Of New Orleans',\n \"Grateful Dead - Truckin' - 2013 Remaster\",\n 'Gene Pitney - Man Who Shot Liberty Valance',\n 'Phil Everly - Gone, Gone, Gone (Done Moved On)',\n 'Bruce Springsteen - Highway Patrolman',\n 'Bruce Springsteen - State Trooper',\n 'Randy Travis - On the Other Hand',\n 'Tex Williams - Smoke! Smoke! Smoke! (That Cigarette)',\n 'Webb Pierce - There Stands The Glass',\n 'Wilco - Impossible Germany',\n 'Glen Campbell - Rhinestone Cowboy',\n \"Kris Kristofferson - Sunday Mornin' Comin' Down\",\n 'Gram Parsons - $1000 Wedding - 2002 Remaster',\n 'Wilco - A Shot in the Arm',\n 'Garth Brooks - The Dance',\n 'Big Thief - Cattails',\n 'George Strait - Amarillo By Morning',\n 'Joe South - Games People Play - Remastered 2002',\n 'Roy Acuff & His Crazy Tennesseans - Great Speckled Bird',\n \"Patsy Cline - She's Got You\",\n 'The Everly Brothers - Bird Dog',\n 'Garth Brooks - Friends in Low Places',\n 'Merle Haggard - Sing Me Back Home',\n 'Wilco - Misunderstood',\n 'Blue Rodeo - Lost Together',\n \"Jimmie Rodgers - Blue Yodel No. 9 (Standin' on the Corner)\",\n 'Clarence \"Tom\" Ashley - The Coo Coo Bird',\n 'Bob Wills - Take Me Back To Tulsa',\n \"Jim Reeves - He'll Have to Go\",\n 'Lefty Frizzell - The Long Black Veil',\n 'Don Gibson - Oh, Lonesome Me',\n 'Gene Autry - Deep In the Heart of Texas',\n 'Sons of the Pioneers - Cool Water',\n 'Bill Callahan - Riding For The Feeling',\n 'Ricky Nelson - Lonesome Town',\n 'Bonnie Raitt - Something To Talk About',\n 'The Jayhawks - Blue',\n 'Rosanne Cash - Seven Year Ache',\n 'Johnny Cash - Cocaine Blues - Live at Folsom State Prison, Folsom, CA (1st Show) - January 1968',\n \"Brenda Lee - Sweet Nothin's - Single Version\",\n \"Charlie Poole - Don't Let Your Deal Go Down Blues (with The North Carolina Ramblers) - 78rpm Version\",\n 'Glen Campbell - Gentle On My Mind',\n 'Willie Nelson - On the Road Again - Live at Austin, Texas - Fall 1979',\n 'Loretta Lynn - Portland, Oregon',\n 'Red Foley - Chatanoogie Shoe Shine Boy',\n 'Jimmie Rodgers - In the Jailhouse Now',\n 'Lee Ann Womack - I Hope You Dance',\n 'Waylon Jennings - Are You Sure Hank Done It This Way',\n 'Johnny Cash - Wanted Man',\n 'The Statler Brothers - Flowers On the Wall',\n 'Mark Dinning - Teen Angel',\n 'The Soggy Bottom Boys - I Am A Man Of Constant Sorrow - From “O Brother, Where Art Thou” Soundtrack / With Band',\n 'Bob Dylan - I Threw It All Away',\n 'Angel Olsen - Sister',\n 'The Louvin Brothers - When I Stop Dreaming',\n 'W.M. Stepp - Bonaparte’s Retreat',\n 'Johnny Cash - The Man Comes Around',\n 'Johnny Cash - A Boy Named Sue - Live at San Quentin State Prison, San Quentin, CA - February 1969',\n 'Neko Case - Hold On, Hold On',\n 'Eddy Arnold - Bouquet of Roses',\n 'Bright Eyes - Four Winds',\n 'The Everly Brothers - Love Hurts - 2006 Remaster',\n 'Bob Dylan - Man in the Long Black Coat',\n 'Jenny Lewis - Just One of the Guys',\n \"Kacey Musgraves - Merry Go 'Round\",\n 'Ray Price - For the Good Times',\n 'Kacey Musgraves - Follow Your Arrow',\n 'Arthur Smith - Guitar Boogie',\n 'The Chicks - Wide Open Spaces',\n 'Billy Bragg - California Stars',\n \"Loretta Lynn - One's On The Way\",\n 'Merle Travis - Dark As A Dungeon',\n 'Merle Haggard & The Strangers - Hungry Eyes',\n 'Mumford & Sons - The Cave',\n 'Eddy Arnold - Cattle Call',\n 'Waylon Jennings - Luckenbach, Texas (Back to the Basics of Love) (feat. Willie Nelson)',\n \"Loretta Lynn - You Ain't Woman Enough (To Take My Man)\",\n 'First Aid Kit - My Silver Lining',\n 'Jimmie Dale Gilmore and the Flatlanders - Dallas',\n 'Kris Kristofferson - Me and Bobby McGee',\n \"The Beatles - I've Just Seen A Face - Remastered\",\n 'Ernest Stoneman - The Titanic',\n 'Mumford & Sons - I Will Wait',\n 'LeAnn Rimes - Blue',\n 'Johnny Cash - The Ballad of Ira Hayes',\n 'Kris Kristofferson - Help Me Make It Through the Night',\n 'Waylon Jennings - Good Hearted Woman',\n 'Lyle Lovett - If I Had A Boat',\n 'Cliff Richard - Living Doll',\n 'Loretta Lynn - Fist City',\n 'Hank Williams - I Saw The Light - Single Version',\n \"Waylon Jennings - Mammas Don't Let Your Babies Grow up to Be Cowboys\",\n 'Eddy Arnold - Make the World Go Away',\n 'Lambchop - Is a Woman',\n 'Lefty Frizzell - Always Late (With Your Kisses)',\n 'Bobbie Gentry - Fancy',\n 'Hank Williams - You Win Again - Single Version',\n 'John Prine - Hello in There',\n 'Kenny Rogers - Islands In The Stream',\n 'Bob Dylan - Thunder on the Mountain',\n 'Steve Earle - Guitar Town',\n 'Dave Dudley - Six Days On The Road',\n 'Jimmie Rodgers - Waiting for a Train',\n 'The Monroe Brothers - What Would You Give In Exchange?',\n 'Patsy Cline - Sweet Dreams (Of You)',\n 'Pee Wee King - Slow Poke',\n 'Freddy Fender - Before the Next Teardrop Falls',\n \"Shania Twain - That Don't Impress Me Much\",\n 'Ryan Adams - Oh My Sweet Carolina',\n 'Charlie Rich - Life Has Its Little Ups And Downs',\n 'Stoney Edwards - Hank and Lefty Raised My Country Soul',\n 'Johnny Cash - Jackson',\n 'Merle Haggard - Working Man Blues',\n 'Neil Diamond - Song Sung Blue - Single Version',\n 'Steve Earle - The Mountain',\n 'The Browns - The Three Bells',\n 'Marty Robbins - Singing the Blues',\n 'The Delmore Brothers - Blues Stay Away From Me',\n 'Johnny Cash - I Still Miss Someone - Lyrics',\n 'Purple Mountains - That’s Just the Way That I Feel',\n 'The Jayhawks - Waiting For The Sun',\n 'Lambchop - Your Fucking Sunny Day',\n 'Ryan Adams - To Be Young (Is to Be Sad, Is to Be High)',\n 'Conway Twitty - Hello Darlin',\n 'Miranda Lambert - Gunpowder & Lead',\n 'Johnny Cash - Big River',\n 'John Denver - Rocky Mountain High',\n 'George Jones - Golden Ring',\n \"Molly O'Day & The Cumberland Mountain Folks - The Tramp On The Street\",\n 'Blue Rodeo - Try - 2012 Remaster',\n \"The Chuck Wagon Gang - I'll Fly Away\",\n 'Ted Daffan And His Texans - Born to Lose',\n 'Merle Haggard - If We Make It Through December',\n 'Wanda Jackson - Fujiyama Mama - Remastered',\n 'Uncle Dave Macon - Keep My Skillet Good And Greasy',\n 'Johnny Paycheck - Take This Job and Shove It',\n 'Shania Twain - Man! I Feel Like A Woman!',\n \"Bill Monroe & His Blue Grass Boys - It's Mighty Dark to Travel\",\n 'Martina McBride - Independence Day',\n \"Al Dexter - Pistol Packin' Mama\",\n 'Brandi Carlile - The Joke',\n 'Tom T. Hall - The Year That Clayton Delaney Died',\n 'Ernest Tubb - Waltz Across Texas',\n 'Bob Dylan - Highlands',\n 'The Carter Family - Single Girl, Married Girl',\n 'The Carter Family - Worried Man Blues',\n \"The Stanley Brothers - I'm a Man of Constant Sorrow\",\n 'Kalin Twins - When',\n \"Charley Pride - Kiss an Angel Good Mornin'\",\n 'Cracker - Teen Angst (What The World Needs Now)',\n 'Bob Wills & His Texas Playboys - New San Antonio Rose',\n 'Neko Case - People Got A Lotta Nerve',\n 'Harry McClintock - Big Rock Candy Mountain',\n \"Hank Williams - Ramblin' Man - Single Version\",\n 'Faye Webster - Kingston',\n \"Joe South - Don't It Make You Want To Go Home - Remastered 2002\",\n 'Kacey Musgraves - Space Cowboy',\n 'Big & Rich - Save a Horse (Ride a Cowboy)',\n \"Robbie Fulks - Let's Kill Saturday Night\",\n 'Johnny Cash - The Mercy Seat',\n 'The Delmore Brothers - Freight Train Boogie',\n 'Steve Earle - Copperhead Road',\n 'The Everly Brothers - Walk Right Back',\n 'Rosanne Cash - Runaway Train',\n \"Marty Robbins - Don't Worry\",\n 'Tanya Tucker - Delta Dawn',\n \"Kenny Rogers - Ruby Don't Take Your Love To Town\",\n 'Taylor Swift - You Belong With Me',\n 'The High Llamas - Checking In, Checking Out',\n 'Wilco - War on War',\n \"Johnny Cash - God's Gonna Cut You Down\",\n 'The Kendalls - Just Like Real People',\n 'Eddy Mitchell - La dernière séance',\n \"Buck Owens - I've Got A Tiger By The Tail - 2006 Remastered Version\",\n 'Nitty Gritty Dirt Band - Will The Circle Be Unbroken',\n \"Bob Dylan - I'll Be Your Baby Tonight\",\n 'Johnny Horton - Honky Tonk Man',\n 'Eric Weissberg - Dueling Banjos',\n 'Billy Ray Cyrus - Achy Breaky Heart',\n 'Phosphorescent - New Birth in New England',\n \"Racing Cars - They Shoot Horses Don't They\",\n 'Leroy Van Dyke - Walk On By',\n 'Marty Robbins - Begging To You - Single Version',\n 'Miranda Lambert - The House That Built Me',\n 'Lucinda Williams - Drunken Angel',\n 'The Everly Brothers - Crying in the Rain - Single Version; 2006 Remaster',\n 'Cat Power - Woman - Single Version',\n 'Merle Haggard - Pancho and Lefty',\n 'Floyd Tillman - Slipping Around',\n 'Miranda Lambert - Kerosene',\n \"Danny O'Keefe - Good Time Charlie's Got the Blues\",\n 'The Stanley Brothers - Little Maggie',\n 'C.W. McCall - Convoy',\n 'Porter Wagoner - A Satisfied Mind',\n 'Vicki Lawrence - The Night The Lights Went Out In Georgia',\n \"John Denver - Annie's Song\",\n \"Bob Dylan - Ain't Talkin'\",\n 'Fleetwood Mac - Say You Love Me',\n 'Frank Ifield - I Remember You',\n 'Neil Young - Comes A Time',\n 'Starland Vocal Band - Afternoon Delight',\n 'Lily Allen - Not Fair',\n 'Merle Haggard & The Strangers - The Fugitive',\n 'Alan Jackson - Where Were You (When the World Stopped Turning)',\n 'Jack Guthrie - Oklahoma Hills',\n 'Willie Nelson - Whiskey River',\n 'Lucinda Williams - Pineola',\n 'Charlie Rich - The Most Beautiful Girl',\n 'Elvis Costello and The Attractions - Psycho',\n 'The Bellamy Brothers - Let Your Love Flow',\n 'Steve Goodman - City of New Orleans',\n \"Gid Tanner And The Skillet Lickers - Soldier's Joy\",\n 'Bonnie Prince Billy - Death To Everyone',\n 'Faith Hill - Breathe',\n \"Dr. Hook - The Cover of 'Rolling Stone'\",\n 'Ray Price - Make the World Go Away',\n \"The Felice Brothers - Frankie's Gun!\",\n 'George Jones - The Window Up Above',\n \"Bonnie Tyler - It's A Heartache\",\n \"Stompin' Tom Connors - The Hockey Song\",\n 'Sturgill Simpson - Turtles All the Way Down',\n 'The Handsome Family - Weightless Again',\n \"Stompin' Tom Connors - Sudbury Saturday Night\",\n 'Guy Clark - L.A. Freeway',\n 'Roger Miller - Chug-A-Lug',\n 'Floyd Cramer - Last Date - Instrumental',\n 'Jim Ed Brown - Pop a Top',\n 'Bascom Lamar Lunsford - I Wish I Was a Mole in the Ground',\n 'Deana Carter - Strawberry Wine',\n 'Guy Clark - Desperados Waiting For A Train',\n 'Jason Isbell and the 400 Unit - If We Were Vampires',\n 'Freedy Johnston - Bad Reputation',\n 'Ray Price - Introduction / Night Life',\n 'Kurt Vile - Loading Zones',\n 'Jerry Jeff Walker - L. A. Freeway',\n 'Bruce Springsteen - Hello Sunshine',\n 'Porter Wagoner - Green, Green Grass of Home',\n 'Hank Williams, Jr. - Family Tradition',\n 'Joe Ely - Honky Tonk Masquerade',\n 'Bruce Springsteen - Wreck on the Highway',\n 'Bill Monroe & His Blue Grass Boys - Uncle Pen',\n 'The Avett Brothers - I And Love And You',\n 'Vernon Dalhart - Wreck Of The Old 97',\n 'Bill Monroe & His Blue Grass Boys - In the Pines',\n 'Eric Church - Springsteen',\n 'Kacey Musgraves - Biscuits',\n \"Hank Snow & His Rainbow Ranch Boys - I Don't Hurt Anymore - Remastered\",\n \"Jerry Lee Lewis - What's Made Milwaukee Famous (Has Made A Loser Out Of Me)\",\n 'Townes Van Zandt - Tecumseh Valley',\n 'Bill Anderson - Still',\n 'Jimmy Murphy - Electricity',\n 'Jim & Jesse - Are You Missing Me',\n 'Frankie Miller - Blackland Farmer',\n 'Bruce Springsteen - The Wrestler',\n 'Johnny Cash - What Is Truth',\n 'Buck Owens - Together Again',\n 'The Highwomen - Highwomen',\n 'Tom T. Hall - Homecoming',\n \"Don Gibson - I Can't Stop Lovin' You\",\n 'Conway Twitty - After The Fire Is Gone',\n 'Bob Dylan - Girl from the North Country',\n 'Gaither - Go Rest High On That Mountain - Live',\n \"Gary Stewart - She's Actin' Single (I'm Drinkin' Doubles)\",\n 'Carrie Underwood - Before He Cheats',\n \"Connie Francis - Who's Sorry Now\",\n 'Margo Price - Hands of Time',\n 'Jimmie Rodgers - Blue Yodel No. 8 (Mule Skinner Blues)',\n 'Steve Earle - Goodbye',\n 'Dale Evans - Happy Trails',\n 'Calexico / Iron and Wine - He Lays In The Reins',\n 'Johnny Cash - 25 Minutes to Go - Live at Folsom State Prison, Folsom, CA (1st Show) - January 1968',\n 'Cowboy Junkies - Misguided Angel',\n 'Olivia Newton-John - If You Love Me (Let Me Know)',\n 'Calexico - Ballad of Cable Hogue',\n 'Nancy Sinatra - Jackson',\n 'Steve Earle - Someday',\n 'Ray Stevens - The Streak',\n 'Wilco - Love Is Everywhere (Beware)',\n 'Uncle Dave Macon and His Fruit-Jar Drinkers - Sail Away Ladies',\n 'Bascom Lamar Lunsford - Mountain Dew',\n \"Crystal Gayle - Don't It Make My Brown Eyes Blue\",\n 'Jack Scott - Burning Bridges',\n 'Pete Steele - Coal Creek March',\n \"Hank Snow - I've Been Everywhere - Remastered\",\n 'Faith Hill - This Kiss',\n 'Sonny James - Young Love',\n \"Eddy Arnold - You Don't Know Me\",\n 'Bobby Bare - 500 Miles Away from Home',\n 'Porter Wagoner - The Cold Hard Facts of Life',\n 'Tennessee Ernie Ford - The Shot-Gun Boogie',\n 'Giant Sand - Classico',\n 'Miranda Lambert - Vice',\n 'Lionel Richie - Stuck On You',\n 'Ray Price - City Lights',\n 'Toby Keith - Courtesy Of The Red, White And Blue (The Angry American)',\n 'Glen Campbell - Southern Nights',\n 'Ferlin Husky - Gone',\n 'Bonnie Prince Billy - Cursed Sleep',\n 'John Conlee - Rose Colored Glasses',\n 'Willie Nelson - Night Life',\n \"Jimmy Martin - Honey, You Don't Know My Mind\",\n 'The Everly Brothers - Ebony Eyes - Single Version; 2006 Remaster',\n 'Hank Thompson - A Six Pack To Go',\n 'Jimmy Page - Please Read The Letter',\n 'Nancy Sinatra - Sundown, Sundown',\n 'The Everly Brothers - Devoted to You - Single Version; 2006 Remaster',\n 'Johnny Cash - I See A Darkness',\n 'Ray Price - Heartaches By the Number',\n 'Dolly Parton - Here You Come Again',\n 'Neko Case - Star Witness',\n 'Slim Dusty - A Pub With No Beer - 1979 Version; 1992 Remaster',\n 'Lucinda Williams - Essence',\n 'Bob Wills & His Texas Playboys - Steel Guitar Rag',\n 'George Jones - We Must Have Been Out Of Our Minds',\n 'Dawes - All Your Favorite Bands',\n 'Dock Boggs - Sugar Baby',\n 'Willie Nelson - Moonlight In Vermont',\n \"Roger Miller - One Dyin' And A Buryin' - Single Version\",\n \"Waylon Jennings - Only Daddy That'll Walk the Line\",\n 'Lady A - Need You Now',\n 'Frankie Laine - Mule Train',\n 'Johnny Rodriguez - Ridin’ My Thumb to Mexico',\n 'Frankie Laine - I Believe',\n 'Merle Haggard & The Strangers - Swinging Doors',\n 'Orville Peck - Turn to Hate',\n 'Palace Music - You Will Miss Me When I Burn',\n 'Guy Mitchell - My Heart Cries For You',\n 'Alison Krauss & Union Station - When You Say Nothing At All',\n 'Dolly Parton - Mule Skinner Blues (Blue Yodel No. 8)',\n \"The Judds - Mama He's Crazy\",\n \"Johnny Paycheck - She's All I Got\",\n \"Jimmie Rodgers - Jimmie Rodgers' Last Blue Yodel (The Woman Make a Fool Out of Me)\",\n 'The Rockingbirds - Gradually Learning - Remastered Version 2009',\n 'Jimmie Rodgers - Miss the Mississippi and You',\n 'Merle Travis - Sixteen Tons',\n 'The Everly Brothers - When Will I Be Loved',\n \"The Carter Family - I'm Thinking Tonight of My Blue Eyes\",\n 'Ralph Stanley - The Lonesome River',\n 'Mary Gauthier - I Drink',\n 'Wilco - If I Ever Was a Child',\n 'Shania Twain - Any Man Of Mine',\n \"Mary Chapin Carpenter - He Thinks He'll Keep Her\",\n 'Calexico - Minas de Cobre - For Better Metal',\n \"Buck Owens - Love's Gonna Live Here\",\n 'Jamey Johnson - In Color',\n 'Johnny Cash - Get Rhythm',\n 'The Osborne Brothers - Rocky Top',\n 'Uncle Tupelo - No Depression',\n 'She & Him - Why Do You Let Me Stay Here?',\n \"Nat King Cole - Ramblin' Rose\",\n 'Patsy Cline - Faded Love - Single Version',\n 'Neil Young - Harvest',\n 'Teresa Brewer - Till I Waltz Again With you',\n \"Hank Snow - (Now And Then There's) a Fool Such as I\",\n \"Johnny Lee - Lookin' for Love\",\n 'Kacey Musgraves - Butterflies',\n 'Cowboy Junkies - Blue Moon Revisited (Song For Elvis)',\n 'Roger Miller - Dang Me',\n 'The Everly Brothers - The Price of Love - Single Version; 2006 Remaster',\n 'Emmylou Harris - Wrecking Ball',\n 'Charlie Rich - Feel Like Going Home',\n 'Emmylou Harris - One of These Days',\n 'Billy Joe Shaver - I Been to Georgia On a Fast Train',\n 'Dan Hicks & His Hot Licks - I Scare Myself',\n 'Townes Van Zandt - Kathleen',\n 'Courtney Marie Andrews - May Your Kindness Remain',\n 'Brad Paisley - Whiskey Lullaby (feat. Alison Krauss)',\n 'Loudon Wainwright III - Dead Skunk',\n 'Band of Horses - Factory',\n 'Tanya Tucker - Would You Lay with Me (In a Field of Stone)',\n \"The Everly Brothers - ('Til) I Kissed You - Single Version; 2006 Remaster\",\n '16 Horsepower - Black Soul Choir',\n 'Arkie Shibley and his Mountain Dew Boys - Hot Rod Race',\n 'Jill Sobule - I Kissed a Girl',\n \"Blue Rodeo - Hasn't Hit Me Yet - 2012 Remaster\",\n 'Bob Wills & His Texas Playboys - Ida Red',\n 'Old Crow Medicine Show - Sweet Amarillo',\n 'Gene Autry - The Yellow Rose Of Texas',\n 'Johnny Cash - Sunday Morning Coming Down - Live at Ryman Auditorium, Nashville, TN - July 1970',\n 'Bruce Springsteen - Youngstown',\n 'Eddy Mitchell - Sur la route de Memphis',\n 'Waylon Jennings - Amanda',\n 'Gordon Lightfoot - Early Morning Rain',\n 'Caitlin Rose - Only A Clown',\n 'Hank Williams - My Son Calls Another Man Daddy - MGM Single Version',\n 'Lambchop - Steve Mcqueen',\n 'Bob Wills & His Texas Playboys - Faded Love',\n 'Guy Mitchell - Heartaches By The Number',\n 'The Jayhawks - Save It For A Rainy Day',\n \"John Prine - Summer's End\",\n \"George Jones - If Drinkin' Don't Kill Me (Her Memory Will)\",\n 'Neko Case - Atomic Number',\n 'Steve Earle - Ft. Worth Blues',\n \"Bob Dylan - Po' Boy\",\n 'Bill Callahan - Too Many Birds',\n 'Brad Paisley - Alcohol',\n 'Townes Van Zandt - For The Sake Of The Song',\n 'Elvis Presley - U.S. Male',\n 'Jimmy Dean - Big Bad John',\n 'Red House Painters - Have You Forgotten',\n 'Maren Morris - My Church',\n 'Matt Sweeney - Bed Is For Sleeping',\n 'Drive-By Truckers - Surrender Under Protest',\n 'The Rolling Stones - Country Honk',\n 'Matthew Sweet - Winona',\n 'Nick Lowe - The Beast In Me',\n 'Pistol Annies - Hell on Heels',\n 'Brenda Lee - All Alone Am I',\n 'Bob Wills & His Texas Playboys - New Spanish Two Step',\n 'Johnny Cash - The Beast In Me',\n 'Lambchop - Soaky in the Pooper',\n 'Waylon Jennings - Dreaming My Dreams with You',\n 'Willie Nelson - Angel Flying Too Close to the Ground',\n \"Clint Black - Killin' Time\",\n 'Randy Travis - Forever and Ever, Amen',\n 'Brad Paisley - Ticks',\n 'Giant Sand - Shiver',\n 'Hank Williams - Honky Tonk Blues - 1952 Single Version',\n 'Kacey Musgraves - Dime Store Cowgirl',\n 'Palace Brothers - Riding',\n 'Asleep At The Wheel - Miles And Miles Of Texas - Remastered',\n 'Johnny Cash - Cry, Cry, Cry',\n 'Johnny Cash - Hey Porter',\n '16 Horsepower - Haw',\n 'Jerry Jeff Walker - Up Against the Wall Redneck Mother',\n 'The Everly Brothers - Let It Be Me',\n 'The Everly Brothers - Sing Me Back Home - 2003 Remaster',\n 'Tom Petty - A Face In The Crowd',\n 'Marty Robbins - (Ghost) Riders In The Sky',\n 'Elvis Costello & The Attractions - Good Year For The Roses',\n 'Johnny Cash - Ballad Of A Teenage Queen',\n \"Tanya Tucker - Blood Red And Goin' Down\",\n 'Gram Parsons - In My Hour of Darkness - 2002 Remaster',\n 'Mickey Newbury - An American Trilogy',\n 'Hank Williams - Long Gone Lonesome Blues - Single Version',\n 'Townes Van Zandt - To Live Is To Fly',\n 'Ryan Adams - Lucky Now',\n 'Ryan Adams - Two',\n \"Kirsty MacColl - Don't Come the Cowboy With Me, Sonny Jim! - 2005 Remastered Version\",\n 'Son Volt - Windfall',\n 'Rachel Sweet - Who Does Lisa Like',\n 'The Decemberists - Down By The Water',\n 'Gretchen Wilson - Redneck Woman',\n 'Hayes Carll - KMAG YOYO',\n 'Miranda Lambert - Famous In a Small Town',\n 'Joe Ely - Boxcars',\n 'Kacey Musgraves - Golden Hour',\n 'Hurray For The Riff Raff - The Body Electric',\n 'Lucinda Williams - Get Right With God',\n 'Drive-By Truckers - What It Means',\n 'Dawes - A Little Bit Of Everything',\n 'Jason Isbell - Elephant',\n 'Vic Chesnutt - Guilty By Association',\n 'Tim McGraw - Live Like You Were Dying',\n 'Keith Whitley - When You Say Nothing at All',\n 'Kira Isabella - Quarterback',\n 'Miley Cyrus - Malibu',\n 'Wilco - Monday',\n 'Johnny Cash - Understand Your Man',\n 'Lambchop - Gone Tomorrow',\n 'Isobel Campbell - Come Undone',\n 'Sam Amidon - My Old Friend',\n \"Valerie June - Workin' Woman Blues\",\n 'Jenny Lewis - Rise Up With Fists!!',\n \"Shelby Lynne - Leavin'\",\n 'Wanda Jackson - Funnel Of Love',\n 'Willie Nelson - Me and Paul',\n 'Parker Millsap - Truck Stop Gospel',\n 'Johnny Cash - One',\n 'Dillard & Clark - Polly',\n 'Billy Bragg - Way over Yonder in the Minor Key',\n 'Johnny Cash - Personal Jesus',\n 'Pistol Annies - Best Years of My Life',\n 'Jamey Johnson - High Cost Of Living',\n 'Dave Rawlings Machine - The Weekend',\n 'Palace Music - I Send My Love To You',\n 'Ashley Monroe - The Blade',\n 'Silver Jews - Tennessee',\n 'Wilco - Outtasite (Outta Mind)',\n \"Ricky Nelson - It's Late\",\n \"Kirsty MacColl - There's A Guy Works Down The Chip Shop Swears He's Elvis\",\n 'Johnny Cash - San Quentin - Live at San Quentin State Prison, San Quentin, CA - February 1969',\n 'Dave Edmunds - Queen of Hearts',\n 'Lucinda Williams - Changed The Locks']"
     },
     "execution_count": 100,
     "metadata": {},
     "output_type": "execute_result"
    }
   ],
   "source": [
    "country_song_list"
   ],
   "metadata": {
    "collapsed": false,
    "ExecuteTime": {
     "end_time": "2024-05-15T09:48:28.669449700Z",
     "start_time": "2024-05-15T09:48:28.658995400Z"
    }
   },
   "id": "53e7bd414f288527",
   "execution_count": 100
  },
  {
   "cell_type": "code",
   "outputs": [
    {
     "data": {
      "text/plain": "1191"
     },
     "execution_count": 44,
     "metadata": {},
     "output_type": "execute_result"
    }
   ],
   "source": [
    "#len(rock_song_list)\n",
    "#len(hiphop_song_list)\n",
    "#len(country_song_list)\n",
    "#len(rnb_song_list)\n",
    "#len(singersongwriter_song_list)"
   ],
   "metadata": {
    "collapsed": false,
    "ExecuteTime": {
     "end_time": "2024-05-15T09:29:12.182110Z",
     "start_time": "2024-05-15T09:29:12.163373Z"
    }
   },
   "id": "718813518264c85d",
   "execution_count": 44
  },
  {
   "cell_type": "code",
   "outputs": [],
   "source": [
    "def song_list_to_df(song_list, genre):\n",
    "    artists = []\n",
    "    titles = []\n",
    "    for song in song_list:\n",
    "        info = song.split('-')\n",
    "        artists.append(info[0])\n",
    "        titles.append(info[1])\n",
    "    genre = [genre] * len(artists)\n",
    "    df = pd.DataFrame({'artist': artists, 'title': titles, 'genre': genre})\n",
    "    return df\n",
    "\n"
   ],
   "metadata": {
    "collapsed": false,
    "ExecuteTime": {
     "end_time": "2024-05-20T01:41:14.319434800Z",
     "start_time": "2024-05-20T01:41:14.309579Z"
    }
   },
   "id": "133ce481d21c5866",
   "execution_count": 4
  },
  {
   "cell_type": "code",
   "outputs": [
    {
     "name": "stdout",
     "output_type": "stream",
     "text": [
      "['The Beatles ', ' A Day In The Life ', ' Remastered']\n",
      "['The Beach Boys ', ' Good Vibrations (Mono)']\n",
      "['The Ronettes ', ' Be My Baby']\n",
      "['Marvin Gaye ', ' I Heard It Through The Grapevine']\n",
      "['Michael Jackson ', ' Billie Jean']\n",
      "['Bruce Springsteen ', ' Born to Run']\n",
      "['The Beach Boys ', ' God Only Knows ', ' Mono']\n",
      "['Outkast ', ' Hey Ya! ', ' Radio Mix / Club Mix']\n",
      "['The Beatles ', ' Strawberry Fields Forever ', ' Remastered']\n",
      "['John Lennon ', ' Imagine ', ' Remastered 2010']\n",
      "['Prince ', ' When Doves Cry']\n",
      "['Pulp ', ' Common People']\n",
      "['Beyoncé ', ' Crazy In Love (feat. Jay', 'Z)']\n",
      "['R.E.M. ', ' Losing My Religion']\n",
      "['New Order ', ' Blue Monday']\n",
      "['The Jackson 5 ', ' I Want You Back']\n",
      "['The Righteous Brothers ', \" You've Lost That Lovin' Feelin' \", ' Single Version']\n",
      "['The Beatles ', ' Hey Jude ', ' Remastered']\n",
      "['The Kinks ', ' Waterloo Sunset ', ' Stereo']\n",
      "['The Smiths ', ' There Is a Light That Never Goes Out ', ' 2011 Remaster']\n",
      "['David Bowie ', ' Space Oddity ', ' 2009 Remastered Version']\n",
      "['Ben E. King ', ' Stand By Me']\n",
      "['The Byrds ', ' Mr. Tambourine Man']\n",
      "['The Verve ', ' Bitter Sweet Symphony']\n",
      "['Ike & Tina Turner ', ' River Deep ', ' Mountain High']\n",
      "['Lou Reed ', ' Walk on the Wild Side']\n",
      "['Eagles ', ' Hotel California']\n",
      "['Robyn ', ' Dancing On My Own']\n",
      "['The Mamas & The Papas ', \" California Dreamin'\"]\n",
      "['Martha Reeves & The Vandellas ', ' Dancing In The Street']\n",
      "['Grimes ', ' Oblivion']\n",
      "['The Beatles ', ' I Want To Hold Your Hand ', ' Remastered']\n",
      "[\"Sinéad O'Connor \", ' Nothing Compares 2 U']\n",
      "['Kanye West ', ' Runaway']\n",
      "['Lorde ', ' Royals']\n",
      "['Elvis Presley ', ' Suspicious Minds']\n",
      "['David Bowie ', ' Life On Mars? ', ' 1999 Remastered Version']\n",
      "['Four Tops ', \" Reach Out I'll Be There \", ' Single Version / Mono']\n",
      "['Oasis ', ' Wonderwall']\n",
      "['Bruce Springsteen ', ' Thunder Road']\n",
      "['U2 ', ' One']\n",
      "['Smokey Robinson & The Miracles ', ' The Tracks Of My Tears ', ' Single Version / Mono']\n",
      "['The Beatles ', ' Yesterday ', ' Remastered']\n",
      "['ABBA ', ' Dancing Queen']\n",
      "['The Smiths ', ' This Charming Man ', ' 2011 Remaster']\n",
      "['Frank Ocean ', ' Pyramids']\n",
      "['The Temptations ', ' My Girl ', ' Single Version/Mono']\n",
      "['Lana Del Rey ', ' Video Games']\n",
      "['Amy Winehouse ', ' Rehab']\n",
      "['Simon & Garfunkel ', ' The Sound of Silence ', ' Electric Version']\n",
      "['Simon & Garfunkel ', ' Bridge over Troubled Water']\n",
      "['The Police ', ' Every Breath You Take ', ' Remastered 2003']\n",
      "['Procol Harum ', ' A Whiter Shade Of Pale']\n",
      "['M83 ', ' Midnight City']\n",
      "['Rihanna ', ' Umbrella']\n",
      "['The Beatles ', ' She Loves You ', ' Remastered']\n",
      "['Rod Stewart ', ' Maggie May']\n",
      "['The Shirelles ', ' Will You Still Love Me Tomorrow']\n",
      "['Future Islands ', ' Seasons (Waiting On You)']\n",
      "['Madonna ', ' Like a Prayer']\n",
      "['Oasis ', ' Live Forever']\n",
      "['MGMT ', ' Time to Pretend']\n",
      "['Herbert Stothart ', ' Over the Rainbow (From \"The Wizard of Oz\")']\n",
      "['Roy Orbison ', ' Oh, Pretty Woman']\n",
      "['Madonna ', ' Like a Virgin']\n",
      "['Madonna ', ' Into the Groove']\n",
      "['Tame Impala ', ' Let It Happen']\n",
      "['Prince ', ' Purple Rain']\n",
      "['Kate Bush ', ' Wuthering Heights']\n",
      "['Bruce Springsteen ', ' Born In The U.S.A.']\n",
      "['MGMT ', ' Kids']\n",
      "['Soft Cell ', ' Tainted Love']\n",
      "['Prince ', ' Little Red Corvette']\n",
      "['Kylie Minogue ', \" Can't Get You out of My Head\"]\n",
      "['Animal Collective ', ' My Girls']\n",
      "['The Beatles ', ' Eleanor Rigby ', ' Remastered']\n",
      "[\"The La's \", ' There She Goes']\n",
      "['The Beatles ', ' Help! ', ' Remastered']\n",
      "['The Beatles ', ' In My Life ', ' Remastered']\n",
      "['Dionne Warwick ', ' Walk on By']\n",
      "['Billie Eilish ', ' bad guy']\n",
      "['Van Morrison ', ' Brown Eyed Girl']\n",
      "['Patsy Cline ', ' Crazy']\n",
      "['The Killers ', ' Mr. Brightside']\n",
      "['Del Shannon ', ' Runaway']\n",
      "['Fleetwood Mac ', ' Go Your Own Way']\n",
      "['FKA twigs ', ' Two Weeks']\n",
      "['The Beatles ', ' Penny Lane ', ' Remastered']\n",
      "['Britney Spears ', ' Toxic']\n",
      "['The Human League ', \" Don't You Want Me\"]\n",
      "['David Bowie ', ' Changes ', ' 1999 Remastered Version']\n",
      "['The Beatles ', ' Let It Be ', ' Remastered']\n",
      "['Adele ', ' Rolling in the Deep']\n",
      "['Glen Campbell ', ' Wichita Lineman ', ' Remastered 2001']\n",
      "['U2 ', ' With Or Without You ', ' Remastered']\n",
      "['The Shangri', 'Las ', ' Leader Of The Pack']\n",
      "['Frankie Goes To Hollywood ', ' Relax']\n",
      "['Kraftwerk ', ' The Model ', ' 2009 Remaster']\n",
      "['Arcade Fire ', ' Rebellion (Lies)']\n",
      "['The Beach Boys ', \" Don't Worry Baby (Mono)\"]\n",
      "['The Velvet Underground ', ' Sweet Jane']\n",
      "['Kate Bush ', ' Running Up That Hill (A Deal With God)']\n",
      "['Michael Jackson ', ' Beat It']\n",
      "['Love ', ' Alone Again Or']\n",
      "['Lorde ', ' Green Light']\n",
      "['Pink Floyd ', ' See Emily Play ', ' 2001 Remastered Version']\n",
      "['Grizzly Bear ', ' Two Weeks']\n",
      "['Blur ', ' Girls & Boys ', ' 2012 Remaster']\n",
      "['Dusty Springfield ', ' Son Of A Preacher Man']\n",
      "['The Beatles ', ' Something ', ' Remastered']\n",
      "['The Everly Brothers ', ' Bye Bye Love']\n",
      "['The Knife ', ' Heartbeats']\n",
      "['The Supremes ', ' Stop! In The Name Of Love']\n",
      "['Serge Gainsbourg ', \" Je t'aime moi non plus\"]\n",
      "['R.E.M. ', ' Radio Free Europe']\n",
      "['The Supremes ', ' Where Did Our Love Go ', ' Stereo Version']\n",
      "['Jackie Wilson ', ' (Your Love Keeps Lifting Me) Higher and Higher']\n",
      "['Arcade Fire ', ' Wake Up']\n",
      "[\"The Lovin' Spoonful \", ' Summer in the City ', ' Remastered']\n",
      "['Roy Orbison ', ' Only the Lonely (Know the Way I Feel)']\n",
      "['The Cure ', ' Just Like Heaven']\n",
      "['Eurythmics ', ' Sweet Dreams (Are Made of This) ', ' Remastered']\n",
      "['Peter Bjorn and John ', ' Young Folks']\n",
      "['Sharon Van Etten ', ' Seventeen']\n",
      "['Deee', 'Lite ', ' Groove Is in the Heart']\n",
      "['Bing Crosby ', ' White Christmas']\n",
      "['FKA twigs ', ' cellophane']\n",
      "['David Bowie ', ' Ashes to Ashes']\n",
      "['The Who ', ' I Can See For Miles ', ' Mono Version']\n",
      "['The Beach Boys ', ' I Get Around (Mono)']\n",
      "['The Beatles ', ' I Am The Walrus ', ' Remastered']\n",
      "['The Kinks ', ' Lola']\n",
      "['The Flaming Lips ', ' Do You Realize??']\n",
      "['R.E.M. ', \" It's The End Of The World As We Know It (And I Feel Fine)\"]\n",
      "['Phoenix ', ' 1901']\n",
      "['The Beatles ', ' Ticket To Ride ', ' Remastered']\n",
      "['Roy Orbison ', ' Crying']\n",
      "['Pet Shop Boys ', ' West End Girls ', ' 2001 Remaster']\n",
      "['Sufjan Stevens ', ' Chicago']\n",
      "['John Lennon ', ' Instant Karma! (We All Shine On) ', ' Remastered 2010']\n",
      "['Alanis Morissette ', ' You Oughta Know']\n",
      "['Don McLean ', ' American Pie']\n",
      "['Jefferson Airplane ', ' Somebody to Love']\n",
      "['The Beatles ', ' Come Together ', ' Remastered']\n",
      "['Prince ', ' 1999']\n",
      "['Bobby Darin ', ' Mack the Knife ', ' Edit; 2006 Remaster']\n",
      "['Kelly Clarkson ', ' Since U Been Gone']\n",
      "['Dolly Parton ', ' Jolene']\n",
      "['Van Morrison ', ' Moondance']\n",
      "['Van Halen ', ' Jump']\n",
      "['The Beatles ', ' Norwegian Wood (This Bird Has Flown) ', ' Remastered']\n",
      "['Cyndi Lauper ', ' Girls Just Want to Have Fun']\n",
      "['The Monkees ', \" I'm a Believer\"]\n",
      "['Gloria Gaynor ', ' I Will Survive ', ' Single Version']\n",
      "['The Police ', ' Roxanne ', ' Remastered 2003']\n",
      "['Queen ', ' Under Pressure']\n",
      "['U2 ', ' Pride (In The Name Of Love) ', ' Remastered 2009']\n",
      "['The Crystals ', ' Da Doo Ron Ron (When He Walked Me Home)']\n",
      "['New Order ', ' Bizarre Love Triangle']\n",
      "['The Miracles ', ' You Really Got A Hold On Me']\n",
      "['Little Eva ', ' The Loco', 'Motion']\n",
      "['Vampire Weekend ', ' Hannah Hunt']\n",
      "['The Postal Service ', ' Such Great Heights']\n",
      "['Laurie Anderson ', ' O Superman']\n",
      "['The Only Ones ', ' Another Girl, Another Planet ', ' 2008 re', 'mastered version']\n",
      "['Patti Smith ', ' Because the Night']\n",
      "['TLC ', ' No Scrubs']\n",
      "['The Everly Brothers ', ' All I Have to Do Is Dream ', ' Single Version; 2006 Remaster']\n",
      "['Dexys Midnight Runners ', ' Come On Eileen']\n",
      "['George Harrison ', ' My Sweet Lord ', ' 2001 Digital Remaster']\n",
      "['Depeche Mode ', ' Enjoy the Silence']\n",
      "['The Shins ', ' New Slang']\n",
      "['Antony and the Johnsons ', \" Hope There's Someone\"]\n",
      "['Carly Rae Jepsen ', ' Run Away With Me']\n",
      "['The Beatles ', \" A Hard Day's Night \", ' Remastered']\n",
      "['Perfume Genius ', ' Queen']\n",
      "['Elton John ', ' Your Song']\n",
      "['David Bowie ', ' Starman ', ' 2012 Remastered Version']\n",
      "['Janelle Monáe ', ' Make Me Feel']\n",
      "['The xx ', ' Crystalised']\n",
      "['The Box Tops ', ' The Letter']\n",
      "['R.E.M. ', ' Everybody Hurts']\n",
      "['James Taylor ', ' Fire and Rain']\n",
      "['David Bowie ', ' Young Americans ', ' 2007 Remaster']\n",
      "['Big Star ', ' September Gurls']\n",
      "['The Everly Brothers ', \" Cathy's Clown \", ' Single Version; 2006 Remaster']\n",
      "['Coldplay ', ' Viva La Vida']\n",
      "['Frank Ocean ', ' Nights']\n",
      "['Elvis Costello ', ' Alison']\n",
      "['Justin Timberlake ', ' Cry Me a River']\n",
      "['The Velvet Underground ', ' Rock & Roll']\n",
      "['Nancy Sinatra ', \" These Boots Are Made for Walkin'\"]\n",
      "['The Supremes ', \" You Can't Hurry Love\"]\n",
      "['Ariel Pink ', ' Round And Round']\n",
      "['Lizzo ', ' Juice']\n",
      "['Cyndi Lauper ', ' Time After Time']\n",
      "['Rihanna ', ' We Found Love']\n",
      "['Lou Reed ', ' Perfect Day']\n",
      "['Coldplay ', ' Yellow']\n",
      "['Carole King ', \" It's Too Late\"]\n",
      "['Phil Collins ', ' In The Air Tonight']\n",
      "['10cc ', \" I'm Not In Love\"]\n",
      "['Tammy Wynette ', ' Stand By Your Man']\n",
      "['The Everly Brothers ', ' Wake up Little Susie ', ' Single Version; 2006 Remaster']\n",
      "['The Righteous Brothers ', ' Unchained Melody']\n",
      "['R.E.M. ', ' The One I Love']\n",
      "['Madonna ', ' Ray of Light']\n",
      "['Ariana Grande ', ' thank u, next']\n",
      "['Britney Spears ', ' ...Baby One More Time']\n",
      "['Madonna ', ' Vogue']\n",
      "['U2 ', \" I Still Haven't Found What I'm Looking For \", ' Remastered 2007']\n",
      "['Fleetwood Mac ', ' Dreams']\n",
      "['The Crystals ', \" He's a Rebel\"]\n",
      "['The Easybeats ', ' Friday On My Mind']\n",
      "['ROSALÍA ', ' MALAMENTE ', ' Cap.1: Augurio']\n",
      "['Sly & The Family Stone ', ' Everyday People']\n",
      "['TLC ', ' Waterfalls']\n",
      "['a', 'ha ', ' Take on Me']\n",
      "['Sky Ferreira ', ' Everything Is Embarrassing']\n",
      "['Clairo ', ' Bags']\n",
      "[\"The Lovin' Spoonful \", ' Do You Believe in Magic?']\n",
      "['The Pogues ', ' Fairytale of New York (feat. Kirsty MacColl)']\n",
      "['Arcade Fire ', ' Sprawl II (Mountains Beyond Mountains)']\n",
      "['Phoenix ', ' Lisztomania']\n",
      "['The Police ', ' Message In A Bottle']\n",
      "['LCD Soundsystem ', ' Someone Great']\n",
      "['Simon & Garfunkel ', ' The Boxer']\n",
      "['Depeche Mode ', ' Personal Jesus']\n",
      "['Big Star ', ' Thirteen']\n",
      "['U2 ', ' Where The Streets Have No Name ', ' Remastered 2007']\n",
      "['Soul II Soul ', ' Back To Life (However Do You Want Me) [feat. Caron Wheeler] ', ' 2003 Remastered Version']\n",
      "['The Beatles ', ' All You Need Is Love ', ' Remastered']\n",
      "['Louis Armstrong ', ' What A Wonderful World']\n",
      "['Wilco ', ' Jesus, Etc.']\n",
      "['Julie London ', ' Cry Me A River']\n",
      "['Cornershop ', ' Brimful of Asha']\n",
      "['Bat For Lashes ', ' Daniel']\n",
      "['Robert Wyatt ', ' Shipbuilding ', ' Remastered in 1998']\n",
      "['Sia ', ' Chandelier']\n",
      "['The Beatles ', ' Paperback Writer ', ' Remastered']\n",
      "['David Bowie ', \" Let's Dance \", ' 1999 Remaster']\n",
      "['Elbow ', ' One Day Like This']\n",
      "['The Tornados ', ' Telstar ', ' Remastered']\n",
      "['Tracy Chapman ', ' Fast Car']\n",
      "['Roxy Music ', ' More Than This']\n",
      "['Solange ', ' Losing You']\n",
      "['Leonard Cohen ', ' Hallelujah']\n",
      "['Paul McCartney ', ' Maybe I’m Amazed ', ' Remastered 2011']\n",
      "['New Order ', ' True Faith ', ' 2015 Remaster']\n",
      "['Vampire Weekend ', ' A', 'Punk']\n",
      "['The Buggles ', ' Video Killed The Radio Star']\n",
      "['The Rolling Stones ', ' Miss You ', ' Remastered']\n",
      "['The Beatles ', ' Here Comes The Sun ', ' Remastered']\n",
      "['Charli XCX ', ' Gone']\n",
      "['Lady Gaga ', ' Bad Romance']\n",
      "['The Marvelettes ', ' Please Mr. Postman ', ' Single Version / Mono']\n",
      "['Beyoncé ', ' Single Ladies (Put a Ring on It)']\n",
      "['Don Henley ', ' The Boys Of Summer']\n",
      "['Alvvays ', ' Archie, Marry Me']\n",
      "['The 1975 ', ' Love It If We Made It']\n",
      "['The Byrds ', ' Turn! Turn! Turn! (To Everything There Is a Season)']\n",
      "['Les Paul ', ' How High The Moon']\n",
      "['Cheap Trick ', ' Surrender']\n",
      "['Carly Rae Jepsen ', ' Call Me Maybe']\n",
      "['Tame Impala ', ' Feels Like We Only Go Backwards']\n",
      "['Justin Timberlake ', ' My Love ', ' Single Version']\n",
      "['The Rolling Stones ', \" Let's Spend The Night Together \", ' Stereo Version']\n",
      "['Freda Payne ', ' Band Of Gold (Single Mix)']\n",
      "['Morrissey ', ' Everyday Is Like Sunday']\n",
      "['Bon Jovi ', \" Livin' On A Prayer\"]\n",
      "['Weezer ', ' Buddy Holly']\n",
      "['Oasis ', \" Don't Look Back In Anger\"]\n",
      "['Whitney Houston ', ' I Wanna Dance with Somebody (Who Loves Me)']\n",
      "['Santigold ', ' L.E.S Artistes']\n",
      "['The Who ', ' Substitute ', ' Single Version']\n",
      "['The Sugarcubes ', ' Birthday']\n",
      "['Martha Reeves & The Vandellas ', ' (Love Is Like A) Heat Wave ', ' Single Version']\n",
      "['Gary Numan ', ' Cars ', ' Remastered 2009']\n",
      "['Patsy Cline ', ' I Fall To Pieces ', ' Single Version']\n",
      "['John Lennon ', ' Jealous Guy ', ' Remastered 2010']\n",
      "['The Flaming Lips ', ' Race For The Prize']\n",
      "['The Beatles ', ' Lucy In The Sky With Diamonds ', ' Remastered']\n",
      "['Coldplay ', ' Clocks']\n",
      "['The Temptations ', ' Just My Imagination (Running Away With Me)']\n",
      "['Bob Seger ', ' Night Moves']\n",
      "['Tom Petty and the Heartbreakers ', ' American Girl']\n",
      "['Radiohead ', ' Everything in Its Right Place']\n",
      "['Bobbie Gentry ', ' Ode To Billie Joe']\n",
      "['George Michael ', ' Faith ', ' Remastered']\n",
      "['The Beach Boys ', \" Surfin' Usa\"]\n",
      "['Simon & Garfunkel ', ' America ', ' Single Mix']\n",
      "['The Beach Boys ', \" Surf's Up \", ' Remastered 2009']\n",
      "['Michael Jackson ', ' Thriller']\n",
      "['The Knack ', ' My Sharona']\n",
      "['Nancy Sinatra ', ' Some Velvet Morning']\n",
      "['Everything But The Girl ', ' Missing ', ' Todd Terry Remix / Radio Edit']\n",
      "['Smokey Robinson & The Miracles ', ' The Tears Of A Clown ', ' Single Version / Mono']\n",
      "['Tom Petty ', \" Free Fallin'\"]\n",
      "['Sonny & Cher ', ' I Got You Babe']\n",
      "['The Left Banke ', ' Walk Away Renee']\n",
      "['The Weeknd ', \" Can't Feel My Face\"]\n",
      "['Peter Gabriel ', ' Solsbury Hill']\n",
      "['Madonna ', ' Borderline']\n",
      "['Elton John ', ' Goodbye Yellow Brick Road']\n",
      "['Elvis Costello & The Attractions ', \" Oliver's Army\"]\n",
      "['Simon & Garfunkel ', ' Mrs. Robinson']\n",
      "['Elton John ', ' Tiny Dancer']\n",
      "['Elvis Presley ', ' In the Ghetto']\n",
      "['U2 ', ' Beautiful Day']\n",
      "['Michael Jackson ', ' Rock with You ', ' Single Version']\n",
      "['Ben E. King ', ' Spanish Harlem']\n",
      "['M.I.A. ', ' Galang']\n",
      "['Björk ', ' Hyperballad']\n",
      "['The Zombies ', \" She's Not There\"]\n",
      "['Dirty Projectors ', ' Stillness Is The Move']\n",
      "['Bruce Springsteen ', ' Dancing In The Dark']\n",
      "['The Beach Boys ', ' California Girls ', ' Remix/Remastered 2001']\n",
      "['Tommy James & The Shondells ', ' Crimson & Clover']\n",
      "['The Beatles ', ' Across The Universe ', ' Remastered']\n",
      "['Weezer ', \" Say It Ain't So\"]\n",
      "['The Walker Brothers ', \" The Sun Ain't Gonna Shine Anymore \", ' Mono Version']\n",
      "['Neil Young ', ' After the Gold Rush']\n",
      "['Harry Nilsson ', \" Everybody's Talkin' \", ' From \"Midnight Cowboy\"']\n",
      "['Blondie ', ' Call Me']\n",
      "['Carly Simon ', \" You're So Vain\"]\n",
      "['Oasis ', ' Champagne Supernova']\n",
      "['Kings of Leon ', ' Sex on Fire']\n",
      "['Roy Orbison ', ' In Dreams']\n",
      "['The Clash ', ' Train in Vain']\n",
      "['Mitski ', ' Nobody']\n",
      "['Peter Gabriel ', ' Sledgehammer']\n",
      "['Crowded House ', \" Don't Dream It's Over\"]\n",
      "['Feist ', ' 1234']\n",
      "['Nicki Minaj ', ' Super Bass']\n",
      "['Queen ', ' We Will Rock You']\n",
      "['Taylor Swift ', ' Blank Space']\n",
      "['Billy Joel ', ' Piano Man']\n",
      "['New Radicals ', ' You Get What You Give']\n",
      "['Tears For Fears ', ' Everybody Wants To Rule The World']\n",
      "['George Jones ', ' He Stopped Loving Her Today ', ' Single Version']\n",
      "['The Beatles ', ' I Saw Her Standing There ', ' Remastered']\n",
      "['The Supremes ', \" You Keep Me Hangin' On \", ' Album Version / Stereo']\n",
      "['Randy Newman ', ' Sail Away ', ' 2002 Remaster']\n",
      "['Frank Sinatra ', ' My Way']\n",
      "['Oasis ', ' Supersonic']\n",
      "['Mary Wells ', ' My Guy ', ' Single Version']\n",
      "['Hot Chip ', ' Boy From School']\n",
      "['Paul McCartney ', ' Band On The Run ', ' Remastered 2010']\n",
      "['Coldplay ', ' The Scientist']\n",
      "['Neneh Cherry ', ' Buffalo Stance']\n",
      "['Loretta Lynn ', \" Coal Miner's Daughter \", ' Single Version']\n",
      "['Marvin Gaye ', \" Ain't No Mountain High Enough \", ' Stereo Version']\n",
      "['The Velvet Underground ', ' Sunday Morning']\n",
      "['Joni Mitchell ', ' Big Yellow Taxi']\n",
      "['Bruce Springsteen ', ' Jungleland']\n",
      "['Leonard Cohen ', ' You Want It Darker']\n",
      "['Gary Numan ', \" Are 'Friends' Electric?\"]\n",
      "['Queen ', ' We Are The Champions ', ' Remastered 2011']\n",
      "['DEVO ', ' Whip It']\n",
      "['The Rolling Stones ', ' Ruby Tuesday ', ' Stereo Version']\n",
      "['Panda Bear ', \" Bro's\"]\n",
      "['James Blake ', ' The Wilhelm Scream']\n",
      "['Suede ', ' Animal Nitrate (Remastered)']\n",
      "['Culture Club ', ' Do You Really Want To Hurt Me']\n",
      "['The Beatles ', \" You've Got To Hide Your Love Away \", ' Remastered']\n",
      "['Disclosure ', ' Latch']\n",
      "['Air ', ' Sexy Boy']\n",
      "['The Zombies ', ' Time of the Season']\n",
      "['Elvis Presley ', ' Love Me Tender ', ' From the 20th Century', 'Fox CinemaScope Production \"Love Me Tender\"']\n",
      "['Dion & The Belmonts ', ' A Teenager In Love']\n",
      "['Carpenters ', ' Superstar']\n",
      "['Elliott Smith ', ' Waltz #2 (XO)']\n",
      "['Sam Cooke ', ' Wonderful World']\n",
      "['Madonna ', ' Hung Up']\n",
      "['Johnnie Ray ', ' Cry']\n",
      "['Journey ', \" Don't Stop Believin'\"]\n",
      "['Aretha Franklin ', ' (You Make Me Feel Like) A Natural Woman']\n",
      "['Elton John ', \" Rocket Man (I Think It's Going To Be A Long Long Time)\"]\n",
      "['Yeah Yeah Yeahs ', ' Zero']\n",
      "['Klaxons ', ' Golden Skans']\n",
      "['The Beach Boys ', \" Wouldn't It Be Nice \", ' Mono']\n",
      "['The Contours ', ' Do You Love Me ', ' Mono Single']\n",
      "['Sister Sledge ', ' We Are Family ', ' 1995 Remaster']\n",
      "['Spice Girls ', ' Wannabe']\n",
      "['Stevie Wonder ', \" Uptight (Everything's Alright) \", ' Single Version']\n",
      "['Vampire Weekend ', ' Harmony Hall']\n",
      "['The Beatles ', ' Golden Slumbers ', ' Remastered']\n",
      "['Green Day ', ' Good Riddance (Time of Your Life)']\n",
      "['Suzanne Vega ', ' Luka']\n",
      "['The Crystals ', ' Then He Kissed Me']\n",
      "['Joni Mitchell ', ' Help Me']\n",
      "['Tina Turner ', \" What's Love Got To Do WIth It \", ' 1997 Digital Remaster']\n",
      "['ABBA ', ' The Winner Takes It All']\n",
      "['The Supremes ', ' Baby Love ', ' Mono']\n",
      "['The Yardbirds ', ' For Your Love']\n",
      "['The Beatles ', ' Please Please Me ', ' Remastered']\n",
      "['Daryl Hall & John Oates ', \" She's Gone\"]\n",
      "['The Beatles ', ' Rain ', ' Remastered']\n",
      "['The Drifters ', ' Up on the Roof ', ' Single Version; 2017 Remaster']\n",
      "['Talking Heads ', ' Burning Down the House ', ' 2005 Remaster']\n",
      "['The Young Rascals ', \" Good Lovin' \", ' Single Version']\n",
      "['Stevie Wonder ', ' Sir Duke']\n",
      "[\"Destiny's Child \", ' Say My Name']\n",
      "['Jackie Wilson ', ' Lonely Teardrops']\n",
      "['The Drifters ', ' Save the Last Dance for Me ', ' 2009 Remaster']\n",
      "['Various Artists ', ' Itchycoo Park']\n",
      "['Robyn ', ' With Every Heartbeat ', ' with Kleerup']\n",
      "['Wings ', ' Live and Let Die']\n",
      "['Ray Charles ', \" I Can't Stop Loving You\"]\n",
      "['Madonna ', ' Music']\n",
      "['The Turtles ', ' Happy Together']\n",
      "['Robyn ', ' Honey']\n",
      "['Katy Perry ', ' Teenage Dream']\n",
      "['Danny & The Juniors ', ' At The Hop']\n",
      "['Chaka Khan ', ' I Feel for You']\n",
      "['The Cars ', ' Just What I Needed']\n",
      "['Queen ', ' Killer Queen ', ' Remastered 2011']\n",
      "['Steely Dan ', \" Reelin' In The Years\"]\n",
      "['Edwyn Collins ', ' A Girl Like You']\n",
      "['Chris Isaak ', ' Wicked Game']\n",
      "['Madonna ', ' Holiday']\n",
      "['Simple Minds ', \" Don't You (Forget About Me)\"]\n",
      "['The Beatles ', ' Blackbird ', ' Remastered']\n",
      "['New Order ', ' Regret']\n",
      "['The Kinks ', ' Sunny Afternoon']\n",
      "['Pet Shop Boys ', \" It's a Sin \", ' 2001 Remaster']\n",
      "['Four Tops ', ' I Can’t Help Myself (Sugar Pie, Honey Bunch)']\n",
      "['The Beach Boys ', ' In My Room ', ' Remastered']\n",
      "['Snail Mail ', ' Pristine']\n",
      "['The Temptations ', \" Ain't Too Proud To Beg\"]\n",
      "['The Drifters ', ' On Broadway ', ' 2018 Remaster']\n",
      "['Elastica ', ' Connection']\n",
      "['Foreigner ', ' I Want to Know What Love Is ', ' 1999 Remaster']\n",
      "['Bob Dylan ', ' I Want You']\n",
      "['Madness ', ' Our House (Remastered)']\n",
      "['The Doobie Brothers ', ' What a Fool Believes']\n",
      "['Eels ', ' Novocaine For The Soul']\n",
      "['Beach House ', ' Myth']\n",
      "['ABBA ', ' Waterloo']\n",
      "['Frankie Goes To Hollywood ', ' Two Tribes']\n",
      "['Vampire Weekend ', ' Step']\n",
      "['Adele ', ' Someone Like You']\n",
      "['Brigitte Bardot ', ' Bonnie And Clyde']\n",
      "['The Moody Blues ', ' The Night']\n",
      "['Millie Small ', ' My Boy Lollipop']\n",
      "['Harry Nilsson ', ' Without You ', ' Remastered']\n",
      "['Justin Bieber ', ' Sorry']\n",
      "['Bruce Springsteen ', \" I'm On Fire\"]\n",
      "['Amy Winehouse ', ' Back To Black']\n",
      "['Bronski Beat ', ' Smalltown Boy']\n",
      "['The Jam ', ' The Eton Rifles']\n",
      "[\"Flamin' Groovies \", ' Shake Some Action']\n",
      "['Lily Allen ', ' Smile']\n",
      "['The Go', \"Go's \", ' Our Lips Are Sealed ', ' 2011 Remaster']\n",
      "['Warren Zevon ', ' Werewolves of London']\n",
      "['Mitch Ryder and The Detroit Wheels ', ' Devil with a Blue Dress On / Good Golly Miss Molly (Medley)']\n",
      "['Arcade Fire ', ' Neighborhood #1 (Tunnels)']\n",
      "['The Beatles ', ' We Can Work It Out ', ' Remastered']\n",
      "['Depeche Mode ', \" Just Can't Get Enough \", ' 2006 Digital Remaster']\n",
      "['The Beatles ', ' Day Tripper ', ' Remastered']\n",
      "['Lana Del Rey ', ' The greatest']\n",
      "['Bachman', 'Turner Overdrive ', \" You Ain't Seen Nothing Yet\"]\n",
      "['Manic Street Preachers ', ' A Design for Life']\n",
      "['Elvis Costello & The Attractions ', ' Radio, Radio']\n",
      "['St. Vincent ', ' Digital Witness']\n",
      "['The Killers ', \" All These Things That I've Done\"]\n",
      "['George McCrae ', ' Rock Your Baby']\n",
      "['Doris Day ', ' Sentimental Journey']\n",
      "['Roger Miller ', ' King Of The Road']\n",
      "['David Bowie ', ' Modern Love ', ' 1999 Remaster']\n",
      "['Sly & The Family Stone ', ' I Want to Take You Higher']\n",
      "['Elton John ', ' Bennie And The Jets ', ' Remastered 2014']\n",
      "['Electric Light Orchestra ', ' Mr. Blue Sky']\n",
      "['The B', \"52's \", ' Love Shack']\n",
      "['HAIM ', ' The Wire']\n",
      "['The Jam ', ' Town Called Malice']\n",
      "['The Cure ', \" Friday I'm In Love\"]\n",
      "['INXS ', ' Need You Tonight']\n",
      "['Taylor Swift ', ' All Too Well']\n",
      "['Autre Ne Veut ', ' Play by Play']\n",
      "['Patsy Cline ', \" Walkin' After Midnight\"]\n",
      "['The Velvet Underground ', ' Pale Blue Eyes']\n",
      "['The Human League ', ' Being Boiled ', ' Fast Version / 2003 Digital Remaster']\n",
      "['Carole King ', \" You've Got a Friend\"]\n",
      "['Madonna ', ' Material Girl']\n",
      "['The Beatles ', \" Can't Buy Me Love \", ' Remastered']\n",
      "['ANOHNI ', ' Drone Bomb Me']\n",
      "['Gotye ', ' Somebody That I Used To Know']\n",
      "['The Chiffons ', \" He's So Fine\"]\n",
      "['Fine Young Cannibals ', ' She Drives Me Crazy']\n",
      "['Gene Kelly ', \" Singin' in the Rain\"]\n",
      "['Sly & The Family Stone ', ' Hot Fun in the Summertime']\n",
      "['Paul Simon ', ' Graceland']\n",
      "['Kate Bush ', ' Hounds Of Love']\n",
      "['Fleetwood Mac ', ' The Chain']\n",
      "['The Smiths ', ' Bigmouth Strikes Again ', ' 2011 Remaster']\n",
      "['Bryan Adams ', \" Summer Of '69\"]\n",
      "['Joni Mitchell ', ' Free Man in Paris']\n",
      "['Archie Bell & The Drells ', ' Tighten Up']\n",
      "['Fiona Apple ', ' Criminal']\n"
     ]
    }
   ],
   "source": [
    "for song in pop_song_list[:500]:\n",
    "    info = song.split('-')\n",
    "    print(info)"
   ],
   "metadata": {
    "collapsed": false,
    "ExecuteTime": {
     "end_time": "2024-05-20T01:41:32.399001200Z",
     "start_time": "2024-05-20T01:41:32.386440500Z"
    }
   },
   "id": "84d8e291ce8274bb",
   "execution_count": 5
  },
  {
   "cell_type": "code",
   "outputs": [],
   "source": [
    "rock_df = song_list_to_df(rock_song_list, \"Rock\")\n",
    "hiphop_df = song_list_to_df(hiphop_song_list, \"Hiphop\")\n",
    "country_df = song_list_to_df(country_song_list, \"Country\")\n",
    "rnb_df = song_list_to_df(rnb_song_list, \"RnB\")\n",
    "singersongwriter_df = song_list_to_df(singersongwriter_song_list, \"Singer/Songwriter\")\n",
    "pop_df = song_list_to_df(pop_song_list[:500], \"Pop\")"
   ],
   "metadata": {
    "collapsed": false,
    "ExecuteTime": {
     "end_time": "2024-05-20T01:41:54.840666200Z",
     "start_time": "2024-05-20T01:41:54.826433200Z"
    }
   },
   "id": "c2f89ec58596de6c",
   "execution_count": 7
  },
  {
   "cell_type": "code",
   "outputs": [
    {
     "data": {
      "text/plain": "                        artist                              title genre\n0                 The Beatles                  A Day In The Life    Pop\n1              The Beach Boys              Good Vibrations (Mono)   Pop\n2                The Ronettes                          Be My Baby   Pop\n3                 Marvin Gaye    I Heard It Through The Grapevine   Pop\n4             Michael Jackson                         Billie Jean   Pop\n..                         ...                                ...   ...\n495                The Smiths             Bigmouth Strikes Again    Pop\n496               Bryan Adams                       Summer Of '69   Pop\n497             Joni Mitchell                   Free Man in Paris   Pop\n498  Archie Bell & The Drells                          Tighten Up   Pop\n499               Fiona Apple                            Criminal   Pop\n\n[500 rows x 3 columns]",
      "text/html": "<div>\n<style scoped>\n    .dataframe tbody tr th:only-of-type {\n        vertical-align: middle;\n    }\n\n    .dataframe tbody tr th {\n        vertical-align: top;\n    }\n\n    .dataframe thead th {\n        text-align: right;\n    }\n</style>\n<table border=\"1\" class=\"dataframe\">\n  <thead>\n    <tr style=\"text-align: right;\">\n      <th></th>\n      <th>artist</th>\n      <th>title</th>\n      <th>genre</th>\n    </tr>\n  </thead>\n  <tbody>\n    <tr>\n      <th>0</th>\n      <td>The Beatles</td>\n      <td>A Day In The Life</td>\n      <td>Pop</td>\n    </tr>\n    <tr>\n      <th>1</th>\n      <td>The Beach Boys</td>\n      <td>Good Vibrations (Mono)</td>\n      <td>Pop</td>\n    </tr>\n    <tr>\n      <th>2</th>\n      <td>The Ronettes</td>\n      <td>Be My Baby</td>\n      <td>Pop</td>\n    </tr>\n    <tr>\n      <th>3</th>\n      <td>Marvin Gaye</td>\n      <td>I Heard It Through The Grapevine</td>\n      <td>Pop</td>\n    </tr>\n    <tr>\n      <th>4</th>\n      <td>Michael Jackson</td>\n      <td>Billie Jean</td>\n      <td>Pop</td>\n    </tr>\n    <tr>\n      <th>...</th>\n      <td>...</td>\n      <td>...</td>\n      <td>...</td>\n    </tr>\n    <tr>\n      <th>495</th>\n      <td>The Smiths</td>\n      <td>Bigmouth Strikes Again</td>\n      <td>Pop</td>\n    </tr>\n    <tr>\n      <th>496</th>\n      <td>Bryan Adams</td>\n      <td>Summer Of '69</td>\n      <td>Pop</td>\n    </tr>\n    <tr>\n      <th>497</th>\n      <td>Joni Mitchell</td>\n      <td>Free Man in Paris</td>\n      <td>Pop</td>\n    </tr>\n    <tr>\n      <th>498</th>\n      <td>Archie Bell &amp; The Drells</td>\n      <td>Tighten Up</td>\n      <td>Pop</td>\n    </tr>\n    <tr>\n      <th>499</th>\n      <td>Fiona Apple</td>\n      <td>Criminal</td>\n      <td>Pop</td>\n    </tr>\n  </tbody>\n</table>\n<p>500 rows × 3 columns</p>\n</div>"
     },
     "execution_count": 8,
     "metadata": {},
     "output_type": "execute_result"
    }
   ],
   "source": [
    "pop_df"
   ],
   "metadata": {
    "collapsed": false,
    "ExecuteTime": {
     "end_time": "2024-05-20T01:41:56.608226600Z",
     "start_time": "2024-05-20T01:41:56.590854400Z"
    }
   },
   "id": "1f856639396bd0aa",
   "execution_count": 8
  },
  {
   "cell_type": "code",
   "outputs": [
    {
     "data": {
      "text/plain": "                         artist  \\\n0                    Bob Dylan    \n1                      Nirvana    \n2                  The Beatles    \n3                  Chuck Berry    \n4           The Rolling Stones    \n...                         ...   \n7772  The Alan Parsons Project    \n7773                      Eloy    \n7774                      Eloy    \n7775             Dream Theater    \n7776              Night Ranger    \n\n                                                  title genre  \n0                                  Like a Rolling Stone  Rock  \n1                               Smells Like Teen Spirit  Rock  \n2                                    A Day In The Life   Rock  \n3                                        Johnny B Goode  Rock  \n4                        (I Can't Get No) Satisfaction   Rock  \n...                                                 ...   ...  \n7772                                         The Raven   Rock  \n7773   The Apocalypse: Silent Cries Divide The Night...  Rock  \n7774                                 Point of No Return  Rock  \n7775                                        Metropolis   Rock  \n7776                          Don't Tell Me You Love Me  Rock  \n\n[7777 rows x 3 columns]",
      "text/html": "<div>\n<style scoped>\n    .dataframe tbody tr th:only-of-type {\n        vertical-align: middle;\n    }\n\n    .dataframe tbody tr th {\n        vertical-align: top;\n    }\n\n    .dataframe thead th {\n        text-align: right;\n    }\n</style>\n<table border=\"1\" class=\"dataframe\">\n  <thead>\n    <tr style=\"text-align: right;\">\n      <th></th>\n      <th>artist</th>\n      <th>title</th>\n      <th>genre</th>\n    </tr>\n  </thead>\n  <tbody>\n    <tr>\n      <th>0</th>\n      <td>Bob Dylan</td>\n      <td>Like a Rolling Stone</td>\n      <td>Rock</td>\n    </tr>\n    <tr>\n      <th>1</th>\n      <td>Nirvana</td>\n      <td>Smells Like Teen Spirit</td>\n      <td>Rock</td>\n    </tr>\n    <tr>\n      <th>2</th>\n      <td>The Beatles</td>\n      <td>A Day In The Life</td>\n      <td>Rock</td>\n    </tr>\n    <tr>\n      <th>3</th>\n      <td>Chuck Berry</td>\n      <td>Johnny B Goode</td>\n      <td>Rock</td>\n    </tr>\n    <tr>\n      <th>4</th>\n      <td>The Rolling Stones</td>\n      <td>(I Can't Get No) Satisfaction</td>\n      <td>Rock</td>\n    </tr>\n    <tr>\n      <th>...</th>\n      <td>...</td>\n      <td>...</td>\n      <td>...</td>\n    </tr>\n    <tr>\n      <th>7772</th>\n      <td>The Alan Parsons Project</td>\n      <td>The Raven</td>\n      <td>Rock</td>\n    </tr>\n    <tr>\n      <th>7773</th>\n      <td>Eloy</td>\n      <td>The Apocalypse: Silent Cries Divide The Night...</td>\n      <td>Rock</td>\n    </tr>\n    <tr>\n      <th>7774</th>\n      <td>Eloy</td>\n      <td>Point of No Return</td>\n      <td>Rock</td>\n    </tr>\n    <tr>\n      <th>7775</th>\n      <td>Dream Theater</td>\n      <td>Metropolis</td>\n      <td>Rock</td>\n    </tr>\n    <tr>\n      <th>7776</th>\n      <td>Night Ranger</td>\n      <td>Don't Tell Me You Love Me</td>\n      <td>Rock</td>\n    </tr>\n  </tbody>\n</table>\n<p>7777 rows × 3 columns</p>\n</div>"
     },
     "execution_count": 9,
     "metadata": {},
     "output_type": "execute_result"
    }
   ],
   "source": [
    "rock_df"
   ],
   "metadata": {
    "collapsed": false,
    "ExecuteTime": {
     "end_time": "2024-05-20T01:41:58.763961300Z",
     "start_time": "2024-05-20T01:41:58.744429500Z"
    }
   },
   "id": "8979e047353d575e",
   "execution_count": 9
  },
  {
   "cell_type": "markdown",
   "source": [
    "Need a way to combat duplicates in genres"
   ],
   "metadata": {
    "collapsed": false
   },
   "id": "b2e6ee537275f184"
  },
  {
   "cell_type": "code",
   "outputs": [
    {
     "data": {
      "text/plain": "artist\nLed Zeppelin         51\nAC/DC                30\nMetallica            30\nNirvana              27\nJimi Hendrix         25\n                     ..\nJoan Armatrading      1\nAustralian Crawl      1\nSputniks              1\nKim Gordon            1\nHuman Flotsam         1\nName: count, Length: 2183, dtype: int64"
     },
     "execution_count": 166,
     "metadata": {},
     "output_type": "execute_result"
    }
   ],
   "source": [
    "mask = ~rock_df['title'].isin(pop_df['title'])\n",
    "mask\n",
    "rock_df_filtered =  rock_df[mask]\n",
    "rock_df_filtered['artist'].value_counts()"
   ],
   "metadata": {
    "collapsed": false,
    "ExecuteTime": {
     "end_time": "2024-05-15T10:22:37.968920600Z",
     "start_time": "2024-05-15T10:22:37.952206800Z"
    }
   },
   "id": "d999e849010de108",
   "execution_count": 166
  },
  {
   "cell_type": "markdown",
   "source": [
    "Look into this more.."
   ],
   "metadata": {
    "collapsed": false
   },
   "id": "ba61d0b674d953e5"
  },
  {
   "cell_type": "code",
   "outputs": [
    {
     "data": {
      "text/plain": "artist\nThe Beatles            112\nThe Rolling Stones     102\nDavid Bowie             73\nBob Dylan               69\nBruce Springsteen       63\n                      ... \nPeter Murphy             1\nLooking Glass            1\nConnie Francis           1\nMontrose                 1\nHuman Flotsam            1\nName: count, Length: 2382, dtype: int64"
     },
     "execution_count": 167,
     "metadata": {},
     "output_type": "execute_result"
    }
   ],
   "source": [
    "rock_df['artist'].value_counts()"
   ],
   "metadata": {
    "collapsed": false,
    "ExecuteTime": {
     "end_time": "2024-05-15T10:22:41.905676500Z",
     "start_time": "2024-05-15T10:22:41.895634400Z"
    }
   },
   "id": "5397b5d6696731c4",
   "execution_count": 167
  },
  {
   "cell_type": "markdown",
   "source": [
    "## Turning song artist/titles to URLs"
   ],
   "metadata": {
    "collapsed": false
   },
   "id": "e7968b7761a52816"
  },
  {
   "cell_type": "code",
   "outputs": [],
   "source": [],
   "metadata": {
    "collapsed": false
   },
   "id": "21fcc5f5f701e15f"
  },
  {
   "cell_type": "markdown",
   "source": [
    "## Scraping"
   ],
   "metadata": {
    "collapsed": false
   },
   "id": "20378758ef32bea4"
  },
  {
   "cell_type": "code",
   "outputs": [],
   "source": [
    "def get_lyrics(song_url):\n",
    "    '''When given a URL, scrape song lyrics from AZLyrcs'''\n",
    "    song = urlopen(song_url)\n",
    "    soup = BeautifulSoup(song.read(), \"html.parser\")\n",
    "    lyrics = soup.find_all(\"div\")[22].get_text()\n",
    "    return lyrics\n"
   ],
   "metadata": {
    "collapsed": false,
    "ExecuteTime": {
     "end_time": "2024-05-20T02:38:44.115061200Z",
     "start_time": "2024-05-20T02:38:44.097115800Z"
    }
   },
   "id": "d5e711a384f4eab7",
   "execution_count": 78
  },
  {
   "cell_type": "code",
   "outputs": [
    {
     "name": "stdout",
     "output_type": "stream",
     "text": [
      "\n",
      "\r\n",
      "Thugger\n",
      "The Thugger, baby, yeah\n",
      "(Young Metro, Young Metro, Young Metro)\n",
      "Metro! Hee\n",
      "Young Metro, Young Metro, Young Metro\n",
      "And what?\n",
      "(Metro Boomin want some more, nigga)\n",
      "\n",
      "Shit, shoot him in his back like Ricky but not Slick\n",
      "Spent like seven bands on a tri-color pit\n",
      "All my signs red like a stop, nigga, no pit\n",
      "I'm on the purple, nigga, high like fuckin' Martians, whoa\n",
      "In a foreign yesterday, I was just walkin', whoa\n",
      "Left my baby mama, now my bitch a Barbie, whoa\n",
      "All-red Dickies suit, I'm ridin' down Slauson, whoa (skrt)\n",
      "Yeah, yeah, yeah, yeah\n",
      "Hercu-Hercules (whoa, yeah, yeah, hey, hey)\n",
      "Hercu-Hercules (heeh, heeh, yay, heeh, heeh)\n",
      "Hercu-Hercules (ooh, yah, yaaaaah, yeah, yeah)\n",
      "Hercu-Hercules (I got, I got, I got lean)\n",
      "\n",
      "I smoke gas, that's that Hercules (strong marijuana)\n",
      "She looked at him, oh, now she watchin' me (Bitch likes my persona)\n",
      "Bitch, I'm speedin' to that guapanese (skrrt)\n",
      "Old Chevy mounted up, I can't forget the T\n",
      "Drop the top, shoot birds at the officers (fuck 'em)\n",
      "Fuck them boys, they costin' us, they stalkin' us\n",
      "They know they old lady not runnin', they fall for us\n",
      "We so tired of takin' losses, ain't no more chalkin' us, I promise\n",
      "YSL on ape and they donkeys\n",
      "These niggas pointless, they want me wanted\n",
      "I'm still a stoner, MAC and cheese on me\n",
      "These niggas clonin', I'm full but I'm still hungry\n",
      "Hey when the click clock, I'll make your bitch stop\n",
      "Ice inside my tick tock, boss cookies, no brisco\n",
      "I just bought a Cuban link, flooded with big rocks\n",
      "Snitches tryna juug at me, I gotta dead sum\n",
      "Whoa, shit\n",
      "\n",
      "Shit, shoot him in his back like Ricky but not Slick\n",
      "Spent like seven bands on a tri-color pit\n",
      "All my signs red like a stop, nigga, no pit\n",
      "I'm on the purple, nigga, high like fuckin' Martians, whoa\n",
      "In a foreign yesterday, I was just walkin', whoa\n",
      "Left my baby mama, now my bitch a Barbie, whoa\n",
      "All-red Dickies suit, I'm ridin' down Slauson, whoa (skrt)\n",
      "Yeah, yeah, yeah, yeah\n",
      "Hercu-Hercules (whoa, yeah, yeah, hey, hey)\n",
      "Hercu-Hercules (heeh, heeh, yay, heeh, heeh)\n",
      "Hercu-Hercules (ooh, yah, yaaaaah, yeah, yeah)\n",
      "Hercu-Hercules (I got, I got, I got lean)\n",
      "\n",
      "Okay first of all, I was doin' this shit 'fore I was rich\n",
      "I don't care at all, I'll go do a dolphin for my clique\n",
      "Fuck your conference call, pull up with a check and get my sig\n",
      "Double D, you dig? No firework, it was lit\n",
      "And then some fuck nigga was hatin' on me\n",
      "They took ya life, I know some fuck niggas waitin' on it\n",
      "I grab that TEC, I grab that 40 and the F&N\n",
      "Then we pulled up ready to squabble, yeah we waited on 'em\n",
      "Anaconda, we on that slime stuff, here to remind ya\n",
      "Fucked your old lady, she want the finest\n",
      "YSL, we shinin', let her stand behind us\n",
      "Yeah my crew we rock, rock, baby you can climb us\n",
      "I call my migo, migo come and let me juug through the city\n",
      "He stuffed it with burritos and he let 'em fly right to me\n",
      "Bitches call me Casino but I let 'em ride 'round the city\n",
      "She want bingo, kilo, no sweat, now she can ride in the Bentley\n",
      "Whoa\n",
      "\n",
      "Shit, shoot him in his back like Ricky but not Slick\n",
      "Spent like seven bands on a tri-color pit\n",
      "All my signs red like a stop, nigga, no pit\n",
      "I'm on the purple, nigga, high like fuckin' Martians, whoa\n",
      "In a foreign yesterday, I was just walkin', whoa\n",
      "Left my baby mama, now my bitch a Barbie, whoa\n",
      "All-red Dickies suit, I'm ridin' down Slauson, whoa (skrt)\n",
      "Yeah, yeah, yeah, yeah\n",
      "Hercu-Hercules (whoa, yeah, yeah, hey, hey)\n",
      "Hercu-Hercules (heeh, heeh, yay, heeh, heeh)\n",
      "Hercu-Hercules (ooh, yah, yaaaaah, yeah, yeah)\n",
      "Hercu-Hercules (I got, I got, I got lean)\n",
      "\n",
      "Thugger Thugger said he have a brand new stick\n",
      "Thugger Thugger sittin' on some fashion shit\n",
      "Thugger Thugger still livin' like a boss\n",
      "YSL my team, my squad\n",
      "Metro Boomin want some more, nigga\n"
     ]
    }
   ],
   "source": [
    "test = get_lyrics('https://www.azlyrics.com/lyrics/youngthug/hercules.html')\n",
    "print(test)"
   ],
   "metadata": {
    "collapsed": false,
    "ExecuteTime": {
     "end_time": "2024-05-20T02:39:03.977570600Z",
     "start_time": "2024-05-20T02:39:01.705584900Z"
    }
   },
   "id": "a386ad40a870723f",
   "execution_count": 80
  }
 ],
 "metadata": {
  "kernelspec": {
   "display_name": "Python 3",
   "language": "python",
   "name": "python3"
  },
  "language_info": {
   "codemirror_mode": {
    "name": "ipython",
    "version": 2
   },
   "file_extension": ".py",
   "mimetype": "text/x-python",
   "name": "python",
   "nbconvert_exporter": "python",
   "pygments_lexer": "ipython2",
   "version": "2.7.6"
  }
 },
 "nbformat": 4,
 "nbformat_minor": 5
}
